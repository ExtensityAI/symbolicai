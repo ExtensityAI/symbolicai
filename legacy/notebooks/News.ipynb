{
 "cells": [
  {
   "attachments": {},
   "cell_type": "markdown",
   "metadata": {},
   "source": [
    "# SymbolicAI: Basics"
   ]
  },
  {
   "attachments": {},
   "cell_type": "markdown",
   "metadata": {},
   "source": [
    "### Get Imports"
   ]
  },
  {
   "cell_type": "code",
   "execution_count": 1,
   "metadata": {},
   "outputs": [],
   "source": [
    "import os\n",
    "import warnings\n",
    "warnings.filterwarnings('ignore')\n",
    "os.chdir('../') # set the working directory to the root of the project\n",
    "from symai import *\n",
    "from symai.components import *\n",
    "from IPython.display import display"
   ]
  },
  {
   "attachments": {},
   "cell_type": "markdown",
   "metadata": {},
   "source": [
    "## Handling large / long context lengths"
   ]
  },
  {
   "attachments": {},
   "cell_type": "markdown",
   "metadata": {},
   "source": [
    "We can create contextual prompts to define the semantic operations for our model. However, this takes away a lot of our context size and since the GPT-3 context length is limited to 4097 tokens, this might quickly become a problem. Luckily we can use the `Stream` processing expression. This expression opens up a data stream and computes the remaining context length for processing the input data. Then it chunks the sequence and computes the result for each chunk. The chunks can be processed with a `Sequence` expression, that allows multiple chained operations in a sequential manner.\n",
    "\n",
    "In the following example we show how we can extract news from a particular website and try to recombine all individual chunks again by clustering the information among the chunks and then recombining them. This gives us a way to consolidate contextually related information and recombine them in a meaningful way. Furthermore, the clustered information can then be labeled by looking / streaming through the values within the cluster and collecting the most relevant labels."
   ]
  },
  {
   "attachments": {},
   "cell_type": "markdown",
   "metadata": {},
   "source": [
    "<img src=\"../assets/images/img6.png\" width=\"720px\">"
   ]
  },
  {
   "attachments": {},
   "cell_type": "markdown",
   "metadata": {},
   "source": [
    "If we repeat this process, we now get a way of building up a hierarchical cluster with labels as entry points to allow information retrieval from our new data structure."
   ]
  },
  {
   "attachments": {},
   "cell_type": "markdown",
   "metadata": {},
   "source": [
    "To make manners more concrete, lets take a look at how to build up a news generator. Let us first start by importing some pre-defined string constants. These constants are used to define how the text is processed and how we desire the output to be formatted."
   ]
  },
  {
   "cell_type": "code",
   "execution_count": 2,
   "metadata": {},
   "outputs": [],
   "source": [
    "from examples.news import HEADER_STYLE_DESCRIPTION, HTML_TEMPLATE, HTML_STREAM_STYLE_DESCRIPTION"
   ]
  },
  {
   "attachments": {},
   "cell_type": "markdown",
   "metadata": {},
   "source": [
    "### News Generator"
   ]
  },
  {
   "attachments": {},
   "cell_type": "markdown",
   "metadata": {},
   "source": [
    "We sub-class the `Expression` class and define the `__init__` implementation. Similar to PyTorch we can define the graph in the `__init__` method and then call the `forward` method to compute the result. Afterwards, the data from the web URL is streamed through a `Sequence` of operations. This cleans the text from all the clutter such as `\\n`, `\\t`, etc. and then extracts the news from the text. \n",
    "The news are then filtered and re-composed. The resulting news texts are then clustered and the clusters are labeled. The labeled clusters are then recombined to return a rendered HTML format."
   ]
  },
  {
   "cell_type": "code",
   "execution_count": 3,
   "metadata": {},
   "outputs": [],
   "source": [
    "class News(Expression):\n",
    "    \"\"\"The `News` class sub-classes `Expression` and provides a way to fetch and render news from a given url. It uses a `Stream` object to process the news data, with a sequence of `Clean`, `Translate`, `Outline`, and `Compose` expressions.\n",
    "    It also defines a `Style` for the header, and a `Symbol` for the HTML templates.\n",
    "    \"\"\"\n",
    "    def __init__(self, url: str, pattern: str, filters: List[Expression] = [], render: bool = False, **kwargs):\n",
    "        \"\"\"The `News` class constructor requires three arguments - `url`, `pattern` and `filters`.\n",
    "        * `url` is a `str` containing the url to fetch the news from.\n",
    "        * `pattern` is a `str` containing the name of the search key to be found on the web page.\n",
    "        * `filters` is a `List[Expression]` containing any additional filters that should be applied to the news data.\n",
    "        It defaults to an empty list if not specified.\n",
    "        The `News` class also has an optional `render` argument which is a `bool` indicating whether the news should be rendered. It defaults to `False` if not specified.\n",
    "        \"\"\"\n",
    "        super().__init__(**kwargs)\n",
    "        self.url = url\n",
    "        self.pattern = pattern\n",
    "        self.render_ = render\n",
    "        self.crawler = Interface('selenium')\n",
    "        filters = filters if isinstance(filters, List) or isinstance(filters, tuple) else [filters]\n",
    "        self.data_stream = Stream(Sequence(\n",
    "            Clean(),\n",
    "            Translate(),\n",
    "            Outline(),\n",
    "            *filters,\n",
    "            Compose(f'Compose news paragraphs. Combine only facts that belong topic-wise together:\\n'),\n",
    "        ))\n",
    "        self.header_style = Style(description=HEADER_STYLE_DESCRIPTION,\n",
    "                                  libraries=['https://cdn.jsdelivr.net/npm/bootstrap@5.2.3/dist/css/bootstrap.min.css',\n",
    "                                             'https://cdn.jsdelivr.net/npm/bootstrap@5.2.3/dist/js/bootstrap.bundle.min.js',\n",
    "                                             'https://ajax.googleapis.com/ajax/libs/jquery/3.6.1/jquery.min.js'])\n",
    "\n",
    "        self.html_template = Symbol(HTML_TEMPLATE)\n",
    "        self.html_template_seq = Template()\n",
    "        self.html_stream = Stream(\n",
    "            Sequence(\n",
    "                self.html_template_seq,\n",
    "                Style(description=HTML_STREAM_STYLE_DESCRIPTION)\n",
    "            )\n",
    "        )\n",
    "\n",
    "    def render(self, sym: Symbol) -> Symbol:\n",
    "        \"\"\"The `render` method takes a `Symbol` as an argument and returns a `Symbol` containing the rendered news.\n",
    "        It first sets the `html_template_seq` property of the `html_stream` to the result of applying the `header_style` to the `html_template`.\n",
    "        It then iterates through the `data_stream` and collects the strings resulting from each expression.\n",
    "        These strings are combined into a single `Symbol` object which is then clustered.\n",
    "        Finally, the `render` method applies the `html_template` to the clustered `Symbol` and returns the result.\n",
    "        \"\"\"\n",
    "        tmp = self.header_style(self.html_template)\n",
    "        self.html_template_seq.template_ = str(tmp)\n",
    "        res = '\\n'.join([str(s) for s in self.html_stream(sym)])\n",
    "        res = Symbol(str(tmp).replace('{{placeholder}}', res))\n",
    "        return res\n",
    "\n",
    "    def forward(self) -> Symbol:\n",
    "        \"\"\"The `forward` method is used to fetch and process the news data.\n",
    "        It first calls the `fetch` method with the `url` and `pattern` arguments.\n",
    "        It then iterates through the `data_stream` and collects the `Symbol` object resulting from each expression.\n",
    "        These `Symbol` objects are then combined into a single `Symbol` object which is then mapped.\n",
    "        If `render` is `False`, the mapped `Symbol` is returned. Otherwise, the `render` method is called with the `Symbol` and the resulting `Symbol` is returned.\n",
    "        \"\"\"\n",
    "        res = self.crawler(url=self.url, pattern=self.pattern)\n",
    "        vals = []\n",
    "        for news in self.data_stream(res):\n",
    "            vals.append(str(news))\n",
    "        res = Symbol(vals).cluster()\n",
    "        sym = res.map()\n",
    "        if not self.render_:\n",
    "            return sym\n",
    "        return self.render(sym)"
   ]
  },
  {
   "attachments": {},
   "cell_type": "markdown",
   "metadata": {},
   "source": [
    "Here you can try the news generator:"
   ]
  },
  {
   "cell_type": "code",
   "execution_count": 4,
   "metadata": {},
   "outputs": [],
   "source": [
    "# crawling the website and creating an own website based on its facts\n",
    "news = News(url='https://www.cnbc.com/cybersecurity/',\n",
    "            pattern='cnbc',\n",
    "            filters=ExcludeFilter('sentences about subscriptions, licensing, newsletter'),\n",
    "            render=True)"
   ]
  },
  {
   "attachments": {},
   "cell_type": "markdown",
   "metadata": {},
   "source": [
    "Since the generative process will evaluate multiple expression, we can use the `Trace` and `Log` classes to keep track of what is happening. "
   ]
  },
  {
   "cell_type": "code",
   "execution_count": 5,
   "metadata": {},
   "outputs": [
    {
     "name": "stderr",
     "output_type": "stream",
     "text": [
      "2023-12-01 00:20:34,771 ====== WebDriver manager ======\n",
      "2023-12-01 00:20:35,096 Get LATEST chromedriver version for google-chrome\n",
      "2023-12-01 00:20:35,178 Get LATEST chromedriver version for google-chrome\n",
      "2023-12-01 00:20:35,224 Get LATEST chromedriver version for google-chrome\n",
      "2023-12-01 00:20:35,312 WebDriver version 119.0.6045.105 selected\n",
      "2023-12-01 00:20:35,314 Modern chrome version https://edgedl.me.gvt1.com/edgedl/chrome/chrome-for-testing/119.0.6045.105/mac-x64/chromedriver-mac-x64.zip\n",
      "2023-12-01 00:20:35,314 About to download new driver from https://edgedl.me.gvt1.com/edgedl/chrome/chrome-for-testing/119.0.6045.105/mac-x64/chromedriver-mac-x64.zip\n",
      "2023-12-01 00:20:35,465 Driver downloading response is 200\n",
      "2023-12-01 00:20:35,897 Get LATEST chromedriver version for google-chrome\n",
      "2023-12-01 00:20:36,039 Driver has been saved in cache [/Users/xpitfire/.wdm/drivers/chromedriver/mac64/119.0.6045.105]\n"
     ]
    },
    {
     "ename": "AttributeError",
     "evalue": "'Symbol' object has no attribute 'map'",
     "output_type": "error",
     "traceback": [
      "\u001b[0;31m---------------------------------------------------------------------------\u001b[0m",
      "\u001b[0;31mAttributeError\u001b[0m                            Traceback (most recent call last)",
      "\u001b[1;32m/Users/xpitfire/workspace/symbolicai/notebooks/News.ipynb Cell 16\u001b[0m line \u001b[0;36m2\n\u001b[1;32m      <a href='vscode-notebook-cell:/Users/xpitfire/workspace/symbolicai/notebooks/News.ipynb#X21sZmlsZQ%3D%3D?line=0'>1</a>\u001b[0m expr \u001b[39m=\u001b[39m Log(Trace(news))\n\u001b[0;32m----> <a href='vscode-notebook-cell:/Users/xpitfire/workspace/symbolicai/notebooks/News.ipynb#X21sZmlsZQ%3D%3D?line=1'>2</a>\u001b[0m res \u001b[39m=\u001b[39m expr()\n\u001b[1;32m      <a href='vscode-notebook-cell:/Users/xpitfire/workspace/symbolicai/notebooks/News.ipynb#X21sZmlsZQ%3D%3D?line=2'>3</a>\u001b[0m os\u001b[39m.\u001b[39mmakedirs(\u001b[39m'\u001b[39m\u001b[39mresults\u001b[39m\u001b[39m'\u001b[39m, exist_ok\u001b[39m=\u001b[39m\u001b[39mTrue\u001b[39;00m)\n\u001b[1;32m      <a href='vscode-notebook-cell:/Users/xpitfire/workspace/symbolicai/notebooks/News.ipynb#X21sZmlsZQ%3D%3D?line=3'>4</a>\u001b[0m path \u001b[39m=\u001b[39m os\u001b[39m.\u001b[39mpath\u001b[39m.\u001b[39mabspath(\u001b[39m'\u001b[39m\u001b[39mresults/news.html\u001b[39m\u001b[39m'\u001b[39m)\n",
      "File \u001b[0;32m~/workspace/symbolicai/symai/symbol.py:941\u001b[0m, in \u001b[0;36mExpression.__call__\u001b[0;34m(self, *args, **kwargs)\u001b[0m\n\u001b[1;32m    930\u001b[0m \u001b[39mdef\u001b[39;00m \u001b[39m__call__\u001b[39m(\u001b[39mself\u001b[39m, \u001b[39m*\u001b[39margs, \u001b[39m*\u001b[39m\u001b[39m*\u001b[39mkwargs) \u001b[39m-\u001b[39m\u001b[39m>\u001b[39m Any:\n\u001b[1;32m    931\u001b[0m \u001b[39m    \u001b[39m\u001b[39m'''\u001b[39;00m\n\u001b[1;32m    932\u001b[0m \u001b[39m    Evaluate the expression using the forward method and assign the result to the value attribute.\u001b[39;00m\n\u001b[1;32m    933\u001b[0m \n\u001b[0;32m   (...)\u001b[0m\n\u001b[1;32m    939\u001b[0m \u001b[39m        Any: The result of the forward method.\u001b[39;00m\n\u001b[1;32m    940\u001b[0m \u001b[39m    '''\u001b[39;00m\n\u001b[0;32m--> 941\u001b[0m     \u001b[39mreturn\u001b[39;00m \u001b[39mself\u001b[39;49m\u001b[39m.\u001b[39;49mforward(\u001b[39m*\u001b[39;49margs, \u001b[39m*\u001b[39;49m\u001b[39m*\u001b[39;49mkwargs)\n",
      "File \u001b[0;32m~/workspace/symbolicai/symai/components.py:198\u001b[0m, in \u001b[0;36mLog.forward\u001b[0;34m(self, *args, **kwargs)\u001b[0m\n\u001b[1;32m    196\u001b[0m \u001b[39mdef\u001b[39;00m \u001b[39mforward\u001b[39m(\u001b[39mself\u001b[39m, \u001b[39m*\u001b[39margs, \u001b[39m*\u001b[39m\u001b[39m*\u001b[39mkwargs) \u001b[39m-\u001b[39m\u001b[39m>\u001b[39m Expression:\n\u001b[1;32m    197\u001b[0m     Expression\u001b[39m.\u001b[39mcommand(logging\u001b[39m=\u001b[39m\u001b[39mTrue\u001b[39;00m, engines\u001b[39m=\u001b[39m\u001b[39mself\u001b[39m\u001b[39m.\u001b[39mengines)\n\u001b[0;32m--> 198\u001b[0m     res \u001b[39m=\u001b[39m \u001b[39mself\u001b[39;49m\u001b[39m.\u001b[39;49mexpr(\u001b[39m*\u001b[39;49margs, \u001b[39m*\u001b[39;49m\u001b[39m*\u001b[39;49mkwargs)\n\u001b[1;32m    199\u001b[0m     Expression\u001b[39m.\u001b[39mcommand(logging\u001b[39m=\u001b[39m\u001b[39mFalse\u001b[39;00m, engines\u001b[39m=\u001b[39m\u001b[39mself\u001b[39m\u001b[39m.\u001b[39mengines)\n\u001b[1;32m    200\u001b[0m     \u001b[39mreturn\u001b[39;00m res\n",
      "File \u001b[0;32m~/workspace/symbolicai/symai/symbol.py:941\u001b[0m, in \u001b[0;36mExpression.__call__\u001b[0;34m(self, *args, **kwargs)\u001b[0m\n\u001b[1;32m    930\u001b[0m \u001b[39mdef\u001b[39;00m \u001b[39m__call__\u001b[39m(\u001b[39mself\u001b[39m, \u001b[39m*\u001b[39margs, \u001b[39m*\u001b[39m\u001b[39m*\u001b[39mkwargs) \u001b[39m-\u001b[39m\u001b[39m>\u001b[39m Any:\n\u001b[1;32m    931\u001b[0m \u001b[39m    \u001b[39m\u001b[39m'''\u001b[39;00m\n\u001b[1;32m    932\u001b[0m \u001b[39m    Evaluate the expression using the forward method and assign the result to the value attribute.\u001b[39;00m\n\u001b[1;32m    933\u001b[0m \n\u001b[0;32m   (...)\u001b[0m\n\u001b[1;32m    939\u001b[0m \u001b[39m        Any: The result of the forward method.\u001b[39;00m\n\u001b[1;32m    940\u001b[0m \u001b[39m    '''\u001b[39;00m\n\u001b[0;32m--> 941\u001b[0m     \u001b[39mreturn\u001b[39;00m \u001b[39mself\u001b[39;49m\u001b[39m.\u001b[39;49mforward(\u001b[39m*\u001b[39;49margs, \u001b[39m*\u001b[39;49m\u001b[39m*\u001b[39;49mkwargs)\n",
      "File \u001b[0;32m~/workspace/symbolicai/symai/components.py:164\u001b[0m, in \u001b[0;36mTrace.forward\u001b[0;34m(self, *args, **kwargs)\u001b[0m\n\u001b[1;32m    162\u001b[0m \u001b[39mdef\u001b[39;00m \u001b[39mforward\u001b[39m(\u001b[39mself\u001b[39m, \u001b[39m*\u001b[39margs, \u001b[39m*\u001b[39m\u001b[39m*\u001b[39mkwargs) \u001b[39m-\u001b[39m\u001b[39m>\u001b[39m Expression:\n\u001b[1;32m    163\u001b[0m     Expression\u001b[39m.\u001b[39mcommand(verbose\u001b[39m=\u001b[39m\u001b[39mTrue\u001b[39;00m, engines\u001b[39m=\u001b[39m\u001b[39mself\u001b[39m\u001b[39m.\u001b[39mengines)\n\u001b[0;32m--> 164\u001b[0m     res \u001b[39m=\u001b[39m \u001b[39mself\u001b[39;49m\u001b[39m.\u001b[39;49mexpr(\u001b[39m*\u001b[39;49margs, \u001b[39m*\u001b[39;49m\u001b[39m*\u001b[39;49mkwargs)\n\u001b[1;32m    165\u001b[0m     Expression\u001b[39m.\u001b[39mcommand(verbose\u001b[39m=\u001b[39m\u001b[39mFalse\u001b[39;00m, engines\u001b[39m=\u001b[39m\u001b[39mself\u001b[39m\u001b[39m.\u001b[39mengines)\n\u001b[1;32m    166\u001b[0m     \u001b[39mreturn\u001b[39;00m res\n",
      "File \u001b[0;32m~/workspace/symbolicai/symai/symbol.py:941\u001b[0m, in \u001b[0;36mExpression.__call__\u001b[0;34m(self, *args, **kwargs)\u001b[0m\n\u001b[1;32m    930\u001b[0m \u001b[39mdef\u001b[39;00m \u001b[39m__call__\u001b[39m(\u001b[39mself\u001b[39m, \u001b[39m*\u001b[39margs, \u001b[39m*\u001b[39m\u001b[39m*\u001b[39mkwargs) \u001b[39m-\u001b[39m\u001b[39m>\u001b[39m Any:\n\u001b[1;32m    931\u001b[0m \u001b[39m    \u001b[39m\u001b[39m'''\u001b[39;00m\n\u001b[1;32m    932\u001b[0m \u001b[39m    Evaluate the expression using the forward method and assign the result to the value attribute.\u001b[39;00m\n\u001b[1;32m    933\u001b[0m \n\u001b[0;32m   (...)\u001b[0m\n\u001b[1;32m    939\u001b[0m \u001b[39m        Any: The result of the forward method.\u001b[39;00m\n\u001b[1;32m    940\u001b[0m \u001b[39m    '''\u001b[39;00m\n\u001b[0;32m--> 941\u001b[0m     \u001b[39mreturn\u001b[39;00m \u001b[39mself\u001b[39;49m\u001b[39m.\u001b[39;49mforward(\u001b[39m*\u001b[39;49margs, \u001b[39m*\u001b[39;49m\u001b[39m*\u001b[39;49mkwargs)\n",
      "\u001b[1;32m/Users/xpitfire/workspace/symbolicai/notebooks/News.ipynb Cell 16\u001b[0m line \u001b[0;36m6\n\u001b[1;32m     <a href='vscode-notebook-cell:/Users/xpitfire/workspace/symbolicai/notebooks/News.ipynb#X21sZmlsZQ%3D%3D?line=62'>63</a>\u001b[0m     vals\u001b[39m.\u001b[39mappend(\u001b[39mstr\u001b[39m(news))\n\u001b[1;32m     <a href='vscode-notebook-cell:/Users/xpitfire/workspace/symbolicai/notebooks/News.ipynb#X21sZmlsZQ%3D%3D?line=63'>64</a>\u001b[0m res \u001b[39m=\u001b[39m Symbol(vals)\u001b[39m.\u001b[39mcluster()\n\u001b[0;32m---> <a href='vscode-notebook-cell:/Users/xpitfire/workspace/symbolicai/notebooks/News.ipynb#X21sZmlsZQ%3D%3D?line=64'>65</a>\u001b[0m sym \u001b[39m=\u001b[39m res\u001b[39m.\u001b[39;49mmap()\n\u001b[1;32m     <a href='vscode-notebook-cell:/Users/xpitfire/workspace/symbolicai/notebooks/News.ipynb#X21sZmlsZQ%3D%3D?line=65'>66</a>\u001b[0m \u001b[39mif\u001b[39;00m \u001b[39mnot\u001b[39;00m \u001b[39mself\u001b[39m\u001b[39m.\u001b[39mrender_:\n\u001b[1;32m     <a href='vscode-notebook-cell:/Users/xpitfire/workspace/symbolicai/notebooks/News.ipynb#X21sZmlsZQ%3D%3D?line=66'>67</a>\u001b[0m     \u001b[39mreturn\u001b[39;00m sym\n",
      "\u001b[0;31mAttributeError\u001b[0m: 'Symbol' object has no attribute 'map'"
     ]
    }
   ],
   "source": [
    "expr = Log(Trace(news))\n",
    "res = expr()\n",
    "os.makedirs('results', exist_ok=True)\n",
    "path = os.path.abspath('results/news.html')\n",
    "res.save(path, replace=False)"
   ]
  },
  {
   "attachments": {},
   "cell_type": "markdown",
   "metadata": {},
   "source": [
    "## Streaming over a PDF File"
   ]
  },
  {
   "attachments": {},
   "cell_type": "markdown",
   "metadata": {},
   "source": [
    "Another example is to read in a PDF file and extract the text from it to create a website based on its content."
   ]
  },
  {
   "cell_type": "code",
   "execution_count": null,
   "metadata": {},
   "outputs": [],
   "source": [
    "from ..examples.paper import Paper"
   ]
  },
  {
   "attachments": {},
   "cell_type": "markdown",
   "metadata": {},
   "source": [
    "The process is fairly similar to the news generator. We first read in the PDF file and then stream the text through a sequence of operations. The text is then cleaned and the sentences are extracted. The sentences are then clustered and labeled. The labeled clusters are then recombined to return a rendered HTML format."
   ]
  },
  {
   "cell_type": "code",
   "execution_count": null,
   "metadata": {},
   "outputs": [],
   "source": [
    "paper = Paper(path='examples/paper.pdf')\n",
    "expr = Log(Trace(paper))\n",
    "res = expr(slice=(1, 1))\n",
    "os.makedirs('results', exist_ok=True)\n",
    "path = os.path.abspath('results/news.html')\n",
    "res.save(path, replace=False)"
   ]
  },
  {
   "cell_type": "code",
   "execution_count": null,
   "metadata": {},
   "outputs": [],
   "source": []
  }
 ],
 "metadata": {
  "kernelspec": {
   "display_name": "continualrl",
   "language": "python",
   "name": "python3"
  },
  "language_info": {
   "codemirror_mode": {
    "name": "ipython",
    "version": 3
   },
   "file_extension": ".py",
   "mimetype": "text/x-python",
   "name": "python",
   "nbconvert_exporter": "python",
   "pygments_lexer": "ipython3",
   "version": "3.10.13"
  },
  "orig_nbformat": 4,
  "vscode": {
   "interpreter": {
    "hash": "7f6e76e437f50039fcb1dabeb26a40fb80edddddd3448a5d408bb52a844f2e97"
   }
  }
 },
 "nbformat": 4,
 "nbformat_minor": 2
}
