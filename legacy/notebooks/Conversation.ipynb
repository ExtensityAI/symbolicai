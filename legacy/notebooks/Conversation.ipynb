{
 "cells": [
  {
   "cell_type": "code",
   "execution_count": 1,
   "metadata": {},
   "outputs": [],
   "source": [
    "from symai.components import FileReader, JsonParser"
   ]
  },
  {
   "cell_type": "code",
   "execution_count": 2,
   "metadata": {},
   "outputs": [],
   "source": [
    "reader = FileReader()\n",
    "code = reader('/Users/xpitfire/workspace/symbolicai/symai/constraints.py')"
   ]
  },
  {
   "cell_type": "code",
   "execution_count": 3,
   "metadata": {},
   "outputs": [],
   "source": [
    "parser = JsonParser(\"Extract all class methods:\", {'methods': [\n",
    "    {'name': 'command', 'params': ['params']},\n",
    "    {'name': 'forward', 'params': ['*args', '**kwargs']},\n",
    "]})"
   ]
  },
  {
   "cell_type": "code",
   "execution_count": 4,
   "metadata": {},
   "outputs": [],
   "source": [
    "res = parser(code)"
   ]
  },
  {
   "cell_type": "code",
   "execution_count": 5,
   "metadata": {},
   "outputs": [
    {
     "data": {
      "text/html": [
       "{'methods': [{'name': '__init__', 'params': ['format']}, {'name': '__call__', 'params': ['input']}, {'name': 'check_keys', 'params': ['json_format', 'gen_dict']}]}"
      ],
      "text/plain": [
       "<class 'symai.symbol.Symbol'>(value={'methods': [{'name': '__init__', 'params': ['format']}, {'name': '__call__', 'params': ['input']}, {'name': 'check_keys', 'params': ['json_format', 'gen_dict']}]})"
      ]
     },
     "execution_count": 5,
     "metadata": {},
     "output_type": "execute_result"
    }
   ],
   "source": [
    "res"
   ]
  },
  {
   "cell_type": "code",
   "execution_count": 6,
   "metadata": {},
   "outputs": [],
   "source": [
    "from symai.extended import FileMerger"
   ]
  },
  {
   "cell_type": "code",
   "execution_count": 7,
   "metadata": {},
   "outputs": [],
   "source": [
    "merger = FileMerger()"
   ]
  },
  {
   "cell_type": "code",
   "execution_count": 8,
   "metadata": {},
   "outputs": [
    {
     "name": "stderr",
     "output_type": "stream",
     "text": [
      "Reading file: ...: 0it [00:00, ?it/s]\n"
     ]
    }
   ],
   "source": [
    "merged = merger('<path_to_dir>')"
   ]
  },
  {
   "cell_type": "code",
   "execution_count": 9,
   "metadata": {},
   "outputs": [
    {
     "data": {
      "text/html": [],
      "text/plain": [
       "<class 'symai.symbol.Symbol'>(value=)"
      ]
     },
     "execution_count": 9,
     "metadata": {},
     "output_type": "execute_result"
    }
   ],
   "source": [
    "merged"
   ]
  },
  {
   "cell_type": "code",
   "execution_count": 10,
   "metadata": {},
   "outputs": [
    {
     "name": "stdout",
     "output_type": "stream",
     "text": [
      "Configuration file: /Users/xpitfire/.symai/symai.config.json\n",
      "Module 'ExtensityAI/timezone' already installed.\n"
     ]
    }
   ],
   "source": [
    "# install symai package for timezone conversion\n",
    "!sympkg i ExtensityAI/timezone"
   ]
  },
  {
   "cell_type": "code",
   "execution_count": 11,
   "metadata": {},
   "outputs": [],
   "source": [
    "from symai import Conversation"
   ]
  },
  {
   "cell_type": "code",
   "execution_count": 12,
   "metadata": {},
   "outputs": [],
   "source": [
    "conv = Conversation(file_link='/Users/xpitfire/.symai/packages/ExtensityAI/timezone/src/func.py')"
   ]
  },
  {
   "cell_type": "code",
   "execution_count": 13,
   "metadata": {},
   "outputs": [
    {
     "name": "stdout",
     "output_type": "stream",
     "text": [
      "The given Python code defines an `Expression` class called `Timezone`, which is a subclass of the `Expression` class (presumed to be part of the `symai` library, which is not a publicly documented library at the time of this writing). The `Timezone` class contains methods and data that allows it to handle time zone conversions based on a provided country code or time zone identifier. Here's a step-by-step explanation of the key elements in the code:\n",
      "\n",
      "1. **Imports and Constants**: The code imports necessary modules such as `symai`, `numpy` as `np`, and `SequenceMatcher` from `difflib`. `FUNCTION_DESCRIPTION` is a string literal describing the purpose of the function, which is to convert between time zones. Similarly, `COUNTRY_TIME_TABLE` provides a detailed table with country codes, corresponding time zones, offsets, and other related data.\n",
      "\n",
      "2. **Timezone Class**:\n",
      "   - The `Timezone` class inherits from `Expression`.\n",
      "   - A new instance of `Timezone` initializes a `Function` with `FUNCTION_DESCRIPTION`, which appears to describe what the function does (time zone conversions).\n",
      " \n",
      "3. **find_substring Method**:\n",
      "   - This method takes a country name string as its parameter. \n",
      "   - It splits the `COUNTRY_TIME_TABLE` string by newline characters, converting each line to lowercase.\n",
      "   - It then calculates the similarity ratios between the provided country name (converted to lowercase) and each time zone entry in the table using the `SequenceMatcher`.\n",
      "   - The method returns a dictionary where each key is a time zone entry, and each corresponding value is the similarity ratio.\n",
      "\n",
      "4. **forward Method**:\n",
      "   - This is the main method to calculate the result based on the user's request.\n",
      "   - The `request` parameter is converted to a `Symbol` to standardize the input.\n",
      "   - The `extract` method is called on the `request` to retrieve the country name for which the time zone conversion is needed.\n",
      "   - A `similarities` dictionary is created using the `find_substring` method, keyed by time zone entries with respective similarity ratios.\n",
      "   - It then gets the top 'k' similar time zones sorted in descending order based on their similarity ratios.\n",
      "   - A data string is constructed with the top 'k' time zones, and the original `request`.\n",
      "   - The method calls the `fn` function (which presumably performs the actual conversion operation) with this data and any additional arguments or keyword arguments.\n",
      "\n",
      "Given the code structure, it appears designed to work with a system for handling user requests (presumably related to time zone conversions), where the user's input (\"extract the target timezone or country\") would be received, processed, and used to find relevant time zones that closely match the user-provided country or time zone. The actual conversion logic, however, seems to be handled outside of this code snippet, within the `Function` object initialized with the `FUNCTION_DESCRIPTION` content.\n"
     ]
    }
   ],
   "source": [
    "conv('Explain the Expression');"
   ]
  },
  {
   "cell_type": "code",
   "execution_count": null,
   "metadata": {},
   "outputs": [],
   "source": []
  }
 ],
 "metadata": {
  "kernelspec": {
   "display_name": "symai",
   "language": "python",
   "name": "python3"
  },
  "language_info": {
   "codemirror_mode": {
    "name": "ipython",
    "version": 3
   },
   "file_extension": ".py",
   "mimetype": "text/x-python",
   "name": "python",
   "nbconvert_exporter": "python",
   "pygments_lexer": "ipython3",
   "version": "3.10.13"
  },
  "orig_nbformat": 4
 },
 "nbformat": 4,
 "nbformat_minor": 2
}
