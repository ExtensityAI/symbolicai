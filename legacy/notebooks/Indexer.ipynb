{
 "cells": [
  {
   "cell_type": "code",
   "execution_count": 1,
   "metadata": {},
   "outputs": [],
   "source": [
    "from symai.components import *\n",
    "from symai.backend.mixin.tracker import OpenAICostTracker\n",
    "from symai import *"
   ]
  },
  {
   "cell_type": "code",
   "execution_count": 3,
   "metadata": {},
   "outputs": [],
   "source": [
    "expr = Expression()"
   ]
  },
  {
   "cell_type": "code",
   "execution_count": 4,
   "metadata": {},
   "outputs": [],
   "source": [
    "class FuncDemo(Expression):\n",
    "    def forward(self, data: Symbol, **kwargs):\n",
    "        @core.query(context='Do some fancy decoration of sentences.')\n",
    "        def _func(_, data, **kwargs):\n",
    "            pass\n",
    "        return _func(self, data, **kwargs)"
   ]
  },
  {
   "cell_type": "code",
   "execution_count": 5,
   "metadata": {},
   "outputs": [],
   "source": [
    "leo_func = FuncDemo()"
   ]
  },
  {
   "cell_type": "code",
   "execution_count": 6,
   "metadata": {},
   "outputs": [
    {
     "data": {
      "text/html": [
       "Data:\n",
       "\n",
       "Context: Do some fancy decoration of sentences.\n",
       "Answer:"
      ],
      "text/plain": [
       "<class symai.core.Argument at 0x7f95b187ec20>(value=Data:\n",
       "\n",
       "Context: Do some fancy decoration of sentences.\n",
       "Answer:)"
      ]
     },
     "execution_count": 6,
     "metadata": {},
     "output_type": "execute_result"
    }
   ],
   "source": [
    "res = leo_func('Test', preview=True)\n",
    "res"
   ]
  },
  {
   "cell_type": "code",
   "execution_count": 7,
   "metadata": {},
   "outputs": [
    {
     "name": "stderr",
     "output_type": "stream",
     "text": [
      "2023-11-30 22:15:07,833 ====== WebDriver manager ======\n",
      "2023-11-30 22:15:07,833 ====== WebDriver manager ======\n",
      "2023-11-30 22:15:07,833 ====== WebDriver manager ======\n",
      "2023-11-30 22:15:07,833 ====== WebDriver manager ======\n",
      "2023-11-30 22:15:08,121 Get LATEST chromedriver version for google-chrome\n",
      "2023-11-30 22:15:08,121 Get LATEST chromedriver version for google-chrome\n",
      "2023-11-30 22:15:08,121 Get LATEST chromedriver version for google-chrome\n",
      "2023-11-30 22:15:08,121 Get LATEST chromedriver version for google-chrome\n",
      "2023-11-30 22:15:08,183 Get LATEST chromedriver version for google-chrome\n",
      "2023-11-30 22:15:08,183 Get LATEST chromedriver version for google-chrome\n",
      "2023-11-30 22:15:08,183 Get LATEST chromedriver version for google-chrome\n",
      "2023-11-30 22:15:08,183 Get LATEST chromedriver version for google-chrome\n",
      "2023-11-30 22:15:08,229 Driver [/Users/xpitfire/.wdm/drivers/chromedriver/mac64/119.0.6045.105/chromedriver-mac-x64/chromedriver] found in cache\n",
      "2023-11-30 22:15:08,229 Driver [/Users/xpitfire/.wdm/drivers/chromedriver/mac64/119.0.6045.105/chromedriver-mac-x64/chromedriver] found in cache\n",
      "2023-11-30 22:15:08,229 Driver [/Users/xpitfire/.wdm/drivers/chromedriver/mac64/119.0.6045.105/chromedriver-mac-x64/chromedriver] found in cache\n",
      "2023-11-30 22:15:08,229 Driver [/Users/xpitfire/.wdm/drivers/chromedriver/mac64/119.0.6045.105/chromedriver-mac-x64/chromedriver] found in cache\n"
     ]
    },
    {
     "data": {
      "text/plain": [
       "'Zum'"
      ]
     },
     "execution_count": 7,
     "metadata": {},
     "output_type": "execute_result"
    }
   ],
   "source": [
    "crawler = Interface('selenium') # load selenium interface\n",
    "website = crawler('https://www.orf.at'); # load page\n",
    "website.value[:100] # preview"
   ]
  },
  {
   "cell_type": "code",
   "execution_count": 8,
   "metadata": {},
   "outputs": [],
   "source": [
    "from symai.extended import RepositoryCloner\n",
    "cloner = RepositoryCloner() # load repository cloner"
   ]
  },
  {
   "cell_type": "code",
   "execution_count": 9,
   "metadata": {},
   "outputs": [
    {
     "name": "stdout",
     "output_type": "stream",
     "text": [
      "Repository quam already exists. Checking for updates...\n",
      "Repository quam is up-to-date.\n"
     ]
    },
    {
     "data": {
      "text/plain": [
       "'/Users/xpitfire/.symai/repos/quam'"
      ]
     },
     "execution_count": 9,
     "metadata": {},
     "output_type": "execute_result"
    }
   ],
   "source": [
    "cloner('https://github.com/ml-jku/quam')"
   ]
  },
  {
   "cell_type": "code",
   "execution_count": 8,
   "metadata": {},
   "outputs": [],
   "source": [
    "tracker = OpenAICostTracker() # load openai cost tracker\n",
    "usage = TokenTracker() # load token tracker"
   ]
  },
  {
   "cell_type": "code",
   "execution_count": 11,
   "metadata": {},
   "outputs": [],
   "source": [
    "with tracker: # track the cost using OpenAI API\n",
    "    conv = Conversation(file_link='/Users/xpitfire/workspace/symbolicai/symai/extended/repo_cloner.py') # create conversation"
   ]
  },
  {
   "cell_type": "code",
   "execution_count": 14,
   "metadata": {},
   "outputs": [
    {
     "name": "stdout",
     "output_type": "stream",
     "text": [
      "Below is a Python class that includes a method to clone a repository from a given URL using the `git` command-line tool. The class makes use of the subprocess module to execute the `git clone` command. I have also included Python docstrings for documentation.\n",
      "\n",
      "```python\n",
      "import subprocess\n",
      "from typing import Optional\n",
      "\n",
      "class GitRepositoryCloner:\n",
      "    \"\"\"\n",
      "    A utility class to clone Git repositories using the `git` command-line tool.\n",
      "    \"\"\"\n",
      "    \n",
      "    @staticmethod\n",
      "    def clone_repository(repo_url: str, clone_directory: Optional[str] = None) -> bool:\n",
      "        \"\"\"\n",
      "        Clone a Git repository from the given URL into the specified directory.\n",
      "\n",
      "        :param repo_url: The URL of the repository to clone.\n",
      "        :param clone_directory: Optional destination directory for the cloned repo.\n",
      "                                If not provided, uses the default git behavior which\n",
      "                                is to create a directory named after the repo under\n",
      "                                the current working directory.\n",
      "        :return: True if the repository was successfully cloned, False otherwise.\n",
      "        \"\"\"\n",
      "        # Command composition\n",
      "        clone_command = [\"git\", \"clone\", repo_url]\n",
      "        if clone_directory:\n",
      "            clone_command.append(clone_directory)\n",
      "\n",
      "        try:\n",
      "            # Execute the git clone command\n",
      "            subprocess.run(clone_command, check=True)\n",
      "            return True\n",
      "        except subprocess.CalledProcessError:\n",
      "            # The command failed\n",
      "            return False\n",
      "\n",
      "# Example Usage:\n",
      "\n",
      "# Assuming you want to clone the repository to the current working directory\n",
      "# without specifying a directory name:\n",
      "cloner = GitRepositoryCloner()\n",
      "result = cloner.clone_repository(\"https://github.com/exampleuser/example-repo.git\")\n",
      "print(\"Repository cloned successfully.\" if result else \"Failed to clone repository.\")\n",
      "```\n",
      "\n",
      "This class defines a method `clone_repository` that takes a repository URL and an optional directory name as arguments. If cloning succeeds, it returns `True`; if it fails (e.g., because of an invalid repository URL, lack of internet connection, or insufficient permissions), it returns `False`. The subprocess `run` method executes the git command and raises a `CalledProcessError` if the git process exits with a non-zero status, which is caught and results in a return value of `False`.\n",
      "\n",
      "Please ensure that the environment where you execute this code has `git` installed and accessible from the command line. Also, remember that the `clone_directory` argument is optional. If not provided, git will clone the repository into a new directory with the same name as the repository under the current working directory.\n",
      "\n",
      "\n",
      "================\n",
      "[Used tokens: 0.00%]\n",
      "================\n",
      "\n",
      "\n",
      "\n",
      "================\n",
      "[Used tokens: 0.66%]\n",
      "================\n",
      "\n"
     ]
    }
   ],
   "source": [
    "with usage: # track the token usage how much we can converse without cutting off\n",
    "    conv(f\"Implement the code missing in the class to clone a repository based on an URL. Also write proper Python documentation.\") # query the conversation expression"
   ]
  },
  {
   "cell_type": "code",
   "execution_count": 1,
   "metadata": {},
   "outputs": [
    {
     "name": "stdout",
     "output_type": "stream",
     "text": [
      "The contents provided seem to suggest a request to retrieve data from a generator object, but no specific pseudo algorithm is available to base the Python code on. Generator objects in Python are created by functions that yield values instead of returning a final value.\n",
      "\n",
      "If you were asking to generate Python code from a pseudo algorithm to retrieve the next value from a generator object, the code could look something like this:\n",
      "\n",
      "```python\n",
      "# Assuming 'gen_object' is the generator object that we need to retrieve values from\n",
      "\n",
      "# Create the generator object (for illustration purposes)\n",
      "def sample_generator():\n",
      "    for i in range(3):\n",
      "        yield i\n",
      "\n",
      "# Replace the above 'sample_generator' with the actual generator creation logic\n",
      "gen_object = sample_generator()\n",
      "\n",
      "# Retrieve the next value from the generator object\n",
      "try:\n",
      "    next_value = next(gen_object)\n",
      "    print(f\"The next value from the generator object is: {next_value}\")\n",
      "except StopIteration:\n",
      "    print(\"The generator has no more items.\")\n",
      "```\n",
      "\n",
      "However, since the specific pseudo algorithm details are missing, I can't provide an exact translation to Python code. Please provide the pseudo algorithm you wish to convert into Python code.\n",
      "\n",
      "\n",
      "================\n",
      "[Used tokens: 0.00%]\n",
      "================\n",
      "\n",
      "\n",
      "\n",
      "================\n",
      "[Used tokens: 0.30%]\n",
      "================\n",
      "\n"
     ]
    }
   ],
   "source": [
    "from symai.components import TokenTracker, Stream\n",
    "from symai.backend.mixin.tracker import OpenAICostTracker\n",
    "from symai import *\n",
    "website = 'wyour datddy' # load page\n",
    "\n",
    "with OpenAICostTracker() as tracker: # track the cost using OpenAI API\n",
    "    with Stream() as stream: # stream over the too long website content\n",
    "        fn = Function('Extract algorithm from website') # define function to operate on the stream\n",
    "        res = stream(website) # stream over the website content\n",
    "    conv = Conversation(init=res, file_link='/Users/xpitfire/create_new_a_star.py') # create conversation with file link\n",
    "    with TokenTracker() as usage: # track the token usage how much we can converse without cutting off\n",
    "        conv(f\"Generate from the pseudo algorithm corresponding python code:\") # query the conversation expression\n",
    "    conv.commit() # extract code and commit to the file"
   ]
  },
  {
   "cell_type": "code",
   "execution_count": 2,
   "metadata": {},
   "outputs": [
    {
     "name": "stdout",
     "output_type": "stream",
     "text": [
      "\n",
      "[BREAKDOWN]\n",
      "-=--=--=--=--=--=--=--=--=--=--=--=--=-\n",
      "\n",
      "gpt-4-1106-preview usage:\n",
      "    $0.020 for 808 input tokens and 412 output tokens\n",
      "\n",
      "text-embedding-ada-002 usage:\n",
      "    $0.000 for 0 tokens\n",
      "\n",
      "Total:\n",
      "    $0.020\n",
      "\n",
      "-=--=--=--=--=--=--=--=--=--=--=--=--=-\n",
      "\n",
      "Zero-shot calls: 0\n",
      "\n",
      "-=--=--=--=--=--=--=--=--=--=--=--=--=-\n",
      "\n",
      "Few-shot calls: 2\n",
      "\n",
      "-=--=--=--=--=--=--=--=--=--=--=--=--=-\n",
      "\n"
     ]
    }
   ],
   "source": [
    "print(tracker)"
   ]
  },
  {
   "cell_type": "code",
   "execution_count": 1,
   "metadata": {},
   "outputs": [],
   "source": [
    "from symai.components import Indexer"
   ]
  },
  {
   "cell_type": "code",
   "execution_count": 2,
   "metadata": {},
   "outputs": [],
   "source": [
    "indexer = Indexer()"
   ]
  },
  {
   "cell_type": "code",
   "execution_count": 1,
   "metadata": {},
   "outputs": [
    {
     "name": "stderr",
     "output_type": "stream",
     "text": [
      "2023-11-30 23:14:08,431 ====== WebDriver manager ======\n",
      "2023-11-30 23:14:08,707 Get LATEST chromedriver version for google-chrome\n",
      "2023-11-30 23:14:08,768 Get LATEST chromedriver version for google-chrome\n",
      "2023-11-30 23:14:08,811 Driver [/Users/xpitfire/.wdm/drivers/chromedriver/mac64/119.0.6045.105/chromedriver-mac-x64/chromedriver] found in cache\n"
     ]
    }
   ],
   "source": [
    "from symai import Interface\n",
    "res = Interface('selenium')('https://www.baidu-venture.net/touzizuhe.html')"
   ]
  },
  {
   "cell_type": "code",
   "execution_count": 2,
   "metadata": {},
   "outputs": [
    {
     "data": {
      "text/plain": [
       "'Using this website means that you agree to our use of cookies. We use cookies to provide you with a good experience and help our website operate effectively.'"
      ]
     },
     "execution_count": 2,
     "metadata": {},
     "output_type": "execute_result"
    }
   ],
   "source": [
    "res.value"
   ]
  },
  {
   "cell_type": "code",
   "execution_count": 3,
   "metadata": {},
   "outputs": [],
   "source": [
    "from symai import Symbol\n",
    "from symai.components import Stream"
   ]
  },
  {
   "cell_type": "code",
   "execution_count": 4,
   "metadata": {},
   "outputs": [],
   "source": [
    "sym = Symbol(res) # convert to symbol"
   ]
  },
  {
   "cell_type": "code",
   "execution_count": 5,
   "metadata": {},
   "outputs": [],
   "source": [
    "sym.save('../outputs/tmp.html')"
   ]
  },
  {
   "cell_type": "code",
   "execution_count": 6,
   "metadata": {},
   "outputs": [
    {
     "data": {
      "text/plain": [
       "30"
      ]
     },
     "execution_count": 6,
     "metadata": {},
     "output_type": "execute_result"
    }
   ],
   "source": [
    "len(res)"
   ]
  },
  {
   "cell_type": "code",
   "execution_count": 17,
   "metadata": {},
   "outputs": [],
   "source": [
    "with Stream(retrieval='all') as stream:\n",
    "    fn = Function('Give a list of all investors')\n",
    "    inv = stream(res)"
   ]
  },
  {
   "cell_type": "code",
   "execution_count": 18,
   "metadata": {},
   "outputs": [
    {
     "data": {
      "text/plain": [
       "[<class symai.symbol.Symbol at 0x7f82b1530c10>(value=It seems there is a misunderstanding. \"Baiduventure\" is not a recognized term, nor does it appear to be an investor or investment firm. If you are referring to Baidu Ventures (BV), this is the venture capital arm of Baidu, which is a leading Chinese internet services company. Baidu Ventures focuses on investing in early-stage startups in the AI, AR/VR, and IoT (Internet of Things) sectors among others.\n",
       " \n",
       " If you're requesting a list of all investors in general, that's an incredibly broad and nearly impossible task as there are countless investors worldwide. They range from individual angel investors, venture capitalists, and private equity firms to banks, pension funds, sovereign wealth funds, and corporations.\n",
       " \n",
       " If you're seeking a list of investors in a specific company, sector, or for a particular type of investment (like startups, real estate, etc.), please provide more details so that I could offer a more targeted list or information according to the knowledge cutoff date.)]"
      ]
     },
     "execution_count": 18,
     "metadata": {},
     "output_type": "execute_result"
    }
   ],
   "source": [
    "inv"
   ]
  },
  {
   "cell_type": "code",
   "execution_count": 1,
   "metadata": {},
   "outputs": [],
   "source": [
    "from symai.components import *"
   ]
  },
  {
   "cell_type": "code",
   "execution_count": 3,
   "metadata": {},
   "outputs": [],
   "source": [
    "res = Interface('serpapi')('Who is the investor of PyTorch?')"
   ]
  },
  {
   "cell_type": "code",
   "execution_count": 5,
   "metadata": {},
   "outputs": [
    {
     "data": {
      "text/plain": [
       "{'query_displayed': 'Who is the investor of PyTorch?',\n",
       " 'total_results': 378000,\n",
       " 'time_taken_displayed': 0.86,\n",
       " 'menu_items': [{'position': 1,\n",
       "   'title': 'Images',\n",
       "   'link': 'https://www.google.com/search?sca_esv=f4dbf1826554685d&q=Who+is+the+investor+of+PyTorch%3F&tbm=isch&source=lnms&sa=X&ved=2ahUKEwiw2fbd3-yCAxWsSjABHRMJAmUQ0pQJegQIDBAB',\n",
       "   'serpapi_link': 'https://serpapi.com/search.json?device=desktop&engine=google_images&gl=us&google_domain=google.com&hl=en&q=Who+is+the+investor+of+PyTorch%3F'},\n",
       "  {'position': 2,\n",
       "   'title': 'In python',\n",
       "   'link': 'https://www.google.com/search?sca_esv=f4dbf1826554685d&q=Who+is+the+investor+of+pytorch+in+python&uds=H4sIAAAAAAAA_-OK4OL0zFMoqCzJyM8Tkg_PyFfILFYoyUhVyMwrSy0uyS9SyE9TCKgMyS9KzrA3ECrSwKEEaAJICVAMapgRIcMAp7Sn33sAAAA&sa=X&ved=2ahUKEwiw2fbd3-yCAxWsSjABHRMJAmUQxKsJegQICBAB&ictx=0',\n",
       "   'serpapi_link': 'https://serpapi.com/search.json?device=desktop&engine=google&google_domain=google.com&q=Who+is+the+investor+of+pytorch+in+python'},\n",
       "  {'position': 3,\n",
       "   'title': 'News',\n",
       "   'link': 'https://www.google.com/search?sca_esv=f4dbf1826554685d&q=Who+is+the+investor+of+PyTorch%3F&tbm=nws&source=lnms&sa=X&ved=2ahUKEwiw2fbd3-yCAxWsSjABHRMJAmUQ0pQJegQICxAB',\n",
       "   'serpapi_link': 'https://serpapi.com/search.json?device=desktop&engine=google&google_domain=google.com&q=Who+is+the+investor+of+PyTorch%3F&tbm=nws'},\n",
       "  {'position': 4,\n",
       "   'title': 'Videos',\n",
       "   'link': 'https://www.google.com/search?sca_esv=f4dbf1826554685d&q=Who+is+the+investor+of+PyTorch%3F&tbm=vid&source=lnms&sa=X&ved=2ahUKEwiw2fbd3-yCAxWsSjABHRMJAmUQ0pQJegQIChAB',\n",
       "   'serpapi_link': 'https://serpapi.com/search.json?device=desktop&engine=google_videos&gl=us&google_domain=google.com&hl=en&q=Who+is+the+investor+of+PyTorch%3F'},\n",
       "  {'position': 5,\n",
       "   'title': 'Shopping',\n",
       "   'link': 'https://www.google.com/search?sca_esv=f4dbf1826554685d&q=Who+is+the+investor+of+PyTorch%3F&tbm=shop&source=lnms&sa=X&ved=2ahUKEwiw2fbd3-yCAxWsSjABHRMJAmUQ0pQJegQISBAB',\n",
       "   'serpapi_link': 'https://serpapi.com/search.json?device=desktop&engine=google_shopping&gl=us&google_domain=google.com&hl=en&q=Who+is+the+investor+of+PyTorch%3F'},\n",
       "  {'position': 6,\n",
       "   'title': 'Books',\n",
       "   'link': 'https://www.google.com/search?sca_esv=f4dbf1826554685d&q=Who+is+the+investor+of+PyTorch%3F&tbm=bks&source=lnms&sa=X&ved=2ahUKEwiw2fbd3-yCAxWsSjABHRMJAmUQ0pQJegQISxAB'},\n",
       "  {'position': 7,\n",
       "   'title': 'Maps',\n",
       "   'link': 'https://maps.google.com/maps?sca_esv=f4dbf1826554685d&output=search&q=Who+is+the+investor+of+PyTorch?&source=lnms&entry=mc&sa=X&ved=2ahUKEwiw2fbd3-yCAxWsSjABHRMJAmUQ0pQJegQISRAB'},\n",
       "  {'position': 8,\n",
       "   'title': 'Flights',\n",
       "   'link': 'https://www.google.com/travel/flights?sca_esv=f4dbf1826554685d&output=search&q=Who+is+the+investor+of+PyTorch%3F&source=lnms&sa=X&ved=2ahUKEwiw2fbd3-yCAxWsSjABHRMJAmUQ0pQJegQIShAB'},\n",
       "  {'position': 9,\n",
       "   'title': 'Finance',\n",
       "   'link': 'https://www.google.com/finance?sca_esv=f4dbf1826554685d&output=search&q=Who+is+the+investor+of+PyTorch%3F&source=lnms&sa=X&ved=2ahUKEwiw2fbd3-yCAxWsSjABHRMJAmUQ0pQJegQITBAB'}],\n",
       " 'organic_results_state': 'Results for exact spelling'}"
      ]
     },
     "execution_count": 5,
     "metadata": {},
     "output_type": "execute_result"
    }
   ],
   "source": [
    "res.raw['search_information']"
   ]
  },
  {
   "cell_type": "code",
   "execution_count": 6,
   "metadata": {},
   "outputs": [],
   "source": [
    "from symai.extended import DocumentRetriever"
   ]
  },
  {
   "cell_type": "code",
   "execution_count": null,
   "metadata": {},
   "outputs": [],
   "source": [
    "docret = DocumentRetriever(file='<path_to_your_pdf_file>')"
   ]
  },
  {
   "cell_type": "code",
   "execution_count": null,
   "metadata": {},
   "outputs": [],
   "source": [
    "res = docret.query('What is the Theory of Mind paper about?')"
   ]
  },
  {
   "cell_type": "code",
   "execution_count": null,
   "metadata": {},
   "outputs": [],
   "source": [
    "res"
   ]
  },
  {
   "cell_type": "code",
   "execution_count": null,
   "metadata": {},
   "outputs": [],
   "source": [
    "image = res.extract('main idea')"
   ]
  },
  {
   "cell_type": "code",
   "execution_count": null,
   "metadata": {},
   "outputs": [],
   "source": []
  }
 ],
 "metadata": {
  "kernelspec": {
   "display_name": "symai310",
   "language": "python",
   "name": "python3"
  },
  "language_info": {
   "codemirror_mode": {
    "name": "ipython",
    "version": 3
   },
   "file_extension": ".py",
   "mimetype": "text/x-python",
   "name": "python",
   "nbconvert_exporter": "python",
   "pygments_lexer": "ipython3",
   "version": "3.10.13"
  },
  "orig_nbformat": 4
 },
 "nbformat": 4,
 "nbformat_minor": 2
}
