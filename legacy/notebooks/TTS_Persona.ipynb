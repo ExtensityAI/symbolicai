{
 "cells": [
  {
   "cell_type": "code",
   "execution_count": 1,
   "metadata": {},
   "outputs": [],
   "source": [
    "from symai.extended.personas import PersonaBuilder\n",
    "from symai.extended.personas import Dialogue\n",
    "from symai.extended.api_builder import APIExecutor\n",
    "from symai.extended.personas.student import MaxTenner\n",
    "from symai import Interface"
   ]
  },
  {
   "cell_type": "markdown",
   "metadata": {},
   "source": [
    "### Text-to-speech"
   ]
  },
  {
   "cell_type": "code",
   "execution_count": 2,
   "metadata": {},
   "outputs": [],
   "source": [
    "tts = Interface('tts')"
   ]
  },
  {
   "cell_type": "code",
   "execution_count": 3,
   "metadata": {},
   "outputs": [
    {
     "data": {
      "text/html": [
       "<openai._base_client.HttpxBinaryResponseContent object at 0x161516cd0>"
      ],
      "text/plain": [
       "<class 'symai.extended.interfaces.tts.tts'>(value=<openai._base_client.HttpxBinaryResponseContent object at 0x161516cd0>)"
      ]
     },
     "execution_count": 3,
     "metadata": {},
     "output_type": "execute_result"
    }
   ],
   "source": [
    "tts(\"hello world\", path='./marius_tts.mp3', voice='echo')"
   ]
  },
  {
   "cell_type": "markdown",
   "metadata": {},
   "source": [
    "### Conversations"
   ]
  },
  {
   "cell_type": "code",
   "execution_count": 5,
   "metadata": {},
   "outputs": [],
   "source": [
    "from symai.extended import Conversation"
   ]
  },
  {
   "cell_type": "code",
   "execution_count": 6,
   "metadata": {},
   "outputs": [
    {
     "name": "stderr",
     "output_type": "stream",
     "text": [
      "INFO:WDM:====== WebDriver manager ======\n",
      "2023-11-17 09:24:37,290 ====== WebDriver manager ======\n",
      "2023-11-17 09:24:37,290 ====== WebDriver manager ======\n",
      "INFO:WDM:Get LATEST chromedriver version for google-chrome\n",
      "2023-11-17 09:24:37,649 Get LATEST chromedriver version for google-chrome\n",
      "2023-11-17 09:24:37,649 Get LATEST chromedriver version for google-chrome\n",
      "INFO:WDM:Get LATEST chromedriver version for google-chrome\n",
      "2023-11-17 09:24:37,717 Get LATEST chromedriver version for google-chrome\n",
      "2023-11-17 09:24:37,717 Get LATEST chromedriver version for google-chrome\n",
      "INFO:WDM:Driver [/Users/xpitfire/.wdm/drivers/chromedriver/mac64/119.0.6045.105/chromedriver-mac-x64/chromedriver] found in cache\n",
      "2023-11-17 09:24:37,781 Driver [/Users/xpitfire/.wdm/drivers/chromedriver/mac64/119.0.6045.105/chromedriver-mac-x64/chromedriver] found in cache\n",
      "2023-11-17 09:24:37,781 Driver [/Users/xpitfire/.wdm/drivers/chromedriver/mac64/119.0.6045.105/chromedriver-mac-x64/chromedriver] found in cache\n",
      "DEBUG:selenium.webdriver.common.service:Started executable: `/Users/xpitfire/.wdm/drivers/chromedriver/mac64/119.0.6045.105/chromedriver-mac-x64/chromedriver` in a child process with pid: 1890\n"
     ]
    }
   ],
   "source": [
    "crawler = Interface('selenium') # get data from web\n",
    "data = crawler('https://github.com/ExtensityAI/symbolicai')"
   ]
  },
  {
   "cell_type": "code",
   "execution_count": 7,
   "metadata": {},
   "outputs": [],
   "source": [
    "conv = Conversation(data) # initialize conversation with data"
   ]
  },
  {
   "cell_type": "code",
   "execution_count": 9,
   "metadata": {},
   "outputs": [
    {
     "name": "stdout",
     "output_type": "stream",
     "text": [
      "Project Title: \"SymbolicAI: Integrating the Power of Neuro-Symbolic Computing Into Large Language Models\"\n",
      "\n",
      "Introduction:\n",
      "At the forefront of cognitive and computational advancements lies SymbolicAI, an innovative library crafted to revolutionize the way we perceive and interact with machine intelligence. Embarking on a journey where classical programming synergizes with the potent capabilities of neuro-symbolic computing, we aim to seamlessly blend the precision of symbolic reasoning with the fluid adaptability of machine learning. Our mission is to empower developers, researchers, and innovators with a comprehensive toolbox— one that paves the way for constructing applications that not only think but reason, deduce, and evolve.\n",
      "\n",
      "SymbolicAI has been meticulously engineered to serve as the backbone for applications that require the critical integration of traditional programming methods and the advanced, intuitively designed differentiable programs that lie at the heart of modern artificial intelligence. The library stands as a testament to our commitment to providing a rich, compositional framework that invites contributions and collaboration, furthering research at the nexus of neuro-symbolic exploration.\n",
      "\n",
      "Request for Funding:\n",
      "Our ambitious endeavors to refine and enhance SymbolicAI necessitate considerable funding. This financial support would underwrite the technical development, including expanding the library's capabilities, maintaining the infrastructure, testing and optimizing the framework for robust, industry-level deployment, and ensuring that SymbolicAI retains its cutting-edge relevance.\n",
      "\n",
      "Investment in SymbolicAI also represents a strategic move towards positioning Large Language Models (LLMs) as central figures within the computational landscape. Funding will facilitate the next leap in our journey, as we seek to create a singular platform where developers can not only code but also instruct, probe, and educate the neuro-symbolic models—entrusting them with the responsibility to augment human potential across various domains.\n",
      "\n",
      "Request for Community Visibility:\n",
      "Visibility within the community is paramount for the propagation of any groundbreaking technology. As such, we ardently seek avenues to uplift the presence of SymbolicAI within the vast expanse of the tech community. Through featured articles, high-profile open-source repositories, collaborations with academic institutions, and presentations at industry conferences, we intend to illuminate the potential that SymbolicAI holds.\n",
      "\n",
      "Our aspiration is to ignite conversations, encourage scrutiny and discourse, and invite the open-source community's collective brilliance to refine and steer SymbolicAI towards unforeseen horizons. We believe that heightened community visibility will unlock doors to innovative applications, invoke diverse perspectives, and spur an evolution that resonates with the very core of our technological ethos.\n",
      "\n",
      "Request for Development Support:\n",
      "The evolution of SymbolicAI hinges not only on conceptual breakthroughs but also on the collective contribution of skilled developers who can iterate, debug, and innovate. We thus extend our invitation to developers who harbor a passion for AI and wish to contribute to the exponential growth of SymbolicAI.\n",
      "\n",
      "We seek individuals with expertise in neuro-symbolic computing, large language models, and cognitive architecture, as well as those who are proficient in Python, machine learning frameworks, and differencing programming techniques. Collaborative development will enable us to expand the library's functionality, address community feedback, enhance user experience, and modulate the resource to resonate with industry needs.\n",
      "\n",
      "In conclusion, we assert that the SymbolicAI library is not merely a technological venture; it is a collaborative odyssey that, with adequate funding, community visibility, and development support, has the potential to redefine our interaction with machine intelligence. The prospect of what can be achieved is boundless, contingent on the belief and backing of stakeholders who share our vision—a vision that speaks of an era where neuro-symbolic computing and LLMs become the keystones of cognitive technology.\n"
     ]
    }
   ],
   "source": [
    "conv(\"\"\"[Task]\n",
    "Write an elaborate project introduction for the project proposal.\n",
    "\n",
    "Include the request for:\n",
    "- funding\n",
    "- community visibility\n",
    "- development support\n",
    "\n",
    "\"\"\");"
   ]
  },
  {
   "cell_type": "markdown",
   "metadata": {},
   "source": [
    "### API Executor"
   ]
  },
  {
   "cell_type": "code",
   "execution_count": 21,
   "metadata": {},
   "outputs": [],
   "source": [
    "source = APIExecutor() # creates code on the fly and executes it\n",
    "data = source('Fetch data from URL https://www.ykilcher.com/') # interprets the instruction to generate a HTTP request"
   ]
  },
  {
   "cell_type": "code",
   "execution_count": 23,
   "metadata": {},
   "outputs": [
    {
     "name": "stdout",
     "output_type": "stream",
     "text": [
      "def run(url: str) -> str:  # [MANAGED] entry point cannot be changed\n",
      "    # [MANAGED-BEGIN] mandatory imports here\n",
      "    import traceback\n",
      "    import requests\n",
      "    from symai import Function\n",
      "    # [MANAGED-END] mandatory imports here\n",
      "\n",
      "    try:  # [MANAGED] must contain this line, do not change\n",
      "        # Make a GET request to fetch data from the given URL\n",
      "        response = requests.get(url)\n",
      "        \n",
      "        # Check if the response was successful\n",
      "        if response.status_code != 200:\n",
      "            return f\"Failed to fetch data: {response.status_code}\"\n",
      "        \n",
      "        # If successful, return the content of the response\n",
      "        return response.text  # Returning the content as text\n",
      "    except Exception as e:  # [MANAGED] must catch all exceptions and return them as string\n",
      "        tb = traceback.format_exc()  # [MANAGED] return full error stack trace as string\n",
      "        return tb  # [MANAGED] return tb as string, do not change\n",
      "\n",
      "# [STATIC CONTEXT] DO NOT CHANGE ANYTHING BELOW THIS LINE\n",
      "value = \"https://www.ykilcher.com/\"  # The URL from the instruction is provided here\n",
      "res = run(value)  # [MANAGED] must contain this line, do not change\n"
     ]
    }
   ],
   "source": [
    "print(source._code)"
   ]
  },
  {
   "cell_type": "code",
   "execution_count": 25,
   "metadata": {},
   "outputs": [],
   "source": [
    "text = data.extract('Plain text') # extracts the plain text from the entire HTML page"
   ]
  },
  {
   "cell_type": "code",
   "execution_count": null,
   "metadata": {},
   "outputs": [],
   "source": [
    "text.value[:100] # show the fetched data"
   ]
  },
  {
   "cell_type": "code",
   "execution_count": null,
   "metadata": {},
   "outputs": [],
   "source": [
    "crawler = Interface('selenium') # init selenium interface"
   ]
  },
  {
   "cell_type": "code",
   "execution_count": 28,
   "metadata": {},
   "outputs": [],
   "source": [
    "additional_info = crawler('https://scholar.google.com/citations?user=T3Ji6P4AAAAJ')"
   ]
  },
  {
   "cell_type": "markdown",
   "metadata": {},
   "source": [
    "### Persona Creator"
   ]
  },
  {
   "cell_type": "code",
   "execution_count": 3,
   "metadata": {},
   "outputs": [],
   "source": [
    "builder = PersonaBuilder() # generate based on crawled data a persona\n",
    "YannicKilcher = builder('Yannic Kilcher', description=text | additional_info) # builds a persona based on the extracted text and fills in blanks with hallucinated data"
   ]
  },
  {
   "cell_type": "code",
   "execution_count": 31,
   "metadata": {},
   "outputs": [
    {
     "data": {
      "text/html": [
       "Yannic Kilcher is an athletic, approachable, and articulate Machine Learning Ph.D. student at ETH Zurich who excels at making complex AI concepts accessible on his YouTube channel."
      ],
      "text/plain": [
       "<class 'symai.symbol.Symbol'>(value=Yannic Kilcher is an athletic, approachable, and articulate Machine Learning Ph.D. student at ETH Zurich who excels at making complex AI concepts accessible on his YouTube channel.)"
      ]
     },
     "execution_count": 31,
     "metadata": {},
     "output_type": "execute_result"
    }
   ],
   "source": [
    "yannic = YannicKilcher() # instanciate a newly generated persona\n",
    "yannic.summarize() # show the persona summary"
   ]
  },
  {
   "cell_type": "code",
   "execution_count": 35,
   "metadata": {},
   "outputs": [],
   "source": [
    "max = MaxTenner() # create a pre-defined persona\n",
    "dialogue = Dialogue(max, yannic, n_turns=2) # run a dialogue between the two personas"
   ]
  },
  {
   "cell_type": "code",
   "execution_count": 36,
   "metadata": {},
   "outputs": [
    {
     "name": "stdout",
     "output_type": "stream",
     "text": [
      "[Max Tenner::]: Hey Yannic, tell me more about your latest video where every instruction is a prompt\n",
      "\n",
      "[Yannic Kilcher::]: Hey Max, I'm glad you asked! My latest video explores the concept of a \"Prompt-based Learning System.\" Essentially, it's an AI model that operates entirely on prompts, which are guiding instructions in natural language. This system is intriguing because it reflects a more intuitive way of human-computer interaction, much like how we naturally communicate with one another.\n",
      "\n",
      "By using prompts as instructions, we can direct the AI to perform specific tasks without hard-coding the behaviors. This approach also showcases the versatility of language models that are capable of understanding and executing a wide range of commands based on the context provided by these prompts.\n",
      "\n",
      "In the video, I dive into how this technology works, its potential applications, and some of the challenges that come with it. For instance, crafting an effective prompt can be an art in itself, and the AI’s response can sometimes be unpredictable. But the advantages, such as ease of use and adaptability, could make this a staple in how we leverage AI in the future.\n",
      "\n",
      "As you're also someone who's passionate about making technology understandable and accessible, I thought this topic might resonate with you, Max. Would love to hear your thoughts on this!\n",
      "\n",
      "[Max Tenner::]: That sounds super interesting, Yannic! The concept of using natural language to guide AI mirrors how I like to approach tech – intuitively and creatively. I can see how a Prompt-based Learning System could become incredibly user-friendly, especially for those who may be intimidated by traditional coding.\n",
      "\n",
      "The potential for varied applications seems massive. We could use it for everything from personal assistants to more complex tasks like data analysis or language translation, all with a simple prompt. And you're right, crafting prompts is indeed an art. It's like choosing the perfect command in a video game to advance the story or unlock a new ability.\n",
      "\n",
      "Your point about unpredictability is something I've encountered while tinkering with code or even when coaching my junior football team – you can give instructions, but the outcome can always vary! Maybe I'll experiment with this kind of AI for organizing game strategies.\n",
      "\n",
      "I'll definitely check out your video in full and share it with my sister Lucy, who's into coding. It could spark some great projects or at least give us plenty to talk about. Keep up the great work, Yannic. Your content always gets my brain gears turning!\n",
      "\n",
      "[Yannic Kilcher::]: Appreciate it, Max! I'm always excited to share ideas that could potentially inspire or facilitate new ways of interacting with technology. And I love the analogy of using commands in video games — it's a great way to look at it. The diversity of instructions and the corresponding actions in games really do mirror the dynamics of prompt-based AI. \n",
      "\n",
      "It's also great to hear you're thinking of applying this to your coaching. Sports strategies are dynamic and complex, which makes them a fascinating use case for AI. The adaptability of prompt-based systems could help in analyzing game patterns or optimizing training programs.\n",
      "\n",
      "It makes me happy to know that my content sparks conversations and ideas, especially across different fields and interests. I'm really looking forward to hearing any insights or experiences you and Lucy might have after discussing the video. And who knows, this could lead to practical applications in coding or even new strategies on the football field.\n",
      "\n",
      "Thanks for the support, Max, and for the engaging discussion. Your perspective always adds valuable depth to the topic at hand. Keep the feedback coming!\n",
      "\n"
     ]
    },
    {
     "data": {
      "text/plain": [
       "('demos/tmp/output.mp3', <_io.BufferedRandom name='demos/tmp/output.mp3'>)"
      ]
     },
     "execution_count": 36,
     "metadata": {},
     "output_type": "execute_result"
    }
   ],
   "source": [
    "dialogue(\"Hey Yannic, tell me more about your latest video where every instruction is a prompt\"); # initializes and run the dialogue\n",
    "dialogue.render('demos') # render an audio file of the dialogue"
   ]
  },
  {
   "cell_type": "code",
   "execution_count": 37,
   "metadata": {},
   "outputs": [
    {
     "data": {
      "text/plain": [
       "('demos/tmp/output.mp3', <_io.BufferedRandom name='demos/tmp/output.mp3'>)"
      ]
     },
     "execution_count": 37,
     "metadata": {},
     "output_type": "execute_result"
    }
   ],
   "source": [
    "dialogue.render('demos', overwrite=True) # render an audio file of the dialogue"
   ]
  },
  {
   "cell_type": "code",
   "execution_count": null,
   "metadata": {},
   "outputs": [],
   "source": []
  }
 ],
 "metadata": {
  "kernelspec": {
   "display_name": "symai",
   "language": "python",
   "name": "python3"
  },
  "language_info": {
   "codemirror_mode": {
    "name": "ipython",
    "version": 3
   },
   "file_extension": ".py",
   "mimetype": "text/x-python",
   "name": "python",
   "nbconvert_exporter": "python",
   "pygments_lexer": "ipython3",
   "version": "3.10.13"
  }
 },
 "nbformat": 4,
 "nbformat_minor": 2
}
