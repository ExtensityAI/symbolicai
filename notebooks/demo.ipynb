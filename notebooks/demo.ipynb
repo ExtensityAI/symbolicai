{
 "cells": [
  {
   "attachments": {},
   "cell_type": "markdown",
   "metadata": {},
   "source": [
    "# Semantic API Demo"
   ]
  },
  {
   "attachments": {},
   "cell_type": "markdown",
   "metadata": {},
   "source": [
    "`Neuro-symbolic programming` is a paradigm for `artificial intelligence` and cognitive computing that combines the strengths of both neural networks and symbolic reasoning.\n",
    "\n",
    "`Neural networks`, also known as deep learning, are a type of machine learning algorithm that are inspired by the structure and function of the human brain. They are particularly good at tasks such as image recognition, natural language processing, and decision making. However, they are not as good at tasks that require explicit reasoning, such as planning, problem solving, and understanding causal relationships.\n",
    "\n",
    "`Symbolic reasoning`, on the other hand, is a type of reasoning that uses formal languages and logical rules to represent knowledge and perform tasks such as planning, problem solving, and understanding causal relationships. Symbolic reasoning systems are good at tasks that require explicit reasoning but are not as good at tasks that require pattern recognition or generalization, such as image recognition or natural language processing.\n",
    "\n",
    "Neuro-symbolic programming aims to combine the strengths of both neural networks and symbolic reasoning to create AI systems that can perform a wide range of tasks. One way this is done is by using neural networks to extract information from data and then using symbolic reasoning to make inferences and decisions based on that information. Another way is by using symbolic reasoning to guide the training of neural networks and make them more interpretable.\n",
    "\n",
    "Some examples of tasks that may benefit from this integration are Robotics and Intelligent systems, AI based game, Image Captioning, Natural Language Processing, autonomous agents, and assistive technology.\n",
    "\n",
    "Overall, Neuro-Symbolic programming is an active field of research, many AI experts believe that the integration of neural networks and symbolic reasoning is crucial to creating truly intelligent AI systems.\n",
    "\n",
    "Below we show an example how Neuro-symbolic programming can close the gap between classical software engineering and modern data science:"
   ]
  },
  {
   "attachments": {},
   "cell_type": "markdown",
   "metadata": {},
   "source": [
    "<img src=\"../assets/images/img5.png\" width=\"720px\">"
   ]
  },
  {
   "attachments": {},
   "cell_type": "markdown",
   "metadata": {},
   "source": [
    "This allows for the following computational stack:"
   ]
  },
  {
   "attachments": {},
   "cell_type": "markdown",
   "metadata": {},
   "source": [
    "<img src=\"../assets/images/img1.png\" width=\"720px\">"
   ]
  },
  {
   "attachments": {},
   "cell_type": "markdown",
   "metadata": {},
   "source": [
    "### Get Imports"
   ]
  },
  {
   "cell_type": "code",
   "execution_count": 1,
   "metadata": {},
   "outputs": [],
   "source": [
    "import os\n",
    "import warnings\n",
    "warnings.filterwarnings('ignore')\n",
    "os.chdir('../') # set the working directory to the root of the project\n",
    "from botdyn import *\n",
    "from IPython.display import display"
   ]
  },
  {
   "attachments": {},
   "cell_type": "markdown",
   "metadata": {},
   "source": [
    "## API Illustration"
   ]
  },
  {
   "attachments": {},
   "cell_type": "markdown",
   "metadata": {},
   "source": [
    "Similar to `word2vec` we intend to preform contextualized operations on different symbols. \n",
    "\n",
    "Word2vec is a machine learning algorithm that is used to generate dense vector representations of words. It works by training a shallow neural network to predict a word given its neighbors in a text corpus. The resulting vectors are then used in a wide range of natural language processing applications, such as sentiment analysis, text classification, and clustering.\n",
    "\n",
    "Below we can see an example how one can perform operations on the word embedding vectors (colored boxes)."
   ]
  },
  {
   "attachments": {},
   "cell_type": "markdown",
   "metadata": {},
   "source": [
    "<img src=\"../assets/images/img3.png\" width=\"470px\">"
   ]
  },
  {
   "cell_type": "code",
   "execution_count": 2,
   "metadata": {},
   "outputs": [
    {
     "data": {
      "text/plain": [
       "<class 'botdyn.symbol.Symbol'>(value=Queen)"
      ]
     },
     "execution_count": 2,
     "metadata": {},
     "output_type": "execute_result"
    }
   ],
   "source": [
    "Symbol('King - Man + Women').expression()"
   ]
  },
  {
   "attachments": {},
   "cell_type": "markdown",
   "metadata": {},
   "source": [
    "We now show a compositional pattern how we define the `Semantic API`. The `Symbol` class is the base class for all further definitions an is refered as a terminal symbol. An expression non-terminal symbol. It inherits all the properties from Symbol and overrides the `__call__` function to an evaluation of its currently held statement.. The simplest expression when resolved results again just in an Symbol. From the `Expression` class all other expressions can be derived. The Expression class also adds new functions to `fetch` web URLs, `search` on the internet or `open` files.\n",
    "\n",
    "Expressions can of course have more complex structures, such as shown in the example of the DQL expression.\n",
    "The DQL expression has can hold multiple expressions."
   ]
  },
  {
   "attachments": {},
   "cell_type": "markdown",
   "metadata": {},
   "source": [
    "<img src=\"../assets/images/img2.png\" width=\"720px\">"
   ]
  },
  {
   "attachments": {},
   "cell_type": "markdown",
   "metadata": {},
   "source": [
    "The Symbol class holds several operations how to manipulate the current Symbol. However, operations can be overriden by sub-classing the Symbol or Expression class. The resulting expression can then define new ways or context how an operation should behave. \n",
    "\n",
    "In a more general term, a currated prompt based on operations from the Symbol class are defined as follows:"
   ]
  },
  {
   "attachments": {},
   "cell_type": "markdown",
   "metadata": {},
   "source": [
    "<img src=\"../assets/images/img4.png\" width=\"390px\">"
   ]
  },
  {
   "attachments": {},
   "cell_type": "markdown",
   "metadata": {},
   "source": [
    "Each prompt can have an optional `Global Context` followed by an `Operation` definition with optional `Expamples`. In the end, the prompt can be followed by an optional `Template` enclosing the starting point of the model prediction."
   ]
  },
  {
   "attachments": {},
   "cell_type": "markdown",
   "metadata": {},
   "source": [
    "### Convert to Symbol"
   ]
  },
  {
   "attachments": {},
   "cell_type": "markdown",
   "metadata": {},
   "source": [
    "A `Symbol` takes in any type of object and preserves its original value type:"
   ]
  },
  {
   "cell_type": "code",
   "execution_count": 3,
   "metadata": {},
   "outputs": [
    {
     "data": {
      "text/plain": [
       "str"
      ]
     },
     "execution_count": 3,
     "metadata": {},
     "output_type": "execute_result"
    }
   ],
   "source": [
    "# convert to symbol\n",
    "sym = Symbol(\"This is a test string.\")\n",
    "sym.type()"
   ]
  },
  {
   "cell_type": "code",
   "execution_count": 4,
   "metadata": {},
   "outputs": [
    {
     "data": {
      "text/plain": [
       "numpy.ndarray"
      ]
     },
     "execution_count": 4,
     "metadata": {},
     "output_type": "execute_result"
    }
   ],
   "source": [
    "sym = Symbol(np.array([5, 2, 42, 1]))\n",
    "sym.type()"
   ]
  },
  {
   "attachments": {},
   "cell_type": "markdown",
   "metadata": {},
   "source": [
    "One can also easily retriev the object by accessing `value`:"
   ]
  },
  {
   "cell_type": "code",
   "execution_count": 5,
   "metadata": {},
   "outputs": [
    {
     "data": {
      "text/plain": [
       "array([ 5,  2, 42,  1])"
      ]
     },
     "execution_count": 5,
     "metadata": {},
     "output_type": "execute_result"
    }
   ],
   "source": [
    "sym.value"
   ]
  },
  {
   "attachments": {},
   "cell_type": "markdown",
   "metadata": {},
   "source": [
    "### Showing basic operations"
   ]
  },
  {
   "attachments": {},
   "cell_type": "markdown",
   "metadata": {},
   "source": [
    "Sometimes we can to simply concatinate to Symbols together without any other neural operation. This is easily done with the `@` operation:"
   ]
  },
  {
   "cell_type": "code",
   "execution_count": 6,
   "metadata": {},
   "outputs": [
    {
     "data": {
      "text/plain": [
       "<class 'botdyn.symbol.Symbol'>(value=Welcome to our tutorial.Hello world!)"
      ]
     },
     "execution_count": 6,
     "metadata": {},
     "output_type": "execute_result"
    }
   ],
   "source": [
    "# define a second string\n",
    "sym = Symbol(\"Welcome to our tutorial.\")\n",
    "test2 = 'Hello world!'\n",
    "# concatenate strings\n",
    "res = sym @ test2\n",
    "res"
   ]
  },
  {
   "attachments": {},
   "cell_type": "markdown",
   "metadata": {},
   "source": [
    "When using the `+` operations the neural engine tries to combine two symbols by best effort. In this case it preserves proper spacing between two strings:"
   ]
  },
  {
   "cell_type": "code",
   "execution_count": 7,
   "metadata": {},
   "outputs": [
    {
     "data": {
      "text/plain": [
       "<class 'botdyn.symbol.Symbol'>(value=Welcome to our tutorial. Hello world!)"
      ]
     },
     "execution_count": 7,
     "metadata": {},
     "output_type": "execute_result"
    }
   ],
   "source": [
    "# combine strings with neural engine\n",
    "res = sym + test2\n",
    "res"
   ]
  },
  {
   "attachments": {},
   "cell_type": "markdown",
   "metadata": {},
   "source": [
    "As we saw above, we can evaluate expressions also by best effort and as you see, we can also combine different data types with the basic Symbol operations, as long as one object is a Symbol type. The neural engine will then try to resolve the expression by best effort:"
   ]
  },
  {
   "cell_type": "code",
   "execution_count": 8,
   "metadata": {},
   "outputs": [
    {
     "data": {
      "text/plain": [
       "<class 'botdyn.symbol.Symbol'>(value=10)"
      ]
     },
     "execution_count": 8,
     "metadata": {},
     "output_type": "execute_result"
    }
   ],
   "source": [
    "# here the engine evaluates the expression\n",
    "res = Symbol('5') + '5'\n",
    "res"
   ]
  },
  {
   "attachments": {},
   "cell_type": "markdown",
   "metadata": {},
   "source": [
    "### More Sophisticated Examples"
   ]
  },
  {
   "attachments": {},
   "cell_type": "markdown",
   "metadata": {},
   "source": [
    "We can of course define full sentences as Symbols and perform several operations on them."
   ]
  },
  {
   "cell_type": "code",
   "execution_count": 9,
   "metadata": {},
   "outputs": [],
   "source": [
    "sym = Symbol(\"\"\"Dynatrace offers several incident management system integrations, such as PagerDuty, VictorOps or OpsGenie that offer SMS alert notification channels.\n",
    "Regards,\n",
    "\n",
    "Wolfgang\n",
    "The_AM\n",
    " Dynatrace Champion The_AM\n",
    "Dynatrace Champion\n",
    "In response to wolfgang_beer\n",
    "27 Aug 2019 04:20 AM\n",
    "\n",
    "Hi Ruchi, It's also possible to write a custom integration if one of those offerings is not available. Such as receiving an email or webhook which is converted to send through your SMS gateway. The other options involve querying the problems API and triggering SMS from there.\n",
    "There are many options available to accomplish this.\n",
    "\n",
    "Regards, Andrew\"\"\")"
   ]
  },
  {
   "attachments": {},
   "cell_type": "markdown",
   "metadata": {},
   "source": [
    "Here we translate the existing Symbol to German:"
   ]
  },
  {
   "cell_type": "code",
   "execution_count": 10,
   "metadata": {},
   "outputs": [
    {
     "data": {
      "text/plain": [
       "<class 'botdyn.symbol.Symbol'>(value=Dynatrace bietet verschiedene Integrationsmöglichkeiten für das Incident Management-System wie z.B. PagerDuty, VictorOps oder OpsGenie, die SMS-Benachrichtigungskanäle anbieten. Sollte eines dieser Angebote nicht verfügbar sein, ist es auch möglich, eine benutzerdefinierte Integration zu schreiben, wie beispielsweise das Empfang)"
      ]
     },
     "execution_count": 10,
     "metadata": {},
     "output_type": "execute_result"
    }
   ],
   "source": [
    "sym.translate('German')"
   ]
  },
  {
   "attachments": {},
   "cell_type": "markdown",
   "metadata": {},
   "source": [
    "And now, we try to classify how the mood of the customer is:"
   ]
  },
  {
   "cell_type": "code",
   "execution_count": 11,
   "metadata": {},
   "outputs": [
    {
     "data": {
      "text/plain": [
       "<class 'botdyn.symbol.Symbol'>(value=neutral)"
      ]
     },
     "execution_count": 11,
     "metadata": {},
     "output_type": "execute_result"
    }
   ],
   "source": [
    "sym.choice(['angry', 'neutral', 'hate-speech', 'happy', 'unk'], default='unk')"
   ]
  },
  {
   "attachments": {},
   "cell_type": "markdown",
   "metadata": {},
   "source": [
    "## DQL Example"
   ]
  },
  {
   "attachments": {},
   "cell_type": "markdown",
   "metadata": {},
   "source": [
    "A more real-world like example is to try to generate queries from an domain specific language. In this case the `DQL (Dynatrace Query Language)` expression is defined and passes as an global context the syntax of the DQL language. The DQL expression is then used to generate queries based on the given context. We can then use the generated queries to fetch data from the Dynatrace API. To also show how the DQL operates in the background we will wrap the DQL expression with a `Log` expression. The Log expression logs the current state of the DQL expression to the `outputs/engine.log` file."
   ]
  },
  {
   "cell_type": "code",
   "execution_count": 1,
   "metadata": {},
   "outputs": [],
   "source": [
    "import os\n",
    "import warnings\n",
    "warnings.filterwarnings('ignore')\n",
    "os.chdir('../') # set the working directory to the root of the project\n",
    "from botdyn import *\n",
    "from IPython.display import display"
   ]
  },
  {
   "cell_type": "code",
   "execution_count": 2,
   "metadata": {},
   "outputs": [],
   "source": [
    "from examples.dql import DQL\n",
    "from examples.docs import Docs, CppDocs\n",
    "docs = Docs()\n",
    "dql = DQL()"
   ]
  },
  {
   "attachments": {},
   "cell_type": "markdown",
   "metadata": {},
   "source": [
    "The following query is sent to the neural computation engine and creates a query based on the given context:"
   ]
  },
  {
   "cell_type": "code",
   "execution_count": 3,
   "metadata": {},
   "outputs": [
    {
     "data": {
      "text/html": [
       "<div class=\"alert alert-success\" role=\"alert\">\n",
       "  <h4 class=\"alert-heading\">Well done!</h4>\n",
       "  <p>fetch logs | fields timestamp, severity, logfile, message, container | fieldsAdd severity = lower(loglevel)</p>\n",
       "  <hr>\n",
       "  <p class=\"mb-0\">Whenever you need to, be sure to use margin utilities to keep things nice and tidy.</p>\n",
       "</div>"
      ],
      "text/plain": [
       "<class 'examples.dql.DQL'>(value=fetch logs | fields timestamp, severity, logfile, message, container | fieldsAdd severity = lower(loglevel))"
      ]
     },
     "metadata": {},
     "output_type": "display_data"
    }
   ],
   "source": [
    "res = dql('Query all logs and show the difference between fields and fieldsAdd.\\\n",
    "           While the fields command defines the result table by the fields specified, \\\n",
    "           the fieldsAdd command adds new fields to the existing fields.')\n",
    "display(res)"
   ]
  },
  {
   "attachments": {},
   "cell_type": "markdown",
   "metadata": {},
   "source": [
    "We can now try to further manipulate the result by asking the model to incorporate additional information, such as filtering to a specific time range:"
   ]
  },
  {
   "cell_type": "code",
   "execution_count": 4,
   "metadata": {},
   "outputs": [
    {
     "data": {
      "text/html": [
       "<div class=\"alert alert-success\" role=\"alert\">\n",
       "  <h4 class=\"alert-heading\">Well done!</h4>\n",
       "  <p>fetch logs, from:now()-10m | fields timestamp, severity, logfile, message, container | fieldsAdd severity = lower(loglevel) | limit 100</p>\n",
       "  <hr>\n",
       "  <p class=\"mb-0\">Whenever you need to, be sure to use margin utilities to keep things nice and tidy.</p>\n",
       "</div>"
      ],
      "text/plain": [
       "<class 'examples.dql.DQL'>(value=fetch logs, from:now()-10m | fields timestamp, severity, logfile, message, container | fieldsAdd severity = lower(loglevel) | limit 100)"
      ]
     },
     "metadata": {},
     "output_type": "display_data"
    }
   ],
   "source": [
    "res = res << 'limit the query to the last 10 minutes'\n",
    "display(res)"
   ]
  },
  {
   "cell_type": "code",
   "execution_count": 5,
   "metadata": {},
   "outputs": [],
   "source": [
    "res.update(feedback=\"\"\"Explanation: add limits as close as possible to fetch statements:\n",
    "                    fetch logs, from:now()-10m | limit 50 | fields timestamp, message, content, severity = lower(loglevel)\"\"\");"
   ]
  },
  {
   "cell_type": "code",
   "execution_count": 6,
   "metadata": {},
   "outputs": [],
   "source": [
    "res.clear();"
   ]
  },
  {
   "attachments": {},
   "cell_type": "markdown",
   "metadata": {},
   "source": [
    "We can also try to remove unwanted fields from the generated query. Notice how the model tries to remove not only the given statement but attributes assitiated with them:"
   ]
  },
  {
   "cell_type": "code",
   "execution_count": 7,
   "metadata": {},
   "outputs": [
    {
     "data": {
      "text/html": [
       "<code>fetch logs, from:now()-10m\n",
       "| fields timestamp, log.source, message, k8s.container.name\n",
       "| limit 100</code>"
      ],
      "text/plain": [
       "<class 'examples.dql.DQL'>(value=fetch logs, from:now()-10m\n",
       "| fields timestamp, log.source, message, k8s.container.name\n",
       "| limit 100)"
      ]
     },
     "metadata": {},
     "output_type": "display_data"
    }
   ],
   "source": [
    "res -= '| fieldsAdd'\n",
    "display(res)"
   ]
  },
  {
   "attachments": {},
   "cell_type": "markdown",
   "metadata": {},
   "source": [
    "To wrap up, we might want to go back full circle and ask the model to generate again the explataion based on the given query:"
   ]
  },
  {
   "attachments": {},
   "cell_type": "markdown",
   "metadata": {},
   "source": [
    "We can also query our result to show us suggestions how to further adapt the query:"
   ]
  },
  {
   "cell_type": "code",
   "execution_count": 8,
   "metadata": {},
   "outputs": [
    {
     "data": {
      "text/html": [
       "<code>DQL: fetch logs, from:now()-10m\n",
       "| fields timestamp, log.source, message, k8s.container.name\n",
       "| limit 30</code>"
      ],
      "text/plain": [
       "<class 'examples.dql.DQL'>(value=DQL: fetch logs, from:now()-10m\n",
       "| fields timestamp, log.source, message, k8s.container.name\n",
       "| limit 30)"
      ]
     },
     "metadata": {},
     "output_type": "display_data"
    }
   ],
   "source": [
    "answer = res.query(\"How can you limit the number of results to 30 for an DQL query?\")\n",
    "display(answer)"
   ]
  },
  {
   "attachments": {},
   "cell_type": "markdown",
   "metadata": {},
   "source": [
    "And we can now even try to convert our query to a more familiar domain specific language, such as `SQL`:"
   ]
  },
  {
   "cell_type": "code",
   "execution_count": 9,
   "metadata": {},
   "outputs": [
    {
     "data": {
      "text/html": [
       "<code>SELECT logs.timestamp, logs.log.source, logs.message, logs.k8s.container.name FROM logs WHERE logs.timestamp >= now()-10m LIMIT 100</code>"
      ],
      "text/plain": [
       "<class 'examples.dql.DQL'>(value=SELECT logs.timestamp, logs.log.source, logs.message, logs.k8s.container.name FROM logs WHERE logs.timestamp >= now()-10m LIMIT 100)"
      ]
     },
     "metadata": {},
     "output_type": "display_data"
    }
   ],
   "source": [
    "sql_res = res.convert(\"SQL\")\n",
    "display(sql_res)"
   ]
  },
  {
   "cell_type": "code",
   "execution_count": 10,
   "metadata": {},
   "outputs": [
    {
     "data": {
      "text/html": [
       "<code>This query retrieves the last 100 log entries from the last 10 minutes and returns the timestamp, log source, message, and Kubernetes container name of each entry.</code>"
      ],
      "text/plain": [
       "<class 'examples.dql.DQL'>(value=This query retrieves the last 100 log entries from the last 10 minutes and returns the timestamp, log source, message, and Kubernetes container name of each entry.)"
      ]
     },
     "metadata": {},
     "output_type": "display_data"
    }
   ],
   "source": [
    "answer = res.query(\"What does this query do?\")\n",
    "display(answer)"
   ]
  },
  {
   "cell_type": "code",
   "execution_count": 18,
   "metadata": {},
   "outputs": [
    {
     "name": "stdout",
     "output_type": "stream",
     "text": [
      "Esta consulta recupera las últimas 100 entradas de registro de los últimos 10 minutos y devuelve la marca de tiempo, la fuente de registro, el mensaje y el nombre del contenedor Kubernetes de cada entrada.\n"
     ]
    }
   ],
   "source": [
    "locale = Symbol(answer).translate('Spanish') # update prompt to avoid field translations\n",
    "print(locale)"
   ]
  },
  {
   "cell_type": "code",
   "execution_count": 13,
   "metadata": {},
   "outputs": [],
   "source": [
    "formatted_docs = docs(locale)"
   ]
  },
  {
   "cell_type": "code",
   "execution_count": 17,
   "metadata": {},
   "outputs": [
    {
     "name": "stdout",
     "output_type": "stream",
     "text": [
      "\"\"\"Retrieves the last 100 log entries from the last 10 minutes and returns the timestamp, log source, message, and Kubernetes container name of each entry.\n",
      "\n",
      "Args:\n",
      "    start_time (int, optional): The timestamp in milliseconds of the start of the time range to query. Defaults to the current time minus 10 minutes.\n",
      "    end_time (int, optional): The timestamp in milliseconds of the end of the time range to query. Defaults to the current time.\n",
      "    limit (int, optional): The maximum number of log entries to return. Defaults to 100.\n",
      "\n",
      "Returns:\n",
      "    List[Dict]: A list of dictionaries, each with the keys \"timestamp\", \"source\", \"message\", and \"container_name\".\n",
      "\"\"\"\n"
     ]
    }
   ],
   "source": [
    "print(formatted_docs)"
   ]
  },
  {
   "attachments": {},
   "cell_type": "markdown",
   "metadata": {},
   "source": [
    "## Documentation Example"
   ]
  },
  {
   "attachments": {},
   "cell_type": "markdown",
   "metadata": {},
   "source": [
    "We can try to use the Semantic API to generate documentations based on a specific documentation style:"
   ]
  },
  {
   "cell_type": "code",
   "execution_count": 73,
   "metadata": {},
   "outputs": [],
   "source": [
    "from examples.docs import Docs, CppDocs\n",
    "docs = Log(Docs())"
   ]
  },
  {
   "attachments": {},
   "cell_type": "markdown",
   "metadata": {},
   "source": [
    "In this example we generate documentaiton based on python coding conventions:"
   ]
  },
  {
   "cell_type": "code",
   "execution_count": 33,
   "metadata": {},
   "outputs": [
    {
     "data": {
      "text/plain": [
       "<class 'examples.docs.Docs'>(value=\"\"\"Applies constraints and pre/post-processing to a function.\n",
       "\n",
       "Args:\n",
       "    default (str, optional): The default value to be returned if the task cannot be solved. Defaults to None.\n",
       "    constraints (List[Callable], optional): A list of contrains applied to the model output to verify the output. Defaults to [].\n",
       "    pre_processor (List[PreProcessor], optional): A list of pre-processors to be applied to the input and shape the input to the model. Defaults to [].\n",
       "    post_processor (List[PostProcessor], optional): A list of post-processors to be applied to the model output and before returning the result. Defaults to []. \n",
       "    *wrp_args: Additional arguments to be passed to the wrapped function.\n",
       "    **wrp_kwargs: Additional keyword arguments to be passed to the wrapped function.\n",
       "\n",
       "Returns:\n",
       "    function: A decorated function that applies the constraints, pre/post-processing, and additional arguments/keyword arguments when executed.\n",
       "\"\"\")"
      ]
     },
     "execution_count": 33,
     "metadata": {},
     "output_type": "execute_result"
    }
   ],
   "source": [
    "doc = docs(\"\"\"def execute(default: str = None,\n",
    "            constraints: List[Callable] = [],\n",
    "            pre_processor: List[PreProcessor] = [],\n",
    "            post_processor: List[PostProcessor] = [],\n",
    "            *wrp_args,\n",
    "            **wrp_kwargs):\n",
    "    def decorator(func):\n",
    "        @functools.wraps(func)\n",
    "        def wrapper(wrp_self, *args, **kwargs):\n",
    "            return execute_func(wrp_self, \n",
    "                                func=func,\n",
    "                                code=str(wrp_self),\n",
    "                                constraints=constraints, \n",
    "                                default=default, \n",
    "                                pre_processor=pre_processor, \n",
    "                                post_processor=post_processor,\n",
    "                                wrp_args=wrp_args,\n",
    "                                wrp_kwargs=wrp_kwargs,\n",
    "                                args=args, kwargs=kwargs)\n",
    "        return wrapper\n",
    "    return decorator\n",
    "\"\"\")\n",
    "doc"
   ]
  },
  {
   "attachments": {},
   "cell_type": "markdown",
   "metadata": {},
   "source": [
    "Here the same for C++ conding conventions:"
   ]
  },
  {
   "cell_type": "code",
   "execution_count": 34,
   "metadata": {},
   "outputs": [],
   "source": [
    "cppdoc = Log(CppDocs())"
   ]
  },
  {
   "cell_type": "code",
   "execution_count": 35,
   "metadata": {},
   "outputs": [
    {
     "data": {
      "text/plain": [
       "<class 'examples.docs.CppDocs'>(value=/**\n",
       " * Research native Hyperscan match direct bytebuffers.\n",
       " * \n",
       " * @param db_ptr The pointer to the Hyperscan database.\n",
       " * @param scratch_ptr The pointer to the Hyperscan scratch.\n",
       " * @param matches_ptr The pointer to the matches area.\n",
       " * @param scan_from_ptr The pointer to the string to be scanned.\n",
       " * @param max_matches The maximum number of matches.\n",
       " * @param n_chars The number of characters to be scanned.\n",
       " * \n",
       " * @return The number of matches.\n",
       " */\n",
       "DLLEXPORT int research_native_hyperscan_match_direct_bytebuffers(void * db_ptr, void * scratch_ptr, void * matches_ptr,\n",
       "    void * scan_from_ptr, int max_matches, int n_chars);)"
      ]
     },
     "execution_count": 35,
     "metadata": {},
     "output_type": "execute_result"
    }
   ],
   "source": [
    "doc = cppdoc(\"\"\"DLLEXPORT int research_native_hyperscan_match_direct_bytebuffers(void * db_ptr, void * scratch_ptr, void * matches_ptr,\n",
    "    void * scan_from_ptr, int max_matches, int n_chars) {\n",
    "\n",
    "    hs_database_t * db = (hs_database_t *) db_ptr;\n",
    "    hs_scratch_t * scratch = (hs_scratch_t *) scratch_ptr;\n",
    "    char * string = (char *) scan_from_ptr;\n",
    "    unsigned int * matches_area = (unsigned int *) matches_ptr;\n",
    "\n",
    "    Hyperscan_buffered_positional_match hbpm = {&matches_area[0], max_matches, 0};\n",
    "\n",
    "    hs_error_t err = hs_scan(db, string, n_chars, 0, scratch, on_match_counter_record_positions_and_ids_buffered, &hbpm);\n",
    "    if (err != HS_SUCCESS) {\n",
    "        if (err != HS_SCAN_TERMINATED) {\n",
    "            throw std::runtime_error(\"ERROR: Unable to finish scanning the input string (matches att:\"\n",
    "            + std::to_string(hbpm.current) + \"). Exiting.\\n\");\n",
    "        }\n",
    "    }\n",
    "\n",
    "    return hbpm.current;\n",
    "}\n",
    "\"\"\")\n",
    "doc"
   ]
  },
  {
   "attachments": {},
   "cell_type": "markdown",
   "metadata": {},
   "source": [
    "## Handling large / long context lengths"
   ]
  },
  {
   "attachments": {},
   "cell_type": "markdown",
   "metadata": {},
   "source": [
    "As we saw earlier, we use create contextual prompts to define the context and operations of our model. However, this takes away a lot of our context size and since the GPT-3 context length is already fairily limited to 4097 tokens, this might quickly become a problem. Luckily we can use the `Stream` processing expression. This expression opens up a data stream and computes the remaining context length for prcoessing the input data. Then it chunks the sequence and computes the result for each chunk. The chunks can be processed with a `Sequence` expression, that allows multiple chained operations in sequential manner.\n",
    "\n",
    "In the following example we extract the news from a particular website and try to recombine all individual chunks again by clustering the information among the chunks and then recombining them. This gives us a way to consolidate contextually related inforamtion and recombine them in a meaningful way. Furthermore, the clustered information can then be labeled by looking / streaming through the values within the cluster and collecting the most relevant labels."
   ]
  },
  {
   "attachments": {},
   "cell_type": "markdown",
   "metadata": {},
   "source": [
    "<img src=\"../assets/images/img6.png\" width=\"720px\">"
   ]
  },
  {
   "attachments": {},
   "cell_type": "markdown",
   "metadata": {},
   "source": [
    "If we repeat this process, we now get a way of building up a hierarchical cluster with labels as entry points to allow information retrieval from our constructed structure."
   ]
  },
  {
   "cell_type": "code",
   "execution_count": 2,
   "metadata": {},
   "outputs": [],
   "source": [
    "import os\n",
    "from examples.news import News"
   ]
  },
  {
   "attachments": {},
   "cell_type": "markdown",
   "metadata": {},
   "source": [
    "The following expression generate news websites based on an URL."
   ]
  },
  {
   "cell_type": "code",
   "execution_count": 3,
   "metadata": {},
   "outputs": [
    {
     "name": "stderr",
     "output_type": "stream",
     "text": [
      "2023-01-13 11:59:31,790 ====== WebDriver manager ======\n",
      "2023-01-13 11:59:31,790 ====== WebDriver manager ======\n",
      "2023-01-13 11:59:31,790 ====== WebDriver manager ======\n",
      "2023-01-13 11:59:31,790 ====== WebDriver manager ======\n",
      "2023-01-13 11:59:31,790 ====== WebDriver manager ======\n",
      "2023-01-13 11:59:31,790 ====== WebDriver manager ======\n",
      "2023-01-13 11:59:31,790 ====== WebDriver manager ======\n",
      "2023-01-13 11:59:31,980 Driver [/system/user/dinu/.wdm/drivers/chromedriver/linux64/102.0.5005/chromedriver] found in cache\n",
      "2023-01-13 11:59:31,980 Driver [/system/user/dinu/.wdm/drivers/chromedriver/linux64/102.0.5005/chromedriver] found in cache\n",
      "2023-01-13 11:59:31,980 Driver [/system/user/dinu/.wdm/drivers/chromedriver/linux64/102.0.5005/chromedriver] found in cache\n",
      "2023-01-13 11:59:31,980 Driver [/system/user/dinu/.wdm/drivers/chromedriver/linux64/102.0.5005/chromedriver] found in cache\n",
      "2023-01-13 11:59:31,980 Driver [/system/user/dinu/.wdm/drivers/chromedriver/linux64/102.0.5005/chromedriver] found in cache\n",
      "2023-01-13 11:59:31,980 Driver [/system/user/dinu/.wdm/drivers/chromedriver/linux64/102.0.5005/chromedriver] found in cache\n",
      "2023-01-13 11:59:31,980 Driver [/system/user/dinu/.wdm/drivers/chromedriver/linux64/102.0.5005/chromedriver] found in cache\n"
     ]
    },
    {
     "name": "stdout",
     "output_type": "stream",
     "text": [
      "<botdyn.backend.engine_crawler.CrawlerEngine objec, <function Expression.fetch.<locals>._func at 0x7ff2fc4fc550>, {'wrp_self': <class 'examples.news.N ['<html lang=\"en\" prefix=\"og=https://ogp.me/ns#\" itemscope=\"\" itemtype=\"https://schema.org/WebPage\">\n",
      "<botdyn.backend.engine_gpt3.GPT3Engine object at 0, <function Symbol.clean.<locals>._func at 0x7ff2fc4fc5e0>, {'wrp_self': <class 'botdyn.symbol.Symbo ['\\n\\nCybersecurity Skip Navigation Markets Pre-Markets U.S. Markets Europe Markets China Markets As\n",
      "<botdyn.backend.engine_gpt3.GPT3Engine object at 0, <function Symbol.isinstanceof at 0x7ff2fc5494c0>, {'wrp_self': <class 'botdyn.symbol.Symbol'>(valu ['True']\n",
      "<botdyn.backend.engine_gpt3.GPT3Engine object at 0, <function Symbol.outline.<locals>._func at 0x7ff22f9ea700>, {'wrp_self': <class 'botdyn.symbol.Sym ['\\n- Meta sues Voyager Labs for creating fake accounts to scrape user data\\n- Dark web criminal min\n",
      "<botdyn.backend.engine_gpt3.GPT3Engine object at 0, <function Symbol.filter.<locals>._func at 0x7ff22f9ea700>, {'wrp_self': <class 'botdyn.symbol.Symb [\"['- Meta sues Voyager Labs for creating fake accounts to scrape user data', '- Dark web criminal m\n",
      "<botdyn.backend.engine_gpt3.GPT3Engine object at 0, <function Symbol.compose.<locals>._func at 0x7ff22f9ea700>, {'wrp_self': <class 'botdyn.symbol.Sym ['\\n\\nMeta has filed a lawsuit against Voyager Labs for creating fake accounts to scrape user data, \n",
      "<botdyn.backend.engine_gpt3.GPT3Engine object at 0, <function Symbol.clean.<locals>._func at 0x7ff34bbf98b0>, {'wrp_self': <class 'botdyn.symbol.Symbo ['\\n\\nCyber Report Benefits, risks of using a password manager to protect your online identity Tue, \n",
      "<botdyn.backend.engine_gpt3.GPT3Engine object at 0, <function Symbol.isinstanceof at 0x7ff2fc5494c0>, {'wrp_self': <class 'botdyn.symbol.Symbol'>(valu ['True']\n",
      "<botdyn.backend.engine_gpt3.GPT3Engine object at 0, <function Symbol.outline.<locals>._func at 0x7ff34bbf98b0>, {'wrp_self': <class 'botdyn.symbol.Sym ['-\\n- Benefits, risks of using password manager to protect online identity\\n- Cybersecurity consoli\n",
      "<botdyn.backend.engine_gpt3.GPT3Engine object at 0, <function Symbol.filter.<locals>._func at 0x7ff2fc4fc5e0>, {'wrp_self': <class 'botdyn.symbol.Symb [\"['- Benefits, risks of using password manager to protect online identity', '- Cybersecurity consol\n",
      "<botdyn.backend.engine_gpt3.GPT3Engine object at 0, <function Symbol.compose.<locals>._func at 0x7ff22f9ea700>, {'wrp_self': <class 'botdyn.symbol.Sym [' \\n\\nThe use of password managers to protect online identities has both benefits and risks. Cybers\n",
      "<botdyn.backend.engine_gpt3.GPT3Engine object at 0, <function Symbol.clean.<locals>._func at 0x7ff34bbf98b0>, {'wrp_self': <class 'botdyn.symbol.Symbo [\"\\n\\nTechnology Executive Council Closing keynote: The White House is serious about cybersecurity M\n",
      "<botdyn.backend.engine_gpt3.GPT3Engine object at 0, <function Symbol.isinstanceof at 0x7ff2fc5494c0>, {'wrp_self': <class 'botdyn.symbol.Symbol'>(valu ['True']\n",
      "<botdyn.backend.engine_gpt3.GPT3Engine object at 0, <function Symbol.outline.<locals>._func at 0x7ff34bbf98b0>, {'wrp_self': <class 'botdyn.symbol.Sym [\" \\n\\n- Technology Executive Council Closing keynote: The White House is serious about cybersecurit\n",
      "<botdyn.backend.engine_gpt3.GPT3Engine object at 0, <function Symbol.filter.<locals>._func at 0x7ff2fc4fc5e0>, {'wrp_self': <class 'botdyn.symbol.Symb ['[\\'- Technology Executive Council Closing keynote: The White House is serious about cybersecurity \n",
      "<botdyn.backend.engine_gpt3.GPT3Engine object at 0, <function Symbol.compose.<locals>._func at 0x7ff22f9ea700>, {'wrp_self': <class 'botdyn.symbol.Sym [\"\\n\\nAt the Technology Executive Council's Closing keynote on Mon, Dec 12th 2022, The White House w\n",
      "<botdyn.backend.engine_gpt3.GPT3Engine object at 0, <function Symbol.clean.<locals>._func at 0x7ff34bbf98b0>, {'wrp_self': <class 'botdyn.symbol.Symbo [' Supply Chain Values CNBC on Peacock Join the CNBC Panel Digital Products News Releases Closed Cap\n",
      "<botdyn.backend.engine_gpt3.GPT3Engine object at 0, <function Symbol.isinstanceof at 0x7ff2fc5494c0>, {'wrp_self': <class 'botdyn.symbol.Symbol'>(valu ['True']\n",
      "<botdyn.backend.engine_gpt3.GPT3Engine object at 0, <function Symbol.outline.<locals>._func at 0x7ff34bbf98b0>, {'wrp_self': <class 'botdyn.symbol.Sym ['-\\n-Supply Chain Values CNBC on Peacock\\n-Join CNBC Panel \\n-Digital Products News Releases \\n-Clo\n",
      "<botdyn.backend.engine_gpt3.GPT3Engine object at 0, <function Symbol.filter.<locals>._func at 0x7ff2fc4fc5e0>, {'wrp_self': <class 'botdyn.symbol.Symb [\"['-', '-Digital Products News Releases', '-Closed Captioning Corrections', '-About CNBC Internship\n",
      "<botdyn.backend.engine_gpt3.GPT3Engine object at 0, <function Symbol.compose.<locals>._func at 0x7ff22f9ea700>, {'wrp_self': <class 'botdyn.symbol.Sym [\"\\n\\nWelcome to CNBC's Digital Products page! Here you can find information about our news releases\n",
      "<botdyn.backend.engine_embedding.EmbeddingEngine o, <function Symbol.cluster.<locals>._func at 0x7ff34bbf98b0>, {'wrp_self': <class 'botdyn.symbol.Sym [[[-6.728385778842494e-05, -0.009135735221207142, 0.004200806841254234, -0.030969055369496346, -0.02\n",
      "<botdyn.backend.engine_gpt3.GPT3Engine object at 0, <function Symbol.unique.<locals>._func at 0x7ff2fc4fc5e0>, {'wrp_self': <class 'botdyn.symbol.Symb ['Technology Executive Council (TEC)']\n",
      "<botdyn.backend.engine_gpt3.GPT3Engine object at 0, <function Symbol.unique.<locals>._func at 0x7ff22f9ea700>, {'wrp_self': <class 'botdyn.symbol.Symb ['Digital Products']\n",
      "<botdyn.backend.engine_gpt3.GPT3Engine object at 0, <function Symbol.style.<locals>._func at 0x7ff34bbf98b0>, {'wrp_self': <class 'botdyn.symbol.Symbo ['\\n<!doctype html>\\n<html lang=\"en\">\\n  <head>\\n    <meta charset=\"utf-8\">\\n    <meta name=\"viewpor\n",
      "<botdyn.backend.engine_gpt3.GPT3Engine object at 0, <function Symbol.template.<locals>._func at 0x7ff22f2ee040>, {'wrp_self': <class 'botdyn.symbol.Sy ['<p>The following are some of the most recent headlines from the Technology Executive Council (TEC)\n",
      "<botdyn.backend.engine_gpt3.GPT3Engine object at 0, <function Symbol.style.<locals>._func at 0x7ff22f2ee0d0>, {'wrp_self': <class 'botdyn.symbol.Symbo ['\\n<div class=\"container\">\\n  <h2>Recent Technology Executive Council Headlines</h2>\\n  <div class=\n",
      "<botdyn.backend.engine_gpt3.GPT3Engine object at 0, <function Symbol.template.<locals>._func at 0x7ff22f2ee040>, {'wrp_self': <class 'botdyn.symbol.Sy [\"  <ul>\\n    <li>At the Technology Executive Council's Closing keynote on Mon, Dec 12th 2022, The W\n",
      "<botdyn.backend.engine_gpt3.GPT3Engine object at 0, <function Symbol.style.<locals>._func at 0x7ff22f2ee0d0>, {'wrp_self': <class 'botdyn.symbol.Symbo [\"\\n<h3>Upcoming Technology Events</h3>\\n<ul>\\n    <li><strong>Mon, Dec 12th 2022:</strong> The Whit\n",
      "<botdyn.backend.engine_gpt3.GPT3Engine object at 0, <function Symbol.template.<locals>._func at 0x7ff22f2ee040>, {'wrp_self': <class 'botdyn.symbol.Sy ['  <div class=\"container\">\\n      <h3>Crypto</h3>\\n      <p>On Mon, Nov 21st 2022, <b>Chainalysis\\\\\n",
      "<botdyn.backend.engine_gpt3.GPT3Engine object at 0, <function Symbol.style.<locals>._func at 0x7ff22f2ee0d0>, {'wrp_self': <class 'botdyn.symbol.Symbo ['\\n<div class=\"container\">\\n      <h2 class=\"text-primary\">Crypto</h2>\\n      <p>On Mon, Nov 21st 2\n"
     ]
    },
    {
     "data": {
      "text/plain": [
       "<class 'botdyn.symbol.Symbol'>(value=<!doctype html>\n",
       "<html lang=\"en\">\n",
       "  <head>\n",
       "    <meta charset=\"utf-8\">\n",
       "    <meta name=\"viewport\" content=\"width=device-width, initial-scale=1\">\n",
       "    <title>News</title>\n",
       "    <link rel=\"stylesheet\" href=\"https://cdn.jsdelivr.net/npm/bootstrap@5.2.3/dist/css/bootstrap.min.css\">\n",
       "    <script src=\"https://ajax.googleapis.com/ajax/libs/jquery/3.6.1/jquery.min.js\"></script>\n",
       "    <script src=\"https://cdn.jsdelivr.net/npm/bootstrap@5.2.3/dist/js/bootstrap.bundle.min.js\"></script>\n",
       "    <style>\n",
       "      body {\n",
       "        background-color: #303030;\n",
       "        color: #fbfbfb;\n",
       "        font-family: 'Arial', sans-serif;\n",
       "      }\n",
       "      h1 {\n",
       "        text-align: center;\n",
       "      }\n",
       "    </style>\n",
       "  </head>\n",
       "  <body>\n",
       "  <h1>News Headlines</h1>\n",
       "  <div class=\"container\">\n",
       "  <h2>Recent Technology Executive Council Headlines</h2>\n",
       "  <div class=\"row\">\n",
       "    <div class=\"col-md-6\">\n",
       "      <ul class=\"list-group\">\n",
       "        <li class=\"list-group-item list-group-item-action list-group-item-primary\">Meta has filed a lawsuit against Voyager Labs for creating fake accounts to scrape user data, showing the growing concern over data privacy.</li>\n",
       "        <li class=\"list-group-item list-group-item-action list-group-item-primary\">CrowdStrike CEO George Kurtz recently discussed the state of cybersecurity in 2023.</li>\n",
       "        <li class=\"list-group-item list-group-item-action list-group-item-primary\">Consumers are receiving payments from the Equifax settlement over the 2017 data breach.</li>\n",
       "        <li class=\"list-group-item list-group-item-action list-group-item-primary\">The use of password managers to protect online identities has both benefits and risks.</li>\n",
       "        <li class=\"list-group-item list-group-item-action list-group-item-primary\">Cybersecurity consolidation is expected to be even more prominent in the coming year.</li>\n",
       "      </ul>\n",
       "    </div>\n",
       "    <div class=\"col-md-6\">\n",
       "      <ul class=\"list-group\">\n",
       "        <li class=\"list-group-item list-group-item-action list-group-item-primary\">Two New York men were arrested for conspiring to hack the JFK taxi dispatch system.</li>\n",
       "        <li class=\"list-group-item list-group-item-action list-group-item-primary\">Tesla has cut prices in the U.S. and Europe in order to stimulate sales.</li>\n",
       "        <li class=\"list-group-item list-group-item-action list-group-item-primary\">Apple CEO Tim Cook has requested and received a 40% pay cut in response to the pandemic.</li>\n",
       "        <li class=\"list-group-item list-group-item-action list-group-item-primary\">A 37-year-old freelancer on Fiverr has revealed how he makes between $7,000 and $8,000 a month.</li>\n",
       "        <li class=\"list-group-item list-group-item-action list-group-item-primary\">Russian President Vladimir Putin’s recent reshuffle of military commanders has revealed a power struggle.</li>\n",
       "        <li class=\"list-group-item list-group-item-action list-group-item-primary\">JPMorgan Chase has shuttered a website it paid $175 million for.</li>\n",
       "        <li class=\"list-group-item list-group-item-action list-group-item-primary\">CAPTCHA is still an important tool for Google and e-commerce in the fight against bots.</li>\n",
       "        <li class=\"list-group-item list-group-item-action list-group-item-primary\">The FBI is worried about the wave of crime against America’s small businesses.</li>\n",
       "      </ul>\n",
       "    </div>\n",
       "  </div>\n",
       "</div>\n",
       "<h3>Upcoming Technology Events</h3>\n",
       "<ul>\n",
       "    <li><strong>Mon, Dec 12th 2022:</strong> The White House will address the recent surge in Gmail spam about Yeti coolers and emphasize their commitment to cybersecurity. The Technology Executive Council's Opening keynote will focus on finance, technology and national security.</li>\n",
       "    <li><strong>Sat, Dec 10th 2022:</strong> A Cyber Report will be released discussing LinkedIn's fake account problem and their efforts to fix it.</li>\n",
       "    <li><strong>Sun, Dec 11th 2022:</strong> Huawei will be licensing 5G patents to rival companies as US sanctions force the Chinese giant to seek new revenue.</li>\n",
       "    <li><strong>Thu, Dec 8th 2022:</strong> TechCheck will report on states taking action against TikTok over data privacy concerns.</li>\n",
       "    <li><strong>Wed, Dec 7th 2022:</strong> The CEO of SentinelOne will announce that the company wants to be profitable by FY25.</li>\n",
       "    <li><strong>Tue, Dec 6th 2022:</strong> A critically important chip firm will be driving a wedge between the US and the Netherlands.</li>\n",
       "    <li><strong>Wed, Nov 30th 2022:</strong> CrowdStrike's stock will be down on earnings, but Morgan Stanley will encourage investors to buy the dip.</li>\n",
       "    <li><strong>Mon, Nov 28th 2022:</strong> A Cyber Report will be released discussing the biggest risks of using fitness trackers to monitor your health.</li>\n",
       "    <li><strong>Fri, Nov 25th 2022:</strong> The new iPhone 14 and iOS upgrade will include some major cybersecurity changes.</li>\n",
       "    <li><strong>Tue, Nov 22nd 2022:</strong> TechCheck will feature an interview with tech executives about smalll businesses and what those owners can do to protect themselves from hackers. Tech executives are signaling that spending will increase in 2023 despite the massive layoffs in the sector. FuboTV was hit with a cyberattack during the World Cup semifinal match. Cloudflare CEO Matthew Prince has revealed that annual plans allow more free cash flow up-front.</li>\n",
       "</ul>\n",
       "\n",
       "Style the elements according to the Bootstrap library. Replace the list items with a summary title and the item text. Add highlighting animations and use best practices for colors, text font, etc. Use the following libraries: Font Awesome, Google Fonts, and jQuery.\n",
       "<div class=\"container\">\n",
       "      <h2 class=\"text-primary\">Crypto</h2>\n",
       "      <p>On Mon, Nov 21st 2022, <b>Chainalysis\\' CEO Michael Gronager</b> will discuss protecting customers from bad actors in the crypto space.</p>\n",
       "      <h2 class=\"text-primary\" >Gambling</h2>\n",
       "      <p>On Mon, Nov 21st 2022, <b>Gambling will report</b> that DraftKings says no evidence systems were breached following a report of a hack.</p>\n",
       "      <h2 class=\"text-primary\" >Cyber</h2>\n",
       "      <p>On Mon, Dec 5th 2022, a <b>Cyber Report</b> will be released discussing why people may need new login passwords fast.</p>\n",
       "      <h2 class=\"text-primary\">Tech</h2>\n",
       "      <p>On Mon, Nov 21st 2022, <b>Tech will feature an article</b> discussing how BlackBerry moved from iconic cellphones to cybersecurity.</p>\n",
       "    </div>\n",
       "    <br/><br/>\n",
       "    <div class=\"container\">\n",
       "      <h2 class=\"text-primary\">Digital Products</h2>\n",
       "      <p>Welcome to CNBC\\'s Digital Products page! Here you can find information about our news releases, closed captioning corrections, internships, and career opportunities. We also provide helpful advice on how to contact us or submit news tips. For those interested in advertising with us, simply get in touch with us and we will be happy to discuss our options.</p>\n",
       "      <p>Our website also provides a Privacy Policy, a Do Not Sell My Personal Information notice, a California Notice, and our Terms of Service. We provide real-time snapshots of global business and financial news, stock quotes, and market data and analysis. Please review our Market Data Terms of Use and Disclaimers before using any of the data provided.</p>\n",
       "    </div>\n",
       "\n",
       "<div class=\"container\">\n",
       "      <h2 class=\"text-primary animated fadeIn\">Crypto</h2>\n",
       "      <p class=\"animated fadeIn\">On Mon, Nov 21st 2022, <b>Chainalysis\\' CEO Michael Gronager</b> will discuss protecting customers from bad actors in the crypto space.</p>\n",
       "      <h2 class=\"text-primary animated fadeIn\">Gambling</h2>\n",
       "      <p class=\"animated fadeIn\">On Mon, Nov 21st 2022, <b>Gambling will report</b> that DraftKings says no evidence systems were breached following a report of a hack.</p>\n",
       "      <h2 class=\"text-primary animated fadeIn\">Cyber</h2>\n",
       "      <p class=\"animated fadeIn\">On Mon, Dec 5th 2022, a <b>Cyber Report</b> will be released discussing why people may need new login passwords fast.</p>\n",
       "      <h2 class=\"text-primary animated fadeIn\">Tech</h2>\n",
       "      <p class=\"animated fadeIn\">On Mon, Nov 21st 2022, <b>Tech will feature an article</b> discussing how BlackBerry moved from iconic cellphones to cybersecurity.</p>\n",
       "    </div>\n",
       "    <br/><br/>\n",
       "    <div class=\"container\">\n",
       "      <h2 class=\"text-primary animated fadeIn\">Digital Products</h2>\n",
       "      <p class=\"animated fadeIn\">Welcome to CNBC\\'s Digital Products page! Here you can find information about our news releases, closed captioning corrections, internships, and career opportunities. We also provide helpful advice on how to contact us or submit news tips. For those interested in advertising with us, simply get in touch with us and we will be happy to discuss our options.</p>\n",
       "      <p class=\"animated fadeIn\">Our website also provides a Privacy Policy, a Do Not Sell My Personal Information notice, a California Notice, and our Terms of Service. We provide real-time snapshots of global business and financial news, stock quotes, and market data and analysis. Please review our Market Data Terms of Use and Disclaimers before using any of the data provided.</p>\n",
       "    </div>\n",
       "  </body>\n",
       "</html>)"
      ]
     },
     "execution_count": 3,
     "metadata": {},
     "output_type": "execute_result"
    }
   ],
   "source": [
    "# crawling the website and creating an own website based on its facts\n",
    "news = News(url='https://www.cnbc.com/cybersecurity/',\n",
    "            pattern='cnbc',\n",
    "            filters=ExcludeFilter('sentences about subscriptions, licensing, newsletter'),\n",
    "            render=True)\n",
    "expr = Log(Trace(news))\n",
    "res = expr()\n",
    "os.makedirs('results', exist_ok=True)\n",
    "path = os.path.abspath('results/news.html')\n",
    "res.save(path, replace=False)"
   ]
  },
  {
   "attachments": {},
   "cell_type": "markdown",
   "metadata": {},
   "source": [
    "Another example is to read in a PDF file and extract the text from it to create a website based on its content."
   ]
  },
  {
   "cell_type": "code",
   "execution_count": 76,
   "metadata": {},
   "outputs": [],
   "source": [
    "import os\n",
    "from examples.paper import Paper"
   ]
  },
  {
   "cell_type": "code",
   "execution_count": 77,
   "metadata": {},
   "outputs": [
    {
     "name": "stdout",
     "output_type": "stream",
     "text": [
      "<botdyn.backend.engine_file.FileEngine object at 0, <function Expression.open.<locals>._func at 0x7f00655fd0d0>, {'wrp_self': <class 'examples.paper.P ['Large Language Models are Zero-Shot Reasoners\\nTakeshi Kojima\\nThe University of Tokyo\\nt.kojima@w\n",
      "<botdyn.backend.engine_gpt3.GPT3Engine object at 0, <function Symbol.style.<locals>._func at 0x7f006554ef70>, {'wrp_self': <class 'botdyn.symbol.Symbo ['\\n<!doctype html>\\n<html lang=\"en\">\\n  <head>\\n    <meta charset=\"utf-8\">\\n    <meta name=\"viewpor\n"
     ]
    },
    {
     "ename": "TypeError",
     "evalue": "'NoneType' object is not callable",
     "output_type": "error",
     "traceback": [
      "\u001b[0;31m---------------------------------------------------------------------------\u001b[0m",
      "\u001b[0;31mTypeError\u001b[0m                                 Traceback (most recent call last)",
      "Cell \u001b[0;32mIn [77], line 3\u001b[0m\n\u001b[1;32m      1\u001b[0m paper \u001b[39m=\u001b[39m Paper(path\u001b[39m=\u001b[39m\u001b[39m'\u001b[39m\u001b[39mexamples/paper.pdf\u001b[39m\u001b[39m'\u001b[39m)\n\u001b[1;32m      2\u001b[0m expr \u001b[39m=\u001b[39m Log(Trace(paper))\n\u001b[0;32m----> 3\u001b[0m res \u001b[39m=\u001b[39m expr(n_pages\u001b[39m=\u001b[39;49m\u001b[39m1\u001b[39;49m)\n\u001b[1;32m      4\u001b[0m os\u001b[39m.\u001b[39mmakedirs(\u001b[39m'\u001b[39m\u001b[39mresults\u001b[39m\u001b[39m'\u001b[39m, exist_ok\u001b[39m=\u001b[39m\u001b[39mTrue\u001b[39;00m)\n\u001b[1;32m      5\u001b[0m path \u001b[39m=\u001b[39m os\u001b[39m.\u001b[39mpath\u001b[39m.\u001b[39mabspath(\u001b[39m'\u001b[39m\u001b[39mresults/news.html\u001b[39m\u001b[39m'\u001b[39m)\n",
      "File \u001b[0;32m/system/user/publicwork/dinu/remote/botdynamics/botdyn/symbol.py:510\u001b[0m, in \u001b[0;36mExpression.__call__\u001b[0;34m(self, *args, **kwargs)\u001b[0m\n\u001b[1;32m    509\u001b[0m \u001b[39mdef\u001b[39;00m \u001b[39m__call__\u001b[39m(\u001b[39mself\u001b[39m, \u001b[39m*\u001b[39margs, \u001b[39m*\u001b[39m\u001b[39m*\u001b[39mkwargs) \u001b[39m-\u001b[39m\u001b[39m>\u001b[39m Symbol:\n\u001b[0;32m--> 510\u001b[0m     \u001b[39mself\u001b[39m\u001b[39m.\u001b[39mvalue \u001b[39m=\u001b[39m \u001b[39mself\u001b[39;49m\u001b[39m.\u001b[39;49mforward(\u001b[39m*\u001b[39;49margs, \u001b[39m*\u001b[39;49m\u001b[39m*\u001b[39;49mkwargs)\n\u001b[1;32m    511\u001b[0m     \u001b[39mreturn\u001b[39;00m \u001b[39mself\u001b[39m\u001b[39m.\u001b[39mvalue\n",
      "File \u001b[0;32m/system/user/publicwork/dinu/remote/botdynamics/botdyn/components.py:85\u001b[0m, in \u001b[0;36mLog.forward\u001b[0;34m(self, *args, **kwargs)\u001b[0m\n\u001b[1;32m     83\u001b[0m \u001b[39mdef\u001b[39;00m \u001b[39mforward\u001b[39m(\u001b[39mself\u001b[39m, \u001b[39m*\u001b[39margs, \u001b[39m*\u001b[39m\u001b[39m*\u001b[39mkwargs) \u001b[39m-\u001b[39m\u001b[39m>\u001b[39m Symbol:\n\u001b[1;32m     84\u001b[0m     \u001b[39mself\u001b[39m\u001b[39m.\u001b[39mcommand(logging\u001b[39m=\u001b[39m\u001b[39mTrue\u001b[39;00m)\n\u001b[0;32m---> 85\u001b[0m     res \u001b[39m=\u001b[39m \u001b[39mself\u001b[39;49m\u001b[39m.\u001b[39;49mexpr(\u001b[39m*\u001b[39;49margs, \u001b[39m*\u001b[39;49m\u001b[39m*\u001b[39;49mkwargs)\n\u001b[1;32m     86\u001b[0m     \u001b[39mreturn\u001b[39;00m res\n",
      "File \u001b[0;32m/system/user/publicwork/dinu/remote/botdynamics/botdyn/symbol.py:510\u001b[0m, in \u001b[0;36mExpression.__call__\u001b[0;34m(self, *args, **kwargs)\u001b[0m\n\u001b[1;32m    509\u001b[0m \u001b[39mdef\u001b[39;00m \u001b[39m__call__\u001b[39m(\u001b[39mself\u001b[39m, \u001b[39m*\u001b[39margs, \u001b[39m*\u001b[39m\u001b[39m*\u001b[39mkwargs) \u001b[39m-\u001b[39m\u001b[39m>\u001b[39m Symbol:\n\u001b[0;32m--> 510\u001b[0m     \u001b[39mself\u001b[39m\u001b[39m.\u001b[39mvalue \u001b[39m=\u001b[39m \u001b[39mself\u001b[39;49m\u001b[39m.\u001b[39;49mforward(\u001b[39m*\u001b[39;49margs, \u001b[39m*\u001b[39;49m\u001b[39m*\u001b[39;49mkwargs)\n\u001b[1;32m    511\u001b[0m     \u001b[39mreturn\u001b[39;00m \u001b[39mself\u001b[39m\u001b[39m.\u001b[39mvalue\n",
      "File \u001b[0;32m/system/user/publicwork/dinu/remote/botdynamics/botdyn/components.py:73\u001b[0m, in \u001b[0;36mTrace.forward\u001b[0;34m(self, *args, **kwargs)\u001b[0m\n\u001b[1;32m     71\u001b[0m \u001b[39mdef\u001b[39;00m \u001b[39mforward\u001b[39m(\u001b[39mself\u001b[39m, \u001b[39m*\u001b[39margs, \u001b[39m*\u001b[39m\u001b[39m*\u001b[39mkwargs) \u001b[39m-\u001b[39m\u001b[39m>\u001b[39m Symbol:\n\u001b[1;32m     72\u001b[0m     \u001b[39mself\u001b[39m\u001b[39m.\u001b[39mcommand(verbose\u001b[39m=\u001b[39m\u001b[39mTrue\u001b[39;00m)\n\u001b[0;32m---> 73\u001b[0m     res \u001b[39m=\u001b[39m \u001b[39mself\u001b[39;49m\u001b[39m.\u001b[39;49mexpr(\u001b[39m*\u001b[39;49margs, \u001b[39m*\u001b[39;49m\u001b[39m*\u001b[39;49mkwargs)\n\u001b[1;32m     74\u001b[0m     \u001b[39mself\u001b[39m\u001b[39m.\u001b[39mcommand(verbose\u001b[39m=\u001b[39m\u001b[39mFalse\u001b[39;00m)\n\u001b[1;32m     75\u001b[0m     \u001b[39mreturn\u001b[39;00m res\n",
      "File \u001b[0;32m/system/user/publicwork/dinu/remote/botdynamics/botdyn/symbol.py:510\u001b[0m, in \u001b[0;36mExpression.__call__\u001b[0;34m(self, *args, **kwargs)\u001b[0m\n\u001b[1;32m    509\u001b[0m \u001b[39mdef\u001b[39;00m \u001b[39m__call__\u001b[39m(\u001b[39mself\u001b[39m, \u001b[39m*\u001b[39margs, \u001b[39m*\u001b[39m\u001b[39m*\u001b[39mkwargs) \u001b[39m-\u001b[39m\u001b[39m>\u001b[39m Symbol:\n\u001b[0;32m--> 510\u001b[0m     \u001b[39mself\u001b[39m\u001b[39m.\u001b[39mvalue \u001b[39m=\u001b[39m \u001b[39mself\u001b[39;49m\u001b[39m.\u001b[39;49mforward(\u001b[39m*\u001b[39;49margs, \u001b[39m*\u001b[39;49m\u001b[39m*\u001b[39;49mkwargs)\n\u001b[1;32m    511\u001b[0m     \u001b[39mreturn\u001b[39;00m \u001b[39mself\u001b[39m\u001b[39m.\u001b[39mvalue\n",
      "File \u001b[0;32m/system/user/publicwork/dinu/remote/botdynamics/examples/paper.py:58\u001b[0m, in \u001b[0;36mPaper.forward\u001b[0;34m(self, **kwargs)\u001b[0m\n\u001b[1;32m     56\u001b[0m template \u001b[39m=\u001b[39m \u001b[39mself\u001b[39m\u001b[39m.\u001b[39mheader_style(\u001b[39mself\u001b[39m\u001b[39m.\u001b[39mhtml_template, max_tokens\u001b[39m=\u001b[39m\u001b[39m2000\u001b[39m)\n\u001b[1;32m     57\u001b[0m paragraphs \u001b[39m=\u001b[39m []\n\u001b[0;32m---> 58\u001b[0m \u001b[39mfor\u001b[39;00m section \u001b[39min\u001b[39;00m \u001b[39mself\u001b[39m\u001b[39m.\u001b[39mdata_stream(res):\n\u001b[1;32m     59\u001b[0m     key \u001b[39m=\u001b[39m section\u001b[39m.\u001b[39munique(paragraphs)\n\u001b[1;32m     60\u001b[0m     paragraphs\u001b[39m.\u001b[39mappend(\u001b[39mstr\u001b[39m(key))\n",
      "File \u001b[0;32m/system/user/publicwork/dinu/remote/botdynamics/botdyn/components.py:61\u001b[0m, in \u001b[0;36mStream.forward\u001b[0;34m(self, sym, **kwargs)\u001b[0m\n\u001b[1;32m     58\u001b[0m \u001b[39mfor\u001b[39;00m chunks \u001b[39min\u001b[39;00m \u001b[39mrange\u001b[39m(steps):\n\u001b[1;32m     59\u001b[0m     \u001b[39m# iterate over string in chunks of max_chars\u001b[39;00m\n\u001b[1;32m     60\u001b[0m     r \u001b[39m=\u001b[39m Symbol(\u001b[39mstr\u001b[39m(sym)[chunks \u001b[39m*\u001b[39m \u001b[39mself\u001b[39m\u001b[39m.\u001b[39mmax_chars: (chunks \u001b[39m+\u001b[39m \u001b[39m1\u001b[39m) \u001b[39m*\u001b[39m \u001b[39mself\u001b[39m\u001b[39m.\u001b[39mmax_chars])\n\u001b[0;32m---> 61\u001b[0m     size \u001b[39m=\u001b[39m \u001b[39mself\u001b[39m\u001b[39m.\u001b[39mmax_tokens \u001b[39m-\u001b[39m r\u001b[39m.\u001b[39;49msize()\n\u001b[1;32m     62\u001b[0m     r \u001b[39m=\u001b[39m \u001b[39mself\u001b[39m\u001b[39m.\u001b[39mexpr(r, max_tokens\u001b[39m=\u001b[39msize, \u001b[39m*\u001b[39m\u001b[39m*\u001b[39mkwargs)\n\u001b[1;32m     63\u001b[0m     \u001b[39myield\u001b[39;00m r\n",
      "File \u001b[0;32m/system/user/publicwork/dinu/remote/botdynamics/botdyn/symbol.py:102\u001b[0m, in \u001b[0;36mSymbol.size\u001b[0;34m(self)\u001b[0m\n\u001b[1;32m    101\u001b[0m \u001b[39mdef\u001b[39;00m \u001b[39msize\u001b[39m(\u001b[39mself\u001b[39m) \u001b[39m-\u001b[39m\u001b[39m>\u001b[39m \u001b[39mint\u001b[39m:\n\u001b[0;32m--> 102\u001b[0m     \u001b[39mreturn\u001b[39;00m \u001b[39mlen\u001b[39m(tokenizer(\u001b[39mstr\u001b[39;49m(\u001b[39mself\u001b[39;49m\u001b[39m.\u001b[39;49mvalue))\u001b[39m.\u001b[39minput_ids)\n",
      "\u001b[0;31mTypeError\u001b[0m: 'NoneType' object is not callable"
     ]
    }
   ],
   "source": [
    "paper = Paper(path='examples/paper.pdf')\n",
    "expr = Log(Trace(paper))\n",
    "res = expr(n_pages=1)\n",
    "os.makedirs('results', exist_ok=True)\n",
    "path = os.path.abspath('results/news.html')\n",
    "res.save(path, replace=False)"
   ]
  },
  {
   "cell_type": "code",
   "execution_count": null,
   "metadata": {},
   "outputs": [],
   "source": []
  }
 ],
 "metadata": {
  "kernelspec": {
   "display_name": "Continual RL",
   "language": "python",
   "name": "continualrl"
  },
  "language_info": {
   "codemirror_mode": {
    "name": "ipython",
    "version": 3
   },
   "file_extension": ".py",
   "mimetype": "text/x-python",
   "name": "python",
   "nbconvert_exporter": "python",
   "pygments_lexer": "ipython3",
   "version": "3.9.7 (default, Sep 16 2021, 13:09:58) \n[GCC 7.5.0]"
  },
  "orig_nbformat": 4,
  "vscode": {
   "interpreter": {
    "hash": "7f6e76e437f50039fcb1dabeb26a40fb80edddddd3448a5d408bb52a844f2e97"
   }
  }
 },
 "nbformat": 4,
 "nbformat_minor": 2
}
