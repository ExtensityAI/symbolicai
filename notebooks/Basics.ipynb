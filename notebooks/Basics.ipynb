{
 "cells": [
  {
   "attachments": {},
   "cell_type": "markdown",
   "metadata": {},
   "source": [
    "# SymbolicAI: Basics"
   ]
  },
  {
   "attachments": {},
   "cell_type": "markdown",
   "metadata": {},
   "source": [
    "### Get Imports"
   ]
  },
  {
   "cell_type": "code",
   "execution_count": 6,
   "metadata": {},
   "outputs": [],
   "source": [
    "import os\n",
    "import warnings\n",
    "warnings.filterwarnings('ignore')\n",
    "os.chdir('../') # set the working directory to the root of the project\n",
    "from symai import *\n",
    "from IPython.display import display"
   ]
  },
  {
   "attachments": {},
   "cell_type": "markdown",
   "metadata": {},
   "source": [
    "### Using Symbols"
   ]
  },
  {
   "cell_type": "code",
   "execution_count": 2,
   "metadata": {},
   "outputs": [
    {
     "data": {
      "text/html": [
       "<div class=\"alert alert-success\" role=\"alert\">\n",
       "  Hi there!\n",
       "</div>"
      ],
      "text/plain": [
       "<class 'symai.symbol.Symbol'>(value=Hi there!)"
      ]
     },
     "execution_count": 2,
     "metadata": {},
     "output_type": "execute_result"
    }
   ],
   "source": [
    "sym = Symbol('Hi there!')\n",
    "sym"
   ]
  },
  {
   "attachments": {},
   "cell_type": "markdown",
   "metadata": {},
   "source": [
    "Adding two symbols together."
   ]
  },
  {
   "cell_type": "code",
   "execution_count": 3,
   "metadata": {},
   "outputs": [
    {
     "data": {
      "text/html": [
       "<div class=\"alert alert-success\" role=\"alert\">\n",
       "  Hi there! How are you?\n",
       "</div>"
      ],
      "text/plain": [
       "<class 'symai.symbol.Symbol'>(value=Hi there! How are you?)"
      ]
     },
     "execution_count": 3,
     "metadata": {},
     "output_type": "execute_result"
    }
   ],
   "source": [
    "res = sym + 'how are you?'\n",
    "res"
   ]
  },
  {
   "attachments": {},
   "cell_type": "markdown",
   "metadata": {},
   "source": [
    "If one of the objects is a symbol then the other object is converted to a symbol."
   ]
  },
  {
   "attachments": {},
   "cell_type": "markdown",
   "metadata": {},
   "source": [
    "A `Symbol` instance takes in any type of object and preserves its original value type until it is evaluated and sent to the neuro-symbolic engine:"
   ]
  },
  {
   "cell_type": "code",
   "execution_count": 4,
   "metadata": {},
   "outputs": [
    {
     "data": {
      "text/plain": [
       "numpy.ndarray"
      ]
     },
     "execution_count": 4,
     "metadata": {},
     "output_type": "execute_result"
    }
   ],
   "source": [
    "sym = Symbol(np.array([5, 2, 42, 1]))\n",
    "sym.type()"
   ]
  },
  {
   "attachments": {},
   "cell_type": "markdown",
   "metadata": {},
   "source": [
    "One can also easily retriev the object by accessing the `value` attribute:"
   ]
  },
  {
   "cell_type": "code",
   "execution_count": 5,
   "metadata": {},
   "outputs": [
    {
     "data": {
      "text/plain": [
       "array([ 5,  2, 42,  1])"
      ]
     },
     "execution_count": 5,
     "metadata": {},
     "output_type": "execute_result"
    }
   ],
   "source": [
    "sym.value"
   ]
  },
  {
   "attachments": {},
   "cell_type": "markdown",
   "metadata": {},
   "source": [
    "We can add multiple values together and their operation will be contextualized evaluated. Here we use the shift operator to integrate a new value into the existing symbol:"
   ]
  },
  {
   "cell_type": "code",
   "execution_count": 6,
   "metadata": {},
   "outputs": [
    {
     "data": {
      "text/html": [
       "<div class=\"alert alert-success\" role=\"alert\">\n",
       "  ['5', '2', '42', '1', '2']\n",
       "</div>"
      ],
      "text/plain": [
       "<class 'symai.symbol.Symbol'>(value=['5', '2', '42', '1', '2'])"
      ]
     },
     "execution_count": 6,
     "metadata": {},
     "output_type": "execute_result"
    }
   ],
   "source": [
    "res = sym << 2\n",
    "res"
   ]
  },
  {
   "attachments": {},
   "cell_type": "markdown",
   "metadata": {},
   "source": [
    "We could do the same manipulation with the `+` operator, however, the prompts designed for each individual operator may contain different information, therefore, therefore may not evaluated to similar outcomes. In the following example it is clear that the `+` operator is not to shift the value into the array:"
   ]
  },
  {
   "cell_type": "code",
   "execution_count": 7,
   "metadata": {},
   "outputs": [
    {
     "data": {
      "text/html": [
       "<div class=\"alert alert-success\" role=\"alert\">\n",
       "  ['5', '2', '42', '1', 2]\n",
       "</div>"
      ],
      "text/plain": [
       "<class 'symai.symbol.Symbol'>(value=['5', '2', '42', '1', 2])"
      ]
     },
     "execution_count": 7,
     "metadata": {},
     "output_type": "execute_result"
    }
   ],
   "source": [
    "res = sym + 2\n",
    "res"
   ]
  },
  {
   "attachments": {},
   "cell_type": "markdown",
   "metadata": {},
   "source": [
    "However, if we use the `+` operator to evaluate arithmetic operations, the results are quite different:"
   ]
  },
  {
   "cell_type": "code",
   "execution_count": 8,
   "metadata": {},
   "outputs": [
    {
     "data": {
      "text/html": [
       "<div class=\"alert alert-success\" role=\"alert\">\n",
       "  x1\n",
       "</div>"
      ],
      "text/plain": [
       "<class 'symai.symbol.Symbol'>(value=x1)"
      ]
     },
     "execution_count": 8,
     "metadata": {},
     "output_type": "execute_result"
    }
   ],
   "source": [
    "x = Symbol('x')\n",
    "x += 1\n",
    "x"
   ]
  },
  {
   "attachments": {},
   "cell_type": "markdown",
   "metadata": {},
   "source": [
    "In that case the neural engines believes that the goal is to concatenate the two values together. Assuming that we want to add to mathematical operations, we need to use the `expression` operator:"
   ]
  },
  {
   "cell_type": "code",
   "execution_count": 10,
   "metadata": {},
   "outputs": [
    {
     "data": {
      "text/html": [
       "<div class=\"alert alert-success\" role=\"alert\">\n",
       "  x + 3\n",
       "</div>"
      ],
      "text/plain": [
       "<class 'symai.symbol.Symbol'>(value=x + 3)"
      ]
     },
     "execution_count": 10,
     "metadata": {},
     "output_type": "execute_result"
    }
   ],
   "source": [
    "sym = Symbol('x + 1').expression('self + 2')\n",
    "sym"
   ]
  },
  {
   "attachments": {},
   "cell_type": "markdown",
   "metadata": {},
   "source": [
    "Here we get the expected result. The `self` statement in the `expression` method is a reference to the current symbol (x + 1). This is useful when we want to access values from the current symbol using the `expression` method."
   ]
  },
  {
   "attachments": {},
   "cell_type": "markdown",
   "metadata": {},
   "source": [
    "### Evaluating Expressions"
   ]
  },
  {
   "attachments": {},
   "cell_type": "markdown",
   "metadata": {},
   "source": [
    "Similar to `word2vec` we intend to preform contextualized operations on different symbols. \n",
    "\n",
    "Word2vec is a machine learning algorithm that is used to generate dense vector representations of words. It works by training a shallow neural network to predict a word given its neighbors in a text corpus. The resulting vectors are then used in a wide range of natural language processing applications, such as sentiment analysis, text classification, and clustering.\n",
    "\n",
    "Below we can see an example how one can perform operations on the word embedding vectors (colored boxes)."
   ]
  },
  {
   "attachments": {},
   "cell_type": "markdown",
   "metadata": {},
   "source": [
    "<img src=\"../assets/images/img3.png\" width=\"470px\">"
   ]
  },
  {
   "attachments": {},
   "cell_type": "markdown",
   "metadata": {},
   "source": [
    "However, we can also perform operations on the natural language space itself. For example, we can add two the word expressions similar to how we added them in the word2vec space:"
   ]
  },
  {
   "cell_type": "code",
   "execution_count": 3,
   "metadata": {},
   "outputs": [
    {
     "data": {
      "text/html": [
       "<div class=\"alert alert-success\" role=\"alert\">\n",
       "  Queen\n",
       "</div>"
      ],
      "text/plain": [
       "<class 'symai.symbol.Symbol'>(value=Queen)"
      ]
     },
     "execution_count": 3,
     "metadata": {},
     "output_type": "execute_result"
    }
   ],
   "source": [
    "Symbol('King - Man + Women').expression()"
   ]
  },
  {
   "attachments": {},
   "cell_type": "markdown",
   "metadata": {},
   "source": [
    "As we can see, if the `expression` method is empty the default implementation of `Symbol` uses only the `value` stored within the current symbol. \n",
    "\n",
    "Now let's try to evaluate a more complex expression:"
   ]
  },
  {
   "cell_type": "code",
   "execution_count": 2,
   "metadata": {},
   "outputs": [
    {
     "data": {
      "text/html": [
       "<div class=\"alert alert-success\" role=\"alert\">\n",
       "  x^2 + 2x + 1\n",
       "</div>"
      ],
      "text/plain": [
       "<class 'symai.symbol.Symbol'>(value=x^2 + 2x + 1)"
      ]
     },
     "execution_count": 2,
     "metadata": {},
     "output_type": "execute_result"
    }
   ],
   "source": [
    "sym = Symbol()\n",
    "res = sym.expression('x^2 + 2x + 1')\n",
    "res\n"
   ]
  },
  {
   "attachments": {},
   "cell_type": "markdown",
   "metadata": {},
   "source": [
    "Well, not exactly simplified the way we intended it. \n",
    "\n",
    "This is because using LLMs for expression evaluations is still very limited, therefore, to leverage the full power of symbolic programming we can use the `expression` method to evaluate an expression via `WolframAlpha`:"
   ]
  },
  {
   "cell_type": "code",
   "execution_count": 12,
   "metadata": {},
   "outputs": [
    {
     "data": {
      "text/html": [
       "<div class=\"alert alert-success\" role=\"alert\">\n",
       "  x = -1\n",
       "</div>"
      ],
      "text/plain": [
       "<class 'symai.symbol.Expression'>(value=x = -1)"
      ]
     },
     "execution_count": 12,
     "metadata": {},
     "output_type": "execute_result"
    }
   ],
   "source": [
    "expr = Symbol()\n",
    "Expression.command(engines=['symbolic'], expression_engine='wolframalpha')\n",
    "res = expr.expression('x^2 + 2x + 1')\n",
    "res"
   ]
  },
  {
   "attachments": {},
   "cell_type": "markdown",
   "metadata": {},
   "source": [
    "There we go! The `command` method configures the `symbolic` engine to evaluate expressions via `WolframAlpha`. One can see that this evaluates the expression and returns the correct result."
   ]
  },
  {
   "attachments": {},
   "cell_type": "markdown",
   "metadata": {},
   "source": [
    "### Showing other basic operations"
   ]
  },
  {
   "attachments": {},
   "cell_type": "markdown",
   "metadata": {},
   "source": [
    "Sometimes we want to simply concatenate to symbols together without any other neural operation. This is easily done with the `@` operation:"
   ]
  },
  {
   "cell_type": "code",
   "execution_count": 3,
   "metadata": {},
   "outputs": [
    {
     "data": {
      "text/html": [
       "<div class=\"alert alert-success\" role=\"alert\">\n",
       "  Welcome to our tutorial.Hello world!\n",
       "</div>"
      ],
      "text/plain": [
       "<class 'symai.symbol.Symbol'>(value=Welcome to our tutorial.Hello world!)"
      ]
     },
     "execution_count": 3,
     "metadata": {},
     "output_type": "execute_result"
    }
   ],
   "source": [
    "# define a second string\n",
    "sym = Symbol(\"Welcome to our tutorial.\")\n",
    "test2 = 'Hello world!'\n",
    "# concatenate strings\n",
    "res = sym @ test2\n",
    "res"
   ]
  },
  {
   "attachments": {},
   "cell_type": "markdown",
   "metadata": {},
   "source": [
    "We can of course define full sentences as Symbols and perform several operations on them."
   ]
  },
  {
   "cell_type": "code",
   "execution_count": 2,
   "metadata": {},
   "outputs": [],
   "source": [
    "sym = Symbol(\"\"\"Images and videos of domestic cats make up some of the most viewed content on the World Wide Web, particularly image macros in the form of lolcats. ThoughtCatalog has described cats as the \"unofficial mascot of the Internet\".[1]\n",
    "The subject has attracted the attention of various scholars and critics, who have analyzed why this form of low art has reached iconic status. Although it may be considered frivolous, cat-related Internet content contributes to how people interact with media and culture.[2] Some argue that there is a depth and complexity to this seemingly simple content, with a suggestion that the positive psychological effects that pets have on their owners also hold true for cat images viewed online.[3]\n",
    "Research has suggested that viewing online cat media is related to positive emotions, and that it even may work as a form of digital therapy or stress relief for some users. Some elements of research also shows that feelings of guilt when postponing tasks can be reduced by viewing cat content.[4]\n",
    "\"\"\")"
   ]
  },
  {
   "attachments": {},
   "cell_type": "markdown",
   "metadata": {},
   "source": [
    "Here we translate the existing Symbol to German:"
   ]
  },
  {
   "cell_type": "code",
   "execution_count": 3,
   "metadata": {},
   "outputs": [
    {
     "data": {
      "text/html": [
       "<div class=\"alert alert-success\" role=\"alert\">\n",
       "  Bilder und Videos von Haustieren machen einen Großteil der am meisten angesehenen Inhalte im World Wide Web aus, insbesondere Bildmacros in Form von Lolcats. ThoughtCatalog beschrieb Katzen als den \"unoffiziellen Maskottchen des Internets\". [1]\n",
       "Das Thema hat die Aufmerksamkeit verschiedener Wissenschaftler und Kritiker auf sich gezogen, die analysiert haben, warum diese Form der\n",
       "</div>"
      ],
      "text/plain": [
       "<class 'symai.symbol.Symbol'>(value=Bilder und Videos von Haustieren machen einen Großteil der am meisten angesehenen Inhalte im World Wide Web aus, insbesondere Bildmacros in Form von Lolcats. ThoughtCatalog beschrieb Katzen als den \"unoffiziellen Maskottchen des Internets\". [1]\n",
       "Das Thema hat die Aufmerksamkeit verschiedener Wissenschaftler und Kritiker auf sich gezogen, die analysiert haben, warum diese Form der)"
      ]
     },
     "execution_count": 3,
     "metadata": {},
     "output_type": "execute_result"
    }
   ],
   "source": [
    "sym.translate('German')"
   ]
  },
  {
   "attachments": {},
   "cell_type": "markdown",
   "metadata": {},
   "source": [
    "And now, we try to classify how the mood of the above sentences:"
   ]
  },
  {
   "cell_type": "code",
   "execution_count": 4,
   "metadata": {},
   "outputs": [
    {
     "data": {
      "text/html": [
       "<div class=\"alert alert-success\" role=\"alert\">\n",
       "  neutral\n",
       "</div>"
      ],
      "text/plain": [
       "<class 'symai.symbol.Symbol'>(value=neutral)"
      ]
     },
     "execution_count": 4,
     "metadata": {},
     "output_type": "execute_result"
    }
   ],
   "source": [
    "sym.choice(['angry', 'neutral', 'hate-speech', 'happy', 'unk'], default='unk')"
   ]
  },
  {
   "attachments": {},
   "cell_type": "markdown",
   "metadata": {},
   "source": [
    "## Documentation Generator Example"
   ]
  },
  {
   "cell_type": "code",
   "execution_count": 15,
   "metadata": {},
   "outputs": [],
   "source": [
    "from examples.docs import Docs, CppDocs\n",
    "docs = Docs()"
   ]
  },
  {
   "cell_type": "code",
   "execution_count": 16,
   "metadata": {},
   "outputs": [
    {
     "name": "stdout",
     "output_type": "stream",
     "text": [
      "\"\"\"Executes a function with the given parameters.\n",
      "\n",
      "Args:\n",
      "    default (str, optional): The default value to be returned if the task cannot be solved. Defaults to None.\n",
      "    constraints (List[Callable], optional): A list of constrains applied to the model output to verify the output. Defaults to [].\n",
      "    pre_processor (List[PreProcessor], optional): A list of pre-processors to be applied to the input and shape the input to the model. Defaults to None.\n",
      "    post_processor (List[PostProcessor], optional): A list of post-processors to be applied to the model output and before returning the result. Defaults to [].\n",
      "    *wrp_args: Variable length argument list.\n",
      "    **wrp_kwargs: Arbitrary keyword arguments.\n",
      "\n",
      "Returns:\n",
      "    decorator: A decorator that wraps the given function with the given parameters.\n",
      "\"\"\"\n"
     ]
    }
   ],
   "source": [
    "doc = docs(\"\"\"def execute(default: str = None,\n",
    "            constraints: List[Callable] = [],\n",
    "            pre_processor: List[PreProcessor] = [],\n",
    "            post_processor: List[PostProcessor] = [],\n",
    "            *wrp_args,\n",
    "            **wrp_kwargs):\n",
    "    def decorator(func):\n",
    "        @functools.wraps(func)\n",
    "        def wrapper(wrp_self, *args, **kwargs):\n",
    "            return execute_func(wrp_self, \n",
    "                                func=func,\n",
    "                                code=str(wrp_self),\n",
    "                                constraints=constraints, \n",
    "                                default=default, \n",
    "                                pre_processor=pre_processor, \n",
    "                                post_processor=post_processor,\n",
    "                                wrp_args=wrp_args,\n",
    "                                wrp_kwargs=wrp_kwargs,\n",
    "                                args=args, kwargs=kwargs)\n",
    "        return wrapper\n",
    "    return decorator\n",
    "\"\"\")\n",
    "print(doc)"
   ]
  },
  {
   "attachments": {},
   "cell_type": "markdown",
   "metadata": {},
   "source": [
    "## Markdown"
   ]
  },
  {
   "attachments": {},
   "cell_type": "markdown",
   "metadata": {},
   "source": [
    "We can actually on the fly also generate markdown documentation for our notebooks. This is done by using the built in `query` method. The `query` method is used to query the `symbolic` engine for information about the current symbol. The `query` method can therefore be used to ask the engine to generate documentation in a specific format."
   ]
  },
  {
   "cell_type": "code",
   "execution_count": 18,
   "metadata": {},
   "outputs": [
    {
     "name": "stdout",
     "output_type": "stream",
     "text": [
      "# News\n",
      "\n",
      "The News class is a custom Expression class used to fetch and process news articles. It contains methods to fetch a news article from a given URL, process the article using a specified pattern, and render the article in an HTML template. \n",
      "\n",
      "## Constructor\n",
      "\n",
      "The constructor takes four parameters:\n",
      "\n",
      "- `url`: A string representing the URL of the news article to fetch\n",
      "- `pattern`: A string representing the pattern to use when processing the news article\n",
      "- `filters`: An optional list of Expressions used to filter the news article\n",
      "- `render`: An optional boolean indicating whether or not to render the news article in an HTML template\n",
      "\n",
      "The constructor also initializes the following fields:\n",
      "\n",
      "- `data_stream`: A Stream object containing a Sequence of Clean, Translate, Outline, and Compose expressions\n",
      "- `header_style`: A Style object used to style the HTML template\n",
      "- `html_template`: A Symbol object containing the HTML template\n",
      "- `html_template_seq`: A Template object used to insert the rendered news article into the HTML template\n",
      "- `html_stream`: A Stream object containing a Sequence of the HTML template and style\n",
      "\n",
      "## Methods\n",
      "\n",
      "### render\n",
      "\n",
      "The render method takes a Symbol object as a parameter and returns a Symbol object containing the rendered news article. It uses the header_style to style the HTML template, the html_template_seq to insert the rendered news article into the HTML template, and the html_stream to style the rendered article.\n",
      "\n",
      "### forward\n",
      "\n",
      "The forward method fetches the news article from the given URL, processes it using the specified pattern, and clusters the results. It then maps the clusters and, if render is set to True, renders the mapped results. Finally, it returns a Symbol object containing the rendered news article.\n"
     ]
    }
   ],
   "source": [
    "res = expr.query(context=\"Write a very detailed Markdown documentation the News class.\", max_tokens=3000)\n",
    "print(res)"
   ]
  },
  {
   "cell_type": "code",
   "execution_count": null,
   "metadata": {},
   "outputs": [],
   "source": []
  }
 ],
 "metadata": {
  "kernelspec": {
   "display_name": "continualrl",
   "language": "python",
   "name": "python3"
  },
  "language_info": {
   "codemirror_mode": {
    "name": "ipython",
    "version": 3
   },
   "file_extension": ".py",
   "mimetype": "text/x-python",
   "name": "python",
   "nbconvert_exporter": "python",
   "pygments_lexer": "ipython3",
   "version": "3.9.7"
  },
  "orig_nbformat": 4,
  "vscode": {
   "interpreter": {
    "hash": "7f6e76e437f50039fcb1dabeb26a40fb80edddddd3448a5d408bb52a844f2e97"
   }
  }
 },
 "nbformat": 4,
 "nbformat_minor": 2
}
