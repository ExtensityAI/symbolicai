{
 "cells": [
  {
   "attachments": {},
   "cell_type": "markdown",
   "metadata": {},
   "source": [
    "# SymbolicAI: Basics"
   ]
  },
  {
   "attachments": {},
   "cell_type": "markdown",
   "metadata": {},
   "source": [
    "### Get Imports"
   ]
  },
  {
   "cell_type": "code",
   "execution_count": 1,
   "metadata": {},
   "outputs": [],
   "source": [
    "import os\n",
    "import warnings\n",
    "warnings.filterwarnings('ignore')\n",
    "os.chdir('../') # set the working directory to the root of the project\n",
    "from symai import *\n",
    "from IPython.display import display"
   ]
  },
  {
   "attachments": {},
   "cell_type": "markdown",
   "metadata": {},
   "source": [
    "## Handling large / long context lengths"
   ]
  },
  {
   "attachments": {},
   "cell_type": "markdown",
   "metadata": {},
   "source": [
    "We can create contextual prompts to define the semantic operations for our model. However, this takes away a lot of our context size and since the GPT-3 context length is limited to 4097 tokens, this might quickly become a problem. Luckily we can use the `Stream` processing expression. This expression opens up a data stream and computes the remaining context length for processing the input data. Then it chunks the sequence and computes the result for each chunk. The chunks can be processed with a `Sequence` expression, that allows multiple chained operations in a sequential manner.\n",
    "\n",
    "In the following example we show how we can extract news from a particular website and try to recombine all individual chunks again by clustering the information among the chunks and then recombining them. This gives us a way to consolidate contextually related information and recombine them in a meaningful way. Furthermore, the clustered information can then be labeled by looking / streaming through the values within the cluster and collecting the most relevant labels."
   ]
  },
  {
   "attachments": {},
   "cell_type": "markdown",
   "metadata": {},
   "source": [
    "<img src=\"../assets/images/img6.png\" width=\"720px\">"
   ]
  },
  {
   "attachments": {},
   "cell_type": "markdown",
   "metadata": {},
   "source": [
    "If we repeat this process, we now get a way of building up a hierarchical cluster with labels as entry points to allow information retrieval from our new data structure."
   ]
  },
  {
   "attachments": {},
   "cell_type": "markdown",
   "metadata": {},
   "source": [
    "To make manners more concrete, lets take a look at how to build up a news generator. Let us first start by importing some pre-defined string constants. These constants are used to define how the text is processed and how we desire the output to be formatted."
   ]
  },
  {
   "cell_type": "code",
   "execution_count": 5,
   "metadata": {},
   "outputs": [],
   "source": [
    "from examples.news import HEADER_STYLE_DESCRIPTION, HTML_TEMPLATE, HTML_STREAM_STYLE_DESCRIPTION"
   ]
  },
  {
   "attachments": {},
   "cell_type": "markdown",
   "metadata": {},
   "source": [
    "### News Generator"
   ]
  },
  {
   "attachments": {},
   "cell_type": "markdown",
   "metadata": {},
   "source": [
    "We sub-class the `Expression` class and define the `__init__` implementation. Similar to PyTorch we can define the graph in the `__init__` method and then call the `forward` method to compute the result. Afterwards, the data from the web URL is streamed through a `Sequence` of operations. This cleans the text from all the clutter such as `\\n`, `\\t`, etc. and then extracts the news from the text. \n",
    "The news are then filtered and re-composed. The resulting news texts are then clustered and the clusters are labeled. The labeled clusters are then recombined to return a rendered HTML format."
   ]
  },
  {
   "cell_type": "code",
   "execution_count": null,
   "metadata": {},
   "outputs": [],
   "source": [
    "class News(Expression):\n",
    "    \"\"\"The `News` class sub-classes `Expression` and provides a way to fetch and render news from a given url. It uses a `Stream` object to process the news data, with a sequence of `Clean`, `Translate`, `Outline`, and `Compose` expressions. \n",
    "    It also defines a `Style` for the header, and a `Symbol` for the HTML templates. \n",
    "    \"\"\"\n",
    "    def __init__(self, url: str, pattern: str, filters: List[Expression] = [], render: bool = False):\n",
    "        \"\"\"The `News` class constructor requires three arguments - `url`, `pattern` and `filters`. \n",
    "        * `url` is a `str` containing the url to fetch the news from. \n",
    "        * `pattern` is a `str` containing the name of the search key to be found on the web page.\n",
    "        * `filters` is a `List[Expression]` containing any additional filters that should be applied to the news data. \n",
    "        It defaults to an empty list if not specified. \n",
    "        The `News` class also has an optional `render` argument which is a `bool` indicating whether the news should be rendered. It defaults to `False` if not specified. \n",
    "        \"\"\"\n",
    "        super().__init__()\n",
    "        self.url = url\n",
    "        self.pattern = pattern\n",
    "        self.render_ = render\n",
    "        filters = filters if isinstance(filters, List) or isinstance(filters, tuple) else [filters]\n",
    "        self.data_stream = Stream(Sequence(\n",
    "            Clean(),\n",
    "            Translate(),\n",
    "            Outline(),\n",
    "            *filters,\n",
    "            Compose(f'Compose news paragraphs. Combine only facts that belong topic-wise together:\\n'),\n",
    "        ))\n",
    "        self.header_style = Style(description=HEADER_STYLE_DESCRIPTION, \n",
    "                                  libraries=['https://cdn.jsdelivr.net/npm/bootstrap@5.2.3/dist/css/bootstrap.min.css', \n",
    "                                             'https://cdn.jsdelivr.net/npm/bootstrap@5.2.3/dist/js/bootstrap.bundle.min.js',\n",
    "                                             'https://ajax.googleapis.com/ajax/libs/jquery/3.6.1/jquery.min.js'])\n",
    "        \n",
    "        self.html_template = Symbol(HTML_TEMPLATE)\n",
    "        self.html_template_seq = Template()\n",
    "        self.html_stream = Stream(\n",
    "            Sequence(\n",
    "                self.html_template_seq,\n",
    "                Style(description=HTML_STREAM_STYLE_DESCRIPTION)\n",
    "            )\n",
    "        )\n",
    "        \n",
    "    def render(self, sym: Symbol) -> Symbol:\n",
    "        \"\"\"The `render` method takes a `Symbol` as an argument and returns a `Symbol` containing the rendered news. \n",
    "        It first sets the `html_template_seq` property of the `html_stream` to the result of applying the `header_style` to the `html_template`. \n",
    "        It then iterates through the `data_stream` and collects the strings resulting from each expression. \n",
    "        These strings are combined into a single `Symbol` object which is then clustered. \n",
    "        Finally, the `render` method applies the `html_template` to the clustered `Symbol` and returns the result. \n",
    "        \"\"\"\n",
    "        tmp = self.header_style(self.html_template, max_tokens=2000)\n",
    "        self.html_template_seq.template_ = str(tmp)\n",
    "        res = '\\n'.join([str(s) for s in self.html_stream(sym)])\n",
    "        res = Symbol(str(tmp).replace('{{placeholder}}', res))\n",
    "        return res\n",
    "        \n",
    "    def forward(self) -> Symbol:\n",
    "        \"\"\"The `forward` method is used to fetch and process the news data. \n",
    "        It first calls the `fetch` method with the `url` and `pattern` arguments. \n",
    "        It then iterates through the `data_stream` and collects the `Symbol` object resulting from each expression. \n",
    "        These `Symbol` objects are then combined into a single `Symbol` object which is then mapped. \n",
    "        If `render` is `False`, the mapped `Symbol` is returned. Otherwise, the `render` method is called with the `Symbol` and the resulting `Symbol` is returned.\n",
    "        \"\"\"\n",
    "        res = Expression.fetch(url=self.url, pattern=self.pattern)\n",
    "        vals = []\n",
    "        for news in self.data_stream(res):\n",
    "            vals.append(str(news))\n",
    "        res = Symbol(vals).cluster()\n",
    "        sym = res.map()\n",
    "        if not self.render_:\n",
    "            return sym\n",
    "        return self.render(sym)"
   ]
  },
  {
   "attachments": {},
   "cell_type": "markdown",
   "metadata": {},
   "source": [
    "Here you can try the news generator:"
   ]
  },
  {
   "cell_type": "code",
   "execution_count": null,
   "metadata": {},
   "outputs": [],
   "source": [
    "# crawling the website and creating an own website based on its facts\n",
    "news = News(url='https://www.cnbc.com/cybersecurity/',\n",
    "            pattern='cnbc',\n",
    "            filters=ExcludeFilter('sentences about subscriptions, licensing, newsletter'),\n",
    "            render=True)"
   ]
  },
  {
   "attachments": {},
   "cell_type": "markdown",
   "metadata": {},
   "source": [
    "Since the generative process will evaluate multiple expression, we can use the `Trace` and `Log` classes to keep track of what is happening. "
   ]
  },
  {
   "cell_type": "code",
   "execution_count": null,
   "metadata": {},
   "outputs": [],
   "source": [
    "expr = Log(Trace(news))\n",
    "res = expr()\n",
    "os.makedirs('results', exist_ok=True)\n",
    "path = os.path.abspath('results/news.html')\n",
    "res.save(path, replace=False)"
   ]
  },
  {
   "attachments": {},
   "cell_type": "markdown",
   "metadata": {},
   "source": [
    "## Streaming over a PDF File"
   ]
  },
  {
   "attachments": {},
   "cell_type": "markdown",
   "metadata": {},
   "source": [
    "Another example is to read in a PDF file and extract the text from it to create a website based on its content."
   ]
  },
  {
   "cell_type": "code",
   "execution_count": null,
   "metadata": {},
   "outputs": [],
   "source": [
    "from examples.paper import Paper"
   ]
  },
  {
   "attachments": {},
   "cell_type": "markdown",
   "metadata": {},
   "source": [
    "The process is fairly similar to the news generator. We first read in the PDF file and then stream the text through a sequence of operations. The text is then cleaned and the sentences are extracted. The sentences are then clustered and labeled. The labeled clusters are then recombined to return a rendered HTML format."
   ]
  },
  {
   "cell_type": "code",
   "execution_count": null,
   "metadata": {},
   "outputs": [],
   "source": [
    "paper = Paper(path='examples/paper.pdf')\n",
    "expr = Log(Trace(paper))\n",
    "res = expr(n_pages=1)\n",
    "os.makedirs('results', exist_ok=True)\n",
    "path = os.path.abspath('results/news.html')\n",
    "res.save(path, replace=False)"
   ]
  },
  {
   "cell_type": "code",
   "execution_count": null,
   "metadata": {},
   "outputs": [],
   "source": []
  }
 ],
 "metadata": {
  "kernelspec": {
   "display_name": "continualrl",
   "language": "python",
   "name": "python3"
  },
  "language_info": {
   "codemirror_mode": {
    "name": "ipython",
    "version": 3
   },
   "file_extension": ".py",
   "mimetype": "text/x-python",
   "name": "python",
   "nbconvert_exporter": "python",
   "pygments_lexer": "ipython3",
   "version": "3.9.7 (default, Sep 16 2021, 13:09:58) \n[GCC 7.5.0]"
  },
  "orig_nbformat": 4,
  "vscode": {
   "interpreter": {
    "hash": "7f6e76e437f50039fcb1dabeb26a40fb80edddddd3448a5d408bb52a844f2e97"
   }
  }
 },
 "nbformat": 4,
 "nbformat_minor": 2
}
