{
 "cells": [
  {
   "cell_type": "markdown",
   "metadata": {},
   "source": [
    "# Primitives Cheat-Sheet - SymbolicAI\n",
    "\n",
    "> _Primitives are the atoms of the SymbolicAI API – small, orthogonal operations that can be freely combined to express very rich behaviour. Every `Symbol` automatically inherits them, so there is no import-gymnastics required: just create a symbol and start hacking._\n",
    "\n",
    "This notebook gives you a **hands-on overview** of the most useful primitives that ship with `symai`. All examples are *runnable* – execute the cells and play with them!\n",
    "\n",
    "> ❗️**NOTE**❗️We will focus mostly on the **semantic** behaviour of the primitives, but you can also use them in **syntactic** mode, which is the default. Syntactic mode behaves like a normal Python value, unless otherwise specified."
   ]
  },
  {
   "cell_type": "markdown",
   "metadata": {},
   "source": [
    "## Setup and Installation\n",
    "\n",
    "First, let's install and import the necessary dependencies:"
   ]
  },
  {
   "cell_type": "code",
   "execution_count": 1,
   "metadata": {},
   "outputs": [
    {
     "name": "stderr",
     "output_type": "stream",
     "text": [
      "/Users/futurisold/miniconda3/envs/symai/lib/python3.12/site-packages/tqdm/auto.py:21: TqdmWarning: IProgress not found. Please update jupyter and ipywidgets. See https://ipywidgets.readthedocs.io/en/stable/user_install.html\n",
      "  from .autonotebook import tqdm as notebook_tqdm\n"
     ]
    },
    {
     "name": "stdout",
     "output_type": "stream",
     "text": [
      "SymbolicAI imported successfully!\n"
     ]
    }
   ],
   "source": [
    "# Install SymbolicAI if not already installed\n",
    "# !pip install symbolicai\n",
    "\n",
    "# Import the main Symbol class\n",
    "from symai import Symbol\n",
    "\n",
    "print(\"SymbolicAI imported successfully!\")"
   ]
  },
  {
   "cell_type": "markdown",
   "metadata": {},
   "source": [
    "## 1. Syntactic vs. Semantic Symbols\n",
    "\n",
    "`Symbol` comes in **two flavours**:\n",
    "\n",
    "1. **Syntactic** – behaves like a normal Python value (string, list, int ‐ whatever you passed in).\n",
    "2. **Semantic**  – is wired to the neuro-symbolic engine and therefore *understands* meaning and context.\n",
    "\n",
    "### How to switch to the semantic view"
   ]
  },
  {
   "cell_type": "code",
   "execution_count": 2,
   "metadata": {},
   "outputs": [
    {
     "name": "stdout",
     "output_type": "stream",
     "text": [
      "Semantic symbol: Cats are adorable\n"
     ]
    }
   ],
   "source": [
    "# 1. At creation time\n",
    "s = Symbol(\"Cats are adorable\", semantic=True)  # already semantic\n",
    "print(f\"Semantic symbol: {s}\")"
   ]
  },
  {
   "cell_type": "code",
   "execution_count": 3,
   "metadata": {},
   "outputs": [
    {
     "name": "stdout",
     "output_type": "stream",
     "text": [
      "Syntactic startswith 'Cats': True\n",
      "Semantic startswith 'animal': True\n",
      "Semantic 'feline' in s: True\n",
      "Split result: Cats\n"
     ]
    }
   ],
   "source": [
    "# 2. On demand with the .sem projection – the twin .syn flips you back\n",
    "s = Symbol(\"Cats are adorable\")  # default = syntactic\n",
    "\n",
    "print(f\"Syntactic startswith 'Cats': {s.startswith('Cats')}\")\n",
    "print(f\"Semantic startswith 'animal': {s.sem.startswith('animal')}\")\n",
    "print(f\"Semantic 'feline' in s: {'feline' in s.sem}\")\n",
    "\n",
    "# Syntactic operator split, syntactic index\n",
    "result = (s / \" \")[0]\n",
    "print(f\"Split result: {result}\")"
   ]
  },
  {
   "cell_type": "markdown",
   "metadata": {},
   "source": [
    "## 2. Inversion and Negation"
   ]
  },
  {
   "cell_type": "code",
   "execution_count": 4,
   "metadata": {},
   "outputs": [
    {
     "name": "stdout",
     "output_type": "stream",
     "text": [
      "Original: I am standing on the shoulders of giants.\n",
      "Inverted: The giants are standing on my shoulders.\n"
     ]
    }
   ],
   "source": [
    "# Inversion (~)\n",
    "s = Symbol(\"I am standing on the shoulders of giants.\", semantic=True)\n",
    "inverted = ~s\n",
    "print(f\"Original: {s}\")\n",
    "print(f\"Inverted: {inverted}\")"
   ]
  },
  {
   "cell_type": "code",
   "execution_count": 5,
   "metadata": {},
   "outputs": [
    {
     "name": "stdout",
     "output_type": "stream",
     "text": [
      "Original: I am happy.\n",
      "Negated: I am not happy.\n"
     ]
    }
   ],
   "source": [
    "# Negation (-)\n",
    "s = Symbol(\"I am happy.\", semantic=True)\n",
    "negated = -s\n",
    "print(f\"Original: {s}\")\n",
    "print(f\"Negated: {negated}\")"
   ]
  },
  {
   "cell_type": "markdown",
   "metadata": {},
   "source": [
    "## 3. Comparison Operations\n",
    "\n",
    "### Equality (`==`) and Inequality (`!=`)\n",
    "\n",
    "The equality and inequality operators showcase one of the most powerful aspects of semantic symbols: **conceptual equivalence** rather than just literal matching."
   ]
  },
  {
   "cell_type": "code",
   "execution_count": 6,
   "metadata": {},
   "outputs": [
    {
     "name": "stdout",
     "output_type": "stream",
     "text": [
      "'Hello there!' == 'Hi there!': True\n",
      "'Goodbye friend!' == 'See you later!': True\n"
     ]
    }
   ],
   "source": [
    "# Semantic greeting comparison - understands meaning\n",
    "greeting_sem = Symbol('Hello there!', semantic=True)\n",
    "greeting_variant = 'Hi there!'\n",
    "\n",
    "print(f\"'{greeting_sem}' == '{greeting_variant}': {greeting_sem == greeting_variant}\")\n",
    "\n",
    "# Semantic farewell comparison\n",
    "farewell_sem = Symbol('Goodbye friend!', semantic=True)\n",
    "farewell_variant = 'See you later!'\n",
    "\n",
    "print(f\"'{farewell_sem}' == '{farewell_variant}': {farewell_sem == farewell_variant}\")"
   ]
  },
  {
   "cell_type": "code",
   "execution_count": 7,
   "metadata": {},
   "outputs": [
    {
     "name": "stdout",
     "output_type": "stream",
     "text": [
      "[1, 2, 3] == [3, 2, 1] (semantic): False\n"
     ]
    }
   ],
   "source": [
    "# Works with lists too - semantic understanding\n",
    "list_sem = Symbol([1, 2, 3], semantic=True)\n",
    "list_different = Symbol([3, 2, 1], semantic=True)\n",
    "\n",
    "print(f\"[1, 2, 3] == [3, 2, 1] (semantic): {list_sem == list_different}\")"
   ]
  },
  {
   "cell_type": "code",
   "execution_count": 8,
   "metadata": {},
   "outputs": [
    {
     "name": "stdout",
     "output_type": "stream",
     "text": [
      "Contextual greeting comparison: True\n",
      "Politeness level comparison: False\n"
     ]
    }
   ],
   "source": [
    "# Advanced Contextual Equality - Custom Context Comparison\n",
    "greeting = Symbol('Hello, good morning!')\n",
    "similar_greeting = 'Hi there, good day!'\n",
    "\n",
    "# Compare with specific greeting context\n",
    "result = greeting.equals(similar_greeting, context='greeting context')\n",
    "print(f\"Contextual greeting comparison: {result}\")\n",
    "\n",
    "# Compare with different contexts for nuanced evaluation\n",
    "formal_greeting = Symbol('Good morning, sir.')\n",
    "casual_greeting = 'Hey, what\\'s up?'\n",
    "\n",
    "# Context-aware politeness comparison\n",
    "politeness_comparison = formal_greeting.equals(casual_greeting, context='politeness level')\n",
    "print(f\"Politeness level comparison: {politeness_comparison}\")"
   ]
  },
  {
   "cell_type": "markdown",
   "metadata": {},
   "source": [
    "## 4. Membership Operations\n",
    "\n",
    "### The `in` Operator - Semantic Containment"
   ]
  },
  {
   "cell_type": "code",
   "execution_count": 9,
   "metadata": {},
   "outputs": [
    {
     "name": "stdout",
     "output_type": "stream",
     "text": [
      "'fruit' in 'apple banana cherry': True\n",
      "'fruit' in ['apple', 'banana', 'cherry']: True\n"
     ]
    }
   ],
   "source": [
    "# Semantic string containment - understands concepts\n",
    "str_sem = Symbol('apple banana cherry', semantic=True)\n",
    "concept_search = 'fruit'\n",
    "\n",
    "print(f\"'{concept_search}' in '{str_sem}': {concept_search in str_sem}\")\n",
    "\n",
    "# Semantic list containment - conceptual understanding\n",
    "list_sem = Symbol(['apple', 'banana', 'cherry'], semantic=True)\n",
    "print(f\"'{concept_search}' in {list_sem.value}: {concept_search in list_sem}\")"
   ]
  },
  {
   "cell_type": "code",
   "execution_count": 10,
   "metadata": {},
   "outputs": [
    {
     "name": "stdout",
     "output_type": "stream",
     "text": [
      "'pet' in 'cat dog bird fish': True\n",
      "'mammal' in 'cat dog bird fish': True\n",
      "'vehicle' in 'cat dog bird fish': False\n"
     ]
    }
   ],
   "source": [
    "# More examples of semantic containment\n",
    "animals_sem = Symbol('cat dog bird fish', semantic=True)\n",
    "print(f\"'pet' in '{animals_sem}': {'pet' in animals_sem}\")\n",
    "print(f\"'mammal' in '{animals_sem}': {'mammal' in animals_sem}\")\n",
    "print(f\"'vehicle' in '{animals_sem}': {'vehicle' in animals_sem}\")"
   ]
  },
  {
   "cell_type": "code",
   "execution_count": 11,
   "metadata": {},
   "outputs": [
    {
     "name": "stdout",
     "output_type": "stream",
     "text": [
      "text.contains('car'): True\n",
      "mixed_data.contains('two'): True\n",
      "mixed_data.contains(True): True\n"
     ]
    }
   ],
   "source": [
    "# Enhanced Semantic Containment - Multi-Type Support\n",
    "text = Symbol('The vehicle moved quickly down the road')\n",
    "print(f\"text.contains('car'): {text.contains('car')}\")\n",
    "\n",
    "# Containment with mixed data types\n",
    "mixed_data = Symbol([1, 'two', 3.0, True])\n",
    "print(f\"mixed_data.contains('two'): {mixed_data.contains('two')}\")\n",
    "print(f\"mixed_data.contains(True): {mixed_data.contains(True)}\")"
   ]
  },
  {
   "cell_type": "markdown",
   "metadata": {},
   "source": [
    "## 5. Ordering and Comparison Operations\n",
    "\n",
    "### Greater Than (`>`) and Less Than (`<`) and Greater or Equal (`>=`) and Less or Equal (`<=`)"
   ]
  },
  {
   "cell_type": "code",
   "execution_count": 12,
   "metadata": {},
   "outputs": [
    {
     "name": "stdout",
     "output_type": "stream",
     "text": [
      "'enormous' > 'tiny': True\n",
      "'cat' < 'dog': True\n"
     ]
    }
   ],
   "source": [
    "# Semantic size comparison - understands relative magnitude\n",
    "large_sem = Symbol('enormous', semantic=True)\n",
    "small_sem = Symbol('tiny', semantic=True)\n",
    "\n",
    "print(f\"'{large_sem}' > '{small_sem}': {large_sem > small_sem}\")\n",
    "\n",
    "# Semantic animal size comparison\n",
    "cat_sem = Symbol('cat', semantic=True)\n",
    "dog_sem = Symbol('dog', semantic=True)\n",
    "\n",
    "print(f\"'{cat_sem}' < '{dog_sem}': {cat_sem < dog_sem}\")"
   ]
  },
  {
   "cell_type": "code",
   "execution_count": 13,
   "metadata": {},
   "outputs": [
    {
     "name": "stdout",
     "output_type": "stream",
     "text": [
      "'freezing' < 'scorching': True\n",
      "'fifty' > 45: True\n"
     ]
    }
   ],
   "source": [
    "# Temperature comparisons - semantic understanding of hot/cold\n",
    "cold_sem = Symbol('freezing', semantic=True)\n",
    "hot_sem = Symbol('scorching', semantic=True)\n",
    "\n",
    "print(f\"'{cold_sem}' < '{hot_sem}': {cold_sem < hot_sem}\")\n",
    "\n",
    "# Semantic number understanding\n",
    "word_number = Symbol('fifty', semantic=True)\n",
    "regular_number = 45\n",
    "\n",
    "print(f\"'{word_number}' > {regular_number}: {word_number > regular_number}\")"
   ]
  },
  {
   "cell_type": "markdown",
   "metadata": {},
   "source": [
    "## 6. Shift Operations - Semantic Inclusion\n",
    "\n",
    "### Left Shift (`<<`) and Right Shift (`>>`)"
   ]
  },
  {
   "cell_type": "code",
   "execution_count": 14,
   "metadata": {},
   "outputs": [
    {
     "name": "stdout",
     "output_type": "stream",
     "text": [
      "'data stream' << 'left': left data stream\n",
      "'information flow' >> 'right': information right flow\n"
     ]
    }
   ],
   "source": [
    "# Left shift - prepend/include at the beginning\n",
    "data_stream = Symbol('data stream', semantic=True)\n",
    "left_direction = Symbol('left')\n",
    "result = data_stream << left_direction\n",
    "print(f\"'{data_stream}' << '{left_direction}': {result}\")\n",
    "\n",
    "# Right shift - append/include at the end\n",
    "info_flow = Symbol('information flow', semantic=True)\n",
    "right_direction = Symbol('right')\n",
    "result = info_flow >> right_direction\n",
    "print(f\"'{info_flow}' >> '{right_direction}': {result}\")"
   ]
  },
  {
   "cell_type": "code",
   "execution_count": 15,
   "metadata": {},
   "outputs": [
    {
     "name": "stdout",
     "output_type": "stream",
     "text": [
      "'high priority task' << 'urgent': urgent high priority task\n",
      "'data processing' >> 'downstream': downstream data processing\n"
     ]
    }
   ],
   "source": [
    "# Priority and urgency - prepend urgent to task\n",
    "priority_task = Symbol('high priority task', semantic=True)\n",
    "urgency = Symbol('urgent')\n",
    "result = priority_task << urgency\n",
    "print(f\"'{priority_task}' << '{urgency}': {result}\")\n",
    "\n",
    "# Process flow - append downstream to processing\n",
    "data_process = Symbol('data processing', semantic=True)\n",
    "downstream = Symbol('downstream')\n",
    "result = data_process >> downstream\n",
    "print(f\"'{data_process}' >> '{downstream}': {result}\")"
   ]
  },
  {
   "cell_type": "markdown",
   "metadata": {},
   "source": [
    "## 7. Bitwise and Logical Operations\n",
    "\n",
    "### Bitwise AND (`&`) - Intersection and Logical Conjunction"
   ]
  },
  {
   "cell_type": "code",
   "execution_count": 16,
   "metadata": {},
   "outputs": [
    {
     "name": "stdout",
     "output_type": "stream",
     "text": [
      "Logical inference: Therefore, it is Sunday.\n",
      "Combined evidence: Therefore, there is strong evidence linking the suspect to the scene.\n"
     ]
    }
   ],
   "source": [
    "# Semantic logical conjunction - combining facts and rules\n",
    "horn_rule = Symbol('The horn only sounds on Sundays.', semantic=True)\n",
    "observation = Symbol('I hear the horn.')\n",
    "conclusion = horn_rule & observation\n",
    "print(f\"Logical inference: {conclusion}\")\n",
    "\n",
    "# Combining evidence\n",
    "evidence1 = Symbol('The suspect was seen at the scene.', semantic=True)\n",
    "evidence2 = Symbol('His fingerprints were found.')\n",
    "combined_evidence = evidence1 & evidence2\n",
    "print(f\"Combined evidence: {combined_evidence}\")"
   ]
  },
  {
   "cell_type": "markdown",
   "metadata": {},
   "source": [
    "### Bitwise OR (`|`) - Union and Logical Disjunction"
   ]
  },
  {
   "cell_type": "code",
   "execution_count": 17,
   "metadata": {},
   "outputs": [
    {
     "name": "stdout",
     "output_type": "stream",
     "text": [
      "Multiple possibilities: Either it might rain today, or it could be sunny, or both.\n",
      "Alternative outcomes: The meeting could be postponed or canceled, perhaps both.\n"
     ]
    }
   ],
   "source": [
    "# Semantic logical disjunction - alternative possibilities\n",
    "option1 = Symbol('It might rain today.', semantic=True)\n",
    "option2 = Symbol('It could be sunny.')\n",
    "possibilities = option1 | option2\n",
    "print(f\"Multiple possibilities: {possibilities}\")\n",
    "\n",
    "# Alternative scenarios\n",
    "scenario1 = Symbol('The meeting could be postponed.', semantic=True)\n",
    "scenario2 = Symbol('The meeting might be canceled.')\n",
    "alternatives = scenario1 | scenario2\n",
    "print(f\"Alternative outcomes: {alternatives}\")"
   ]
  },
  {
   "cell_type": "markdown",
   "metadata": {},
   "source": [
    "### Bitwise XOR (`^`) - Exclusive OR"
   ]
  },
  {
   "cell_type": "code",
   "execution_count": 18,
   "metadata": {},
   "outputs": [
    {
     "name": "stdout",
     "output_type": "stream",
     "text": [
      "Exclusive alternative: It will either rain today or be sunny, but not both.\n",
      "Mutually exclusive states: Either the door is open or the door is closed, but not both.\n"
     ]
    }
   ],
   "source": [
    "# Semantic exclusive choice - either/or scenarios\n",
    "exclusive1 = Symbol('Either it will rain today.', semantic=True)\n",
    "exclusive2 = Symbol('Or it will be sunny.')\n",
    "either_or = exclusive1 ^ exclusive2\n",
    "print(f\"Exclusive alternative: {either_or}\")\n",
    "\n",
    "# Contradictory statements\n",
    "statement1 = Symbol('The door is open.', semantic=True)\n",
    "statement2 = Symbol('The door is closed.')\n",
    "contradiction = statement1 ^ statement2\n",
    "print(f\"Mutually exclusive states: {contradiction}\")"
   ]
  },
  {
   "cell_type": "markdown",
   "metadata": {},
   "source": [
    "## 8. Arithmetic Operations\n",
    "\n",
    "### Addition (`+`) and Subtraction (`-`)"
   ]
  },
  {
   "cell_type": "code",
   "execution_count": 19,
   "metadata": {},
   "outputs": [
    {
     "name": "stdout",
     "output_type": "stream",
     "text": [
      "Text transformation: Hello my friend\n"
     ]
    }
   ],
   "source": [
    "enemy_text = Symbol('Hello my enemy', semantic=True)\n",
    "result = enemy_text - 'enemy' + 'friend'\n",
    "print(f\"Text transformation: {result}\")"
   ]
  },
  {
   "cell_type": "markdown",
   "metadata": {},
   "source": [
    "### String Manipulation (`@`, `/`)"
   ]
  },
  {
   "cell_type": "code",
   "execution_count": 20,
   "metadata": {},
   "outputs": [
    {
     "name": "stdout",
     "output_type": "stream",
     "text": [
      "Concatenated string: Hello my friend\n",
      "Split string: ['Hello', 'my', 'friend']\n"
     ]
    }
   ],
   "source": [
    "# String concatenation with @\n",
    "string = Symbol('Hello my ') @ 'friend'\n",
    "print(f\"Concatenated string: {string}\")\n",
    "\n",
    "# String splitting with /\n",
    "split_string = string / ' '\n",
    "print(f\"Split string: {split_string}\")"
   ]
  },
  {
   "cell_type": "markdown",
   "metadata": {},
   "source": [
    "## 9. Indexing and Slicing Operations"
   ]
  },
  {
   "cell_type": "code",
   "execution_count": 21,
   "metadata": {},
   "outputs": [
    {
     "name": "stdout",
     "output_type": "stream",
     "text": [
      "Name query result: Alice\n",
      "Identity query result: {'name': 'Alice', 'age': '30', 'city': 'NYC'}\n"
     ]
    }
   ],
   "source": [
    "# Semantic dictionary access - finds conceptually related keys\n",
    "sym_person = Symbol({'name': 'Alice', 'age': 30, 'city': 'NYC'}, semantic=True)\n",
    "name_result = sym_person['Return any names']\n",
    "print(f\"Name query result: {name_result}\")\n",
    "\n",
    "identity_result = sym_person['identity']\n",
    "print(f\"Identity query result: {identity_result}\")"
   ]
  },
  {
   "cell_type": "code",
   "execution_count": 22,
   "metadata": {},
   "outputs": [
    {
     "name": "stdout",
     "output_type": "stream",
     "text": [
      "Domestic animal result: ['cat', 'dog', 'bird', 'fish']\n",
      "Primary color result: ['#FF0000', '#00FF00', '#0000FF']\n"
     ]
    }
   ],
   "source": [
    "# Semantic list access - finds conceptually matching items\n",
    "sym_animals = Symbol(['cat', 'dog', 'bird', 'fish'], semantic=True)\n",
    "pet_result = sym_animals['domestic animal']\n",
    "print(f\"Domestic animal result: {pet_result}\")\n",
    "\n",
    "# Color matching example\n",
    "sym_colors = Symbol({'red': '#FF0000', 'green': '#00FF00', 'blue': '#0000FF'}, semantic=True)\n",
    "primary_color = sym_colors['primary color']\n",
    "print(f\"Primary color result: {primary_color}\")"
   ]
  },
  {
   "cell_type": "code",
   "execution_count": 23,
   "metadata": {},
   "outputs": [
    {
     "name": "stdout",
     "output_type": "stream",
     "text": [
      "Modified weather data: {'temperature': 25, 'humidity': 60, 'pressure': 1013}\n"
     ]
    }
   ],
   "source": [
    "# Semantic dictionary modification - maps to conceptually similar keys\n",
    "sym_weather = Symbol({'temperature': 20, 'humidity': 60, 'pressure': 1013}, semantic=True)\n",
    "sym_weather['Change the temperature'] = 25\n",
    "print(f\"Modified weather data: {sym_weather.value}\")"
   ]
  },
  {
   "cell_type": "markdown",
   "metadata": {},
   "source": [
    "## 10. Type Checking Operations\n",
    "\n",
    "### Semantic Type Validation (`isinstanceof`)"
   ]
  },
  {
   "cell_type": "code",
   "execution_count": 24,
   "metadata": {},
   "outputs": [
    {
     "name": "stdout",
     "output_type": "stream",
     "text": [
      "Is 42 a number? True\n",
      "Is 42 a string? False\n",
      "Is list a list? False\n",
      "Is True a logical value? True\n"
     ]
    }
   ],
   "source": [
    "# Basic semantic type checking\n",
    "number_sym = Symbol(42)\n",
    "print(f\"Is 42 a number? {number_sym.isinstanceof('number')}\")\n",
    "print(f\"Is 42 a string? {number_sym.isinstanceof('string')}\")\n",
    "\n",
    "# Collection type checking\n",
    "list_sym = Symbol(['apple', 'banana', 'cherry'])\n",
    "print(f\"Is list a list? {list_sym.isinstanceof('list')}\")\n",
    "\n",
    "# Boolean/logical type checking\n",
    "bool_sym = Symbol(True)\n",
    "print(f\"Is True a logical value? {bool_sym.isinstanceof('logical value')}\")"
   ]
  },
  {
   "cell_type": "code",
   "execution_count": 25,
   "metadata": {},
   "outputs": [
    {
     "name": "stdout",
     "output_type": "stream",
     "text": [
      "Is dict person data? True\n",
      "Is user_info a person? True\n"
     ]
    }
   ],
   "source": [
    "# Complex semantic type recognition\n",
    "person_data = Symbol({'name': 'John', 'age': 30})\n",
    "print(f\"Is dict person data? {person_data.isinstanceof('person data')}\")\n",
    "\n",
    "# More natural language type queries\n",
    "user_info = Symbol({'name': 'Alice', 'age': 25, 'city': 'Wonderland'})\n",
    "print(f\"Is user_info a person? {user_info.isinstanceof('person')}\")"
   ]
  },
  {
   "cell_type": "markdown",
   "metadata": {},
   "source": [
    "## 11. Basic Symbolic Manipulations\n",
    "\n",
    "### Expression Interpretation (`interpret`)"
   ]
  },
  {
   "cell_type": "code",
   "execution_count": 26,
   "metadata": {},
   "outputs": [
    {
     "name": "stdout",
     "output_type": "stream",
     "text": [
      "Analogy result: Sun\n",
      "Integration result: x³ + x² - 5x + C\n"
     ]
    }
   ],
   "source": [
    "# Symbolic reasoning and analogies\n",
    "analogy = Symbol('gravity : Earth :: radiation : ?')\n",
    "result = analogy.interpret()\n",
    "print(f\"Analogy result: {result}\")\n",
    "\n",
    "# Mathematical expression interpretation\n",
    "math_expr = Symbol(\"∫(3x² + 2x - 5)dx\")\n",
    "solution = math_expr.interpret()\n",
    "print(f\"Integration result: {solution}\")"
   ]
  },
  {
   "cell_type": "code",
   "execution_count": 27,
   "metadata": {},
   "outputs": [
    {
     "name": "stdout",
     "output_type": "stream",
     "text": [
      "x = -5: 'negative'.\n",
      "x = 0: x is 'negative' if x < 0, 'zero' if x = 0, and 'positive' if x > 0.\n",
      "x = 10: positive\n"
     ]
    }
   ],
   "source": [
    "# Conditional interpretation with different inputs\n",
    "conditional = Symbol(\"If x < 0 then 'negative' else if x == 0 then 'zero' else 'positive'\")\n",
    "\n",
    "# Test with different values\n",
    "print(f\"x = -5: {conditional.interpret('x = -5')}\")\n",
    "print(f\"x = 0: {conditional.interpret('x = 0')}\")\n",
    "print(f\"x = 10: {conditional.interpret('x = 10')}\")"
   ]
  },
  {
   "cell_type": "code",
   "execution_count": 28,
   "metadata": {},
   "outputs": [
    {
     "name": "stdout",
     "output_type": "stream",
     "text": [
      "System solution: x = 7, y = 3\n",
      "Philosophical insight: What caused the universe's initial event?\n"
     ]
    }
   ],
   "source": [
    "# System solving and constraints\n",
    "system = Symbol(\"Find values for x and y where: x + y = 10, x - y = 4\")\n",
    "solution = system.interpret()\n",
    "print(f\"System solution: {solution}\")\n",
    "\n",
    "# Logical reasoning with philosophical questions\n",
    "reasoning = Symbol('If every event has a cause, and the universe began with an event, what philosophical question arises?')\n",
    "philosophical_insight = reasoning.interpret()\n",
    "print(f\"Philosophical insight: {philosophical_insight}\")"
   ]
  },
  {
   "cell_type": "code",
   "execution_count": 29,
   "metadata": {},
   "outputs": [
    {
     "name": "stdout",
     "output_type": "stream",
     "text": [
      "Step 1: E² = (pc)² + (mc²)²\n",
      "Step 2: E ≈ pc\n",
      "Step 3: E² = (pc)² + (m₀c²)²\n",
      "All accumulated results: 3 steps\n"
     ]
    }
   ],
   "source": [
    "# Accumulative interpretation\n",
    "sym_accumulate = Symbol('Relativistic electron formula')\n",
    "result1 = sym_accumulate.interpret(accumulate=True)\n",
    "print(f\"Step 1: {result1}\")\n",
    "\n",
    "result2 = result1.interpret('Assume the momentum to be extremely large', accumulate=True)\n",
    "print(f\"Step 2: {result2}\")\n",
    "\n",
    "result3 = result2.interpret('Expand the formula to account for both mass and momentum', accumulate=True)\n",
    "print(f\"Step 3: {result3}\")\n",
    "\n",
    "# Get all accumulated results\n",
    "all_results = sym_accumulate.get_results()\n",
    "print(f\"All accumulated results: {len(all_results)} steps\")\n",
    "\n",
    "# Clear results\n",
    "sym_accumulate.clear_results()"
   ]
  },
  {
   "cell_type": "markdown",
   "metadata": {},
   "source": [
    "## 12. Data Processing and Manipulation Operations\n",
    "\n",
    "### Text Cleaning and Normalization (`clean`)"
   ]
  },
  {
   "cell_type": "code",
   "execution_count": 30,
   "metadata": {},
   "outputs": [
    {
     "name": "stdout",
     "output_type": "stream",
     "text": [
      "Original: This text has   multiple    spaces and\n",
      "\n",
      "extra newlines.\t\tAnd tabs.\n",
      "Cleaned: This text has multiple spaces and extra newlines. And tabs.\n"
     ]
    }
   ],
   "source": [
    "sym_dirty = Symbol(\"This text has   multiple    spaces and\\n\\nextra newlines.\\t\\tAnd tabs.\")\n",
    "cleaned = sym_dirty.clean()\n",
    "print(f\"Original: {sym_dirty.value}\")\n",
    "print(f\"Cleaned: {cleaned}\")"
   ]
  },
  {
   "cell_type": "markdown",
   "metadata": {},
   "source": [
    "### Content Summarization (`summarize`)"
   ]
  },
  {
   "cell_type": "code",
   "execution_count": 31,
   "metadata": {},
   "outputs": [
    {
     "name": "stdout",
     "output_type": "stream",
     "text": [
      "Original length: 322\n",
      "Summarized:\n",
      " Python is a high-level, interpreted programming language characterized by its dynamic semantics, built-in data structures, dynamic typing, and dynamic binding. These features make it highly suitable for Rapid Application Development and for use as a scripting or \"glue\" language to connect existing components.\n",
      "Context-focused summary:\n",
      " Python is an interpreted, high-level programming language known for its dynamic semantics. Its appeal for Rapid Application Development and its utility as a scripting or \"glue\" language stem from its high-level built-in data structures, dynamic typing, and dynamic binding.\n"
     ]
    }
   ],
   "source": [
    "sym_long = Symbol(\"Python is a high-level, interpreted programming language with dynamic semantics. Its high-level built in data structures, combined with dynamic typing and dynamic binding, make it very attractive for Rapid Application Development, as well as for use as a scripting or glue language to connect existing components together.\")\n",
    "summarized = sym_long.summarize()\n",
    "print(f\"Original length: {len(sym_long.value)}\")\n",
    "print(f\"Summarized:\\n {summarized}\")\n",
    "\n",
    "# With context for focused summarization\n",
    "context_summarized = sym_long.summarize(context=\"Focus on Python's use in data science\")\n",
    "print(f\"Context-focused summary:\\n {context_summarized}\")"
   ]
  },
  {
   "cell_type": "markdown",
   "metadata": {},
   "source": [
    "### Content Outlining (`outline`)"
   ]
  },
  {
   "cell_type": "code",
   "execution_count": 32,
   "metadata": {},
   "outputs": [
    {
     "name": "stdout",
     "output_type": "stream",
     "text": [
      "Outline:\n",
      " ['- Machine learning: subset of AI enabling computers to learn and improve from experience without explicit programming', '- Supervised learning: uses labeled training data to learn mapping function', '- Classification: predicts discrete class labels', '- Regression: predicts continuous numerical values', '- Unsupervised learning: finds hidden patterns in data without labeled examples']\n"
     ]
    }
   ],
   "source": [
    "sym_complex = Symbol(\"\"\"\n",
    "# Introduction to Machine Learning\n",
    "Machine learning is a subset of artificial intelligence that enables computers to learn and improve from experience without being explicitly programmed.\n",
    "\n",
    "## Supervised Learning\n",
    "Supervised learning uses labeled training data to learn a mapping function.\n",
    "\n",
    "### Classification\n",
    "Classification predicts discrete class labels.\n",
    "\n",
    "### Regression\n",
    "Regression predicts continuous numerical values.\n",
    "\n",
    "## Unsupervised Learning\n",
    "Unsupervised learning finds hidden patterns in data without labeled examples.\n",
    "\"\"\")\n",
    "\n",
    "outlined = sym_complex.outline()\n",
    "print(f\"Outline:\\n {outlined}\")"
   ]
  },
  {
   "cell_type": "markdown",
   "metadata": {},
   "source": [
    "### Content Filtering (`filter`)"
   ]
  },
  {
   "cell_type": "code",
   "execution_count": 33,
   "metadata": {},
   "outputs": [
    {
     "name": "stdout",
     "output_type": "stream",
     "text": [
      "Exclude cats: Dogs are loyal pets. Hamsters are small pets.\n",
      "Include only dogs: Dogs are loyal pets.\n"
     ]
    }
   ],
   "source": [
    "sym_mixed = Symbol(\"Dogs are loyal pets. Cats are independent pets. Hamsters are small pets.\")\n",
    "\n",
    "# Exclude content matching criteria (default behavior)\n",
    "filtered_ex = sym_mixed.filter(criteria=\"Cats\")\n",
    "print(f\"Exclude cats: {filtered_ex}\")\n",
    "\n",
    "# Include only content matching criteria\n",
    "filtered_in = sym_mixed.filter(criteria=\"Dogs\", include=True)\n",
    "print(f\"Include only dogs: {filtered_in}\")"
   ]
  },
  {
   "cell_type": "markdown",
   "metadata": {},
   "source": [
    "### Content Modification (`modify`)"
   ]
  },
  {
   "cell_type": "code",
   "execution_count": 34,
   "metadata": {},
   "outputs": [
    {
     "name": "stdout",
     "output_type": "stream",
     "text": [
      "Original: The quick brown fox jumps over the lazy dog.\n",
      "Modified: The fast brown fox jumps over the sleeping dog.\n"
     ]
    }
   ],
   "source": [
    "sym_original = Symbol(\"The quick brown fox jumps over the lazy dog.\")\n",
    "changes = \"Change 'quick' to 'fast' and 'lazy' to 'sleeping'\"\n",
    "modified = sym_original.modify(changes=changes)\n",
    "print(f\"Original: {sym_original}\")\n",
    "print(f\"Modified: {modified}\")"
   ]
  },
  {
   "cell_type": "markdown",
   "metadata": {},
   "source": [
    "### Text Replacement (`replace`)"
   ]
  },
  {
   "cell_type": "code",
   "execution_count": 35,
   "metadata": {},
   "outputs": [
    {
     "name": "stdout",
     "output_type": "stream",
     "text": [
      "Original: Python is a programming language. Python is easy to learn.\n",
      "Replaced: JavaScript is a programming language. JavaScript is easy to learn.\n"
     ]
    }
   ],
   "source": [
    "sym_replace = Symbol(\"Python is a programming language. Python is easy to learn.\")\n",
    "replaced = sym_replace.replace(\"Python\", \"JavaScript\")\n",
    "print(f\"Original: {sym_replace}\")\n",
    "print(f\"Replaced: {replaced}\")"
   ]
  },
  {
   "cell_type": "markdown",
   "metadata": {},
   "source": [
    "### Content Removal (`remove`)"
   ]
  },
  {
   "cell_type": "code",
   "execution_count": 36,
   "metadata": {},
   "outputs": [
    {
     "name": "stdout",
     "output_type": "stream",
     "text": [
      "Original: This text contains [unnecessary information] that should be removed.\n",
      "Removed: This text contains that should be removed.\n"
     ]
    }
   ],
   "source": [
    "sym_extra = Symbol(\"This text contains [unnecessary information] that should be removed.\")\n",
    "removed = sym_extra.remove(\"[unnecessary information] \")\n",
    "print(f\"Original: {sym_extra}\")\n",
    "print(f\"Removed: {removed}\")"
   ]
  },
  {
   "cell_type": "markdown",
   "metadata": {},
   "source": [
    "### Content Addition (`include`, `combine`)"
   ]
  },
  {
   "cell_type": "code",
   "execution_count": 37,
   "metadata": {},
   "outputs": [
    {
     "name": "stdout",
     "output_type": "stream",
     "text": [
      "Included: This is the main content. This is additional information.\n",
      "Combined: This is the main content. Second part of the content.\n"
     ]
    }
   ],
   "source": [
    "sym_base = Symbol(\"This is the main content.\")\n",
    "\n",
    "# Include additional information\n",
    "included = sym_base.include(\"This is additional information.\")\n",
    "print(f\"Included: {included}\")\n",
    "\n",
    "# Combine with other content\n",
    "combined = sym_base.combine(\"Second part of the content.\")\n",
    "print(f\"Combined: {combined}\")"
   ]
  },
  {
   "cell_type": "markdown",
   "metadata": {},
   "source": [
    "### Semantic Mapping (`map`)"
   ]
  },
  {
   "cell_type": "code",
   "execution_count": 38,
   "metadata": {},
   "outputs": [
    {
     "name": "stdout",
     "output_type": "stream",
     "text": [
      "Vowel transformation: h2ll4 w4rld\n",
      "Case transformation: prOgrAmmIng\n"
     ]
    }
   ],
   "source": [
    "# Transform characters in strings\n",
    "text = Symbol(\"hello world\")\n",
    "result = text.map('convert vowels to numbers: a=1, e=2, i=3, o=4, u=5')\n",
    "print(f\"Vowel transformation: {result}\")\n",
    "\n",
    "# Transform case selectively\n",
    "caps_text = Symbol(\"PROGRAMMING\")\n",
    "result = caps_text.map('make consonants lowercase, keep vowels uppercase')\n",
    "print(f\"Case transformation: {result}\")"
   ]
  },
  {
   "cell_type": "code",
   "execution_count": 39,
   "metadata": {},
   "outputs": [
    {
     "name": "stdout",
     "output_type": "stream",
     "text": [
      "Fruit to vegetable transformation: ['carrot', 'broccoli', 'spinach', 'cat', 'dog']\n",
      "Dictionary transformation: `{'item1': 'carrot', 'item2': 'broccoli', 'item3': 'cat'}`\n"
     ]
    }
   ],
   "source": [
    "# Transform fruits to vegetables, leave animals unchanged\n",
    "mixed_list = Symbol(['apple', 'banana', 'cherry', 'cat', 'dog'])\n",
    "result = mixed_list.map('convert all fruits to vegetables')\n",
    "print(f\"Fruit to vegetable transformation: {result}\")\n",
    "\n",
    "# Work with dictionaries - transforms values, preserves keys\n",
    "fruit_dict = Symbol({'item1': 'apple', 'item2': 'banana', 'item3': 'cat'})\n",
    "result = fruit_dict.map('convert fruits to vegetables')\n",
    "print(f\"Dictionary transformation: {result}\")"
   ]
  },
  {
   "cell_type": "code",
   "execution_count": 40,
   "metadata": {},
   "outputs": [
    {
     "name": "stdout",
     "output_type": "stream",
     "text": [
      "Emotions to weather: ['sunny', 'rainy', 'stormy']\n",
      "Type preserved: <class 'symai.symbol.Symbol'>\n"
     ]
    }
   ],
   "source": [
    "# Preserve container types\n",
    "emotions_tuple = Symbol(('happy', 'sad', 'angry'))\n",
    "weather = emotions_tuple.map('convert emotions to weather')\n",
    "print(f\"Emotions to weather: {weather}\")\n",
    "print(f\"Type preserved: {type(weather)}\")"
   ]
  },
  {
   "cell_type": "markdown",
   "metadata": {},
   "source": [
    "## 13. Pattern Matching and Intelligence Operations\n",
    "\n",
    "### Content Ranking (`rank`)"
   ]
  },
  {
   "cell_type": "code",
   "execution_count": 41,
   "metadata": {},
   "outputs": [
    {
     "name": "stdout",
     "output_type": "stream",
     "text": [
      "Ranked by difficulty:\n",
      " 3. Practice coding\n",
      "5. Learn Python basics\n",
      "2. Set up IDE\n",
      "1. Install Python\n",
      "4. Join community\n"
     ]
    }
   ],
   "source": [
    "sym_numbers = Symbol(\"\"\"\n",
    "5. Learn Python basics\n",
    "1. Install Python\n",
    "3. Practice coding\n",
    "2. Set up IDE\n",
    "4. Join community\n",
    "\"\"\")\n",
    "ranked = sym_numbers.rank(measure='difficulty', order='desc')\n",
    "print(f\"Ranked by difficulty:\\n {ranked}\")"
   ]
  },
  {
   "cell_type": "code",
   "execution_count": 42,
   "metadata": {},
   "outputs": [
    {
     "name": "stdout",
     "output_type": "stream",
     "text": [
      "Ranked by priority: ['Optional task: Update documentation', 'Important task: Complete project proposal', 'Urgent task: Fix critical bug', 'Critical task: Deploy hotfix']\n"
     ]
    }
   ],
   "source": [
    "# Ranking by priority\n",
    "sym_tasks = Symbol(\"\"\"\n",
    "Important task: Complete project proposal\n",
    "Urgent task: Fix critical bug\n",
    "Optional task: Update documentation\n",
    "Critical task: Deploy hotfix\n",
    "\"\"\")\n",
    "ranked_priority = sym_tasks.rank(measure='priority', order='asc')\n",
    "print(f\"Ranked by priority: {ranked_priority}\")"
   ]
  },
  {
   "cell_type": "markdown",
   "metadata": {},
   "source": [
    "### Pattern Extraction (`extract`)"
   ]
  },
  {
   "cell_type": "code",
   "execution_count": 43,
   "metadata": {},
   "outputs": [
    {
     "name": "stdout",
     "output_type": "stream",
     "text": [
      "Extracted contact details: Email: john.doe@email.com | Phone: +1-555-0123 | Address: 123 Main St, City\n",
      "Extracted dates: 2024-03-15\n"
     ]
    }
   ],
   "source": [
    "sym_contact = Symbol(\"\"\"\n",
    "Contact Information:\n",
    "Email: john.doe@email.com\n",
    "Phone: +1-555-0123\n",
    "Address: 123 Main St, City\n",
    "\"\"\")\n",
    "extracted = sym_contact.extract(\"contact details\")\n",
    "print(f\"Extracted contact details: {extracted}\")\n",
    "\n",
    "# Extract specific patterns like dates\n",
    "sym_text = Symbol(\"\"\"\n",
    "Project deadline: 2024-03-15\n",
    "Budget allocated: $50,000\n",
    "Team size: 8 people\n",
    "Status: In Progress\n",
    "\"\"\")\n",
    "extracted_dates = sym_text.extract(\"dates and deadlines\")\n",
    "print(f\"Extracted dates: {extracted_dates}\")"
   ]
  },
  {
   "cell_type": "markdown",
   "metadata": {},
   "source": [
    "### Code Correction (`correct`)"
   ]
  },
  {
   "cell_type": "code",
   "execution_count": 44,
   "metadata": {},
   "outputs": [
    {
     "name": "stdout",
     "output_type": "stream",
     "text": [
      "Original code:\n",
      " def calculate_sum(a b):\n",
      "    return a + b\n",
      "\n",
      "Corrected code:\n",
      " def calculate_sum(a, b):\n",
      "    return a + b\n"
     ]
    }
   ],
   "source": [
    "# Fix syntax errors\n",
    "sym_code = Symbol(\"\"\"def calculate_sum(a b):\n",
    "    return a + b\n",
    "\"\"\")\n",
    "corrected = sym_code.correct(\"Fix the code\", exception=SyntaxError)\n",
    "print(f\"Original code:\\n {sym_code.value}\")\n",
    "print(f\"Corrected code:\\n {corrected}\")"
   ]
  },
  {
   "cell_type": "code",
   "execution_count": 45,
   "metadata": {},
   "outputs": [
    {
     "name": "stdout",
     "output_type": "stream",
     "text": [
      "Original code:\n",
      " \n",
      "def process_data(items):\n",
      "    return items.sort()\n",
      "result = process_data([3, 1, 2])\n",
      "print(result + 1)  # TypeError: NoneType + int\n",
      "\n",
      "Corrected code:\n",
      " def process_data(items):\n",
      "    return sorted(items)\n",
      "result = process_data([3, 1, 2])\n",
      "print(result[0] + 1)\n"
     ]
    }
   ],
   "source": [
    "# Fix type errors\n",
    "sym_type_error = Symbol(\"\"\"\n",
    "def process_data(items):\n",
    "    return items.sort()\n",
    "result = process_data([3, 1, 2])\n",
    "print(result + 1)  # TypeError: NoneType + int\n",
    "\"\"\")\n",
    "corrected_type = sym_type_error.correct(\"Fix the code\", exception=TypeError)\n",
    "print(f\"Original code:\\n {sym_type_error.value}\")\n",
    "print(f\"Corrected code:\\n {corrected_type}\")"
   ]
  },
  {
   "cell_type": "markdown",
   "metadata": {},
   "source": [
    "### Language Translation (`translate`)"
   ]
  },
  {
   "cell_type": "code",
   "execution_count": 46,
   "metadata": {},
   "outputs": [
    {
     "name": "stdout",
     "output_type": "stream",
     "text": [
      "English: Hello, how are you today?\n",
      "Spanish: Hola, ¿cómo estás hoy?\n",
      "Informal English: Hey there! What's up?\n",
      "Formal French: Salut ! Quoi de neuf ?\n"
     ]
    }
   ],
   "source": [
    "sym_english = Symbol(\"Hello, how are you today?\")\n",
    "translated = sym_english.translate(\"Spanish\")\n",
    "print(f\"English: {sym_english}\")\n",
    "print(f\"Spanish: {translated}\")\n",
    "\n",
    "# Formal translation\n",
    "sym_informal = Symbol(\"Hey there! What's up?\")\n",
    "translated_formal = sym_informal.translate(\"French\", formal=True)\n",
    "print(f\"Informal English: {sym_informal}\")\n",
    "print(f\"Formal French: {translated_formal}\")"
   ]
  },
  {
   "cell_type": "markdown",
   "metadata": {},
   "source": [
    "### Multi-Choice Classification (`choice`)"
   ]
  },
  {
   "cell_type": "code",
   "execution_count": 47,
   "metadata": {},
   "outputs": [
    {
     "name": "stdout",
     "output_type": "stream",
     "text": [
      "Weather classification: hot and humid\n",
      "Sentiment classification: positive\n"
     ]
    }
   ],
   "source": [
    "sym_weather = Symbol(\"Temperature: 85°F, Humidity: 70%, Conditions: Sunny\")\n",
    "cases = [\"hot and humid\", \"mild\", \"cold and dry\"]\n",
    "weather_choice = sym_weather.choice(cases=cases, default=\"mild\")\n",
    "print(f\"Weather classification: {weather_choice}\")\n",
    "\n",
    "# Sentiment analysis\n",
    "sym_sentiment = Symbol(\"This product exceeded all my expectations! Absolutely wonderful!\")\n",
    "sentiment_cases = [\"positive\", \"neutral\", \"negative\"]\n",
    "sentiment_choice = sym_sentiment.choice(cases=sentiment_cases, default=\"neutral\")\n",
    "print(f\"Sentiment classification: {sentiment_choice}\")"
   ]
  },
  {
   "cell_type": "markdown",
   "metadata": {},
   "source": [
    "### Format Conversion (`convert`)"
   ]
  },
  {
   "cell_type": "code",
   "execution_count": 48,
   "metadata": {},
   "outputs": [
    {
     "name": "stdout",
     "output_type": "stream",
     "text": [
      "YAML conversion:\n",
      " name: John\n",
      "age: 30\n",
      "city: New York\n",
      "XML conversion:\n",
      " <root>\n",
      "    <name>John</name>\n",
      "    <age>30</age>\n",
      "    <city>New York</city>\n",
      "</root>\n"
     ]
    }
   ],
   "source": [
    "sym_json = Symbol('{\"name\": \"John\", \"age\": 30, \"city\": \"New York\"}')\n",
    "\n",
    "yaml_converted = sym_json.convert(\"YAML\")\n",
    "print(f\"YAML conversion:\\n {yaml_converted}\")\n",
    "\n",
    "xml_converted = sym_json.convert(\"XML\")\n",
    "print(f\"XML conversion:\\n {xml_converted}\")"
   ]
  },
  {
   "cell_type": "code",
   "execution_count": 49,
   "metadata": {},
   "outputs": [
    {
     "name": "stdout",
     "output_type": "stream",
     "text": [
      "HTML table conversion:\n",
      " <table>\n",
      "  <thead>\n",
      "    <tr>\n",
      "      <th>Name</th>\n",
      "      <th>Age</th>\n",
      "      <th>Department</th>\n",
      "    </tr>\n",
      "  </thead>\n",
      "  <tbody>\n",
      "    <tr>\n",
      "      <td>Alice</td>\n",
      "      <td>28</td>\n",
      "      <td>Engineering</td>\n",
      "    </tr>\n",
      "    <tr>\n",
      "      <td>Bob</td>\n",
      "      <td>35</td>\n",
      "      <td>Marketing</td>\n",
      "    </tr>\n",
      "  </tbody>\n",
      "</table>\n"
     ]
    }
   ],
   "source": [
    "# Convert CSV to HTML table\n",
    "sym_csv = Symbol(\"Name,Age,Department\\nAlice,28,Engineering\\nBob,35,Marketing\")\n",
    "table_converted = sym_csv.convert(\"HTML table\")\n",
    "print(f\"HTML table conversion:\\n {table_converted}\")"
   ]
  },
  {
   "cell_type": "markdown",
   "metadata": {},
   "source": [
    "### Content Transcription (`transcribe`)"
   ]
  },
  {
   "cell_type": "code",
   "execution_count": 50,
   "metadata": {},
   "outputs": [
    {
     "name": "stdout",
     "output_type": "stream",
     "text": [
      "Informal: Hey there! How's it going? Hope you're doing well!\n",
      "Formal: Hello. I hope this message finds you well.\n",
      "Technical: The system crashed because of insufficient memory allocation.\n",
      "Simple: The computer stopped working because it didn't have enough space to remember everything it needed to do.\n"
     ]
    }
   ],
   "source": [
    "sym_informal = Symbol(\"Hey there! How's it going? Hope you're doing well!\")\n",
    "formal_transcribed = sym_informal.transcribe(\"make it formal and professional\")\n",
    "print(f\"Informal: {sym_informal}\")\n",
    "print(f\"Formal: {formal_transcribed}\")\n",
    "\n",
    "sym_technical = Symbol(\"The system crashed because of insufficient memory allocation.\")\n",
    "simple_transcribed = sym_technical.transcribe(\"explain in simple terms for non-technical audience\")\n",
    "print(f\"Technical: {sym_technical}\")\n",
    "print(f\"Simple: {simple_transcribed}\")"
   ]
  },
  {
   "cell_type": "markdown",
   "metadata": {},
   "source": [
    "## 14. Execution Control and Code Operations\n",
    "\n",
    "### Code Analysis (`analyze`)"
   ]
  },
  {
   "cell_type": "code",
   "execution_count": 51,
   "metadata": {},
   "outputs": [
    {
     "name": "stdout",
     "output_type": "stream",
     "text": [
      "Analysis result: Ensure that the input value provided to a function or operation is valid and meets the expected criteria.\n"
     ]
    }
   ],
   "source": [
    "sym_code = Symbol(\"print('Hello World')\")\n",
    "try:\n",
    "    raise ValueError(\"Sample error for testing\")\n",
    "except Exception as e:\n",
    "    analyzed = sym_code.analyze(exception=e, query=\"What went wrong?\")\n",
    "    print(f\"Analysis result: {analyzed}\")"
   ]
  },
  {
   "cell_type": "markdown",
   "metadata": {},
   "source": [
    "### Code Execution (`execute`, `fexecute`)"
   ]
  },
  {
   "cell_type": "code",
   "execution_count": 52,
   "metadata": {},
   "outputs": [
    {
     "name": "stdout",
     "output_type": "stream",
     "text": [
      "Execution result:\n",
      " {'globals': '{\\'__builtins__\\': {\\'__name__\\': \\'builtins\\', \\'__doc__\\': \"Built-in functions, types, exceptions, and other objects.\\\\n\\\\nThis module provides direct access to all \\'built-in\\'\\\\nidentifiers of Python; for example, builtins.len is\\\\nthe full name for the built-in function len().\\\\n\\\\nThis module is not normally accessed explicitly by most\\\\napplications, but can be useful in modules that provide\\\\nobjects with the same name as a built-in value, but in\\\\nwhich the built-in of that name is also needed.\", \\'__package__\\': \\'\\', \\'__loader__\\': <class \\'_frozen_importlib.BuiltinImporter\\'>, \\'__spec__\\': ModuleSpec(name=\\'builtins\\', loader=<class \\'_frozen_importlib.BuiltinImporter\\'>, origin=\\'built-in\\'), \\'__build_class__\\': <built-in function __build_class__>, \\'__import__\\': <built-in function __import__>, \\'abs\\': <built-in function abs>, \\'all\\': <built-in function all>, \\'any\\': <built-in function any>, \\'ascii\\': <built-in function ascii>, \\'bin\\': <built-in function bin>, \\'breakpoint\\': <built-in function breakpoint>, \\'callable\\': <built-in function callable>, \\'chr\\': <built-in function chr>, \\'compile\\': <built-in function compile>, \\'delattr\\': <built-in function delattr>, \\'dir\\': <built-in function dir>, \\'divmod\\': <built-in function divmod>, \\'eval\\': <built-in function eval>, \\'exec\\': <built-in function exec>, \\'format\\': <built-in function format>, \\'getattr\\': <built-in function getattr>, \\'globals\\': <built-in function globals>, \\'hasattr\\': <built-in function hasattr>, \\'hash\\': <built-in function hash>, \\'hex\\': <built-in function hex>, \\'id\\': <built-in function id>, \\'input\\': <bound method Kernel.raw_input of <ipykernel.ipkernel.IPythonKernel object at 0x106ff5eb0>>, \\'isinstance\\': <built-in function isinstance>, \\'issubclass\\': <built-in function issubclass>, \\'iter\\': <built-in function iter>, \\'aiter\\': <built-in function aiter>, \\'len\\': <built-in function len>, \\'locals\\': <built-in function locals>, \\'max\\': <built-in function max>, \\'min\\': <built-in function min>, \\'next\\': <built-in function next>, \\'anext\\': <built-in function anext>, \\'oct\\': <built-in function oct>, \\'ord\\': <built-in function ord>, \\'pow\\': <built-in function pow>, \\'print\\': <built-in function print>, \\'repr\\': <built-in function repr>, \\'round\\': <built-in function round>, \\'setattr\\': <built-in function setattr>, \\'sorted\\': <built-in function sorted>, \\'sum\\': <built-in function sum>, \\'vars\\': <built-in function vars>, \\'None\\': None, \\'Ellipsis\\': Ellipsis, \\'NotImplemented\\': NotImplemented, \\'False\\': False, \\'True\\': True, \\'bool\\': <class \\'bool\\'>, \\'memoryview\\': <class \\'memoryview\\'>, \\'bytearray\\': <class \\'bytearray\\'>, \\'bytes\\': <class \\'bytes\\'>, \\'classmethod\\': <class \\'classmethod\\'>, \\'complex\\': <class \\'complex\\'>, \\'dict\\': <class \\'dict\\'>, \\'enumerate\\': <class \\'enumerate\\'>, \\'filter\\': <class \\'filter\\'>, \\'float\\': <class \\'float\\'>, \\'frozenset\\': <class \\'frozenset\\'>, \\'property\\': <class \\'property\\'>, \\'int\\': <class \\'int\\'>, \\'list\\': <class \\'list\\'>, \\'map\\': <class \\'map\\'>, \\'object\\': <class \\'object\\'>, \\'range\\': <class \\'range\\'>, \\'reversed\\': <class \\'reversed\\'>, \\'set\\': <class \\'set\\'>, \\'slice\\': <class \\'slice\\'>, \\'staticmethod\\': <class \\'staticmethod\\'>, \\'str\\': <class \\'str\\'>, \\'super\\': <class \\'super\\'>, \\'tuple\\': <class \\'tuple\\'>, \\'type\\': <class \\'type\\'>, \\'zip\\': <class \\'zip\\'>, \\'__debug__\\': True, \\'BaseException\\': <class \\'BaseException\\'>, \\'BaseExceptionGroup\\': <class \\'BaseExceptionGroup\\'>, \\'Exception\\': <class \\'Exception\\'>, \\'GeneratorExit\\': <class \\'GeneratorExit\\'>, \\'KeyboardInterrupt\\': <class \\'KeyboardInterrupt\\'>, \\'SystemExit\\': <class \\'SystemExit\\'>, \\'ArithmeticError\\': <class \\'ArithmeticError\\'>, \\'AssertionError\\': <class \\'AssertionError\\'>, \\'AttributeError\\': <class \\'AttributeError\\'>, \\'BufferError\\': <class \\'BufferError\\'>, \\'EOFError\\': <class \\'EOFError\\'>, \\'ImportError\\': <class \\'ImportError\\'>, \\'LookupError\\': <class \\'LookupError\\'>, \\'MemoryError\\': <class \\'MemoryError\\'>, \\'NameError\\': <class \\'NameError\\'>, \\'OSError\\': <class \\'OSError\\'>, \\'ReferenceError\\': <class \\'ReferenceError\\'>, \\'RuntimeError\\': <class \\'RuntimeError\\'>, \\'StopAsyncIteration\\': <class \\'StopAsyncIteration\\'>, \\'StopIteration\\': <class \\'StopIteration\\'>, \\'SyntaxError\\': <class \\'SyntaxError\\'>, \\'SystemError\\': <class \\'SystemError\\'>, \\'TypeError\\': <class \\'TypeError\\'>, \\'ValueError\\': <class \\'ValueError\\'>, \\'Warning\\': <class \\'Warning\\'>, \\'FloatingPointError\\': <class \\'FloatingPointError\\'>, \\'OverflowError\\': <class \\'OverflowError\\'>, \\'ZeroDivisionError\\': <class \\'ZeroDivisionError\\'>, \\'BytesWarning\\': <class \\'BytesWarning\\'>, \\'DeprecationWarning\\': <class \\'DeprecationWarning\\'>, \\'EncodingWarning\\': <class \\'EncodingWarning\\'>, \\'FutureWarning\\': <class \\'FutureWarning\\'>, \\'ImportWarning\\': <class \\'ImportWarning\\'>, \\'PendingDeprecationWarning\\': <class \\'PendingDeprecationWarning\\'>, \\'ResourceWarning\\': <class \\'ResourceWarning\\'>, \\'RuntimeWarning\\': <class \\'RuntimeWarning\\'>, \\'SyntaxWarning\\': <class \\'SyntaxWarning\\'>, \\'UnicodeWarning\\': <class \\'UnicodeWarning\\'>, \\'UserWarning\\': <class \\'UserWarning\\'>, \\'BlockingIOError\\': <class \\'BlockingIOError\\'>, \\'ChildProcessError\\': <class \\'ChildProcessError\\'>, \\'ConnectionError\\': <class \\'ConnectionError\\'>, \\'FileExistsError\\': <class \\'FileExistsError\\'>, \\'FileNotFoundError\\': <class \\'FileNotFoundError\\'>, \\'InterruptedError\\': <class \\'InterruptedError\\'>, \\'IsADirectoryError\\': <class \\'IsADirectoryError\\'>, \\'NotADirectoryError\\': <class \\'NotADirectoryError\\'>, \\'PermissionError\\': <class \\'PermissionError\\'>, \\'ProcessLookupError\\': <class \\'ProcessLookupError\\'>, \\'TimeoutError\\': <class \\'TimeoutError\\'>, \\'IndentationError\\': <class \\'IndentationError\\'>, \\'IndexError\\': <class \\'IndexError\\'>, \\'KeyError\\': <class \\'KeyError\\'>, \\'ModuleNotFoundError\\': <class \\'ModuleNotFoundError\\'>, \\'NotImplementedError\\': <class \\'NotImplementedError\\'>, \\'RecursionError\\': <class \\'RecursionError\\'>, \\'UnboundLocalError\\': <class \\'UnboundLocalError\\'>, \\'UnicodeError\\': <class \\'UnicodeError\\'>, \\'BrokenPipeError\\': <class \\'BrokenPipeError\\'>, \\'ConnectionAbortedError\\': <class \\'ConnectionAbortedError\\'>, \\'ConnectionRefusedError\\': <class \\'ConnectionRefusedError\\'>, \\'ConnectionResetError\\': <class \\'ConnectionResetError\\'>, \\'TabError\\': <class \\'TabError\\'>, \\'UnicodeDecodeError\\': <class \\'UnicodeDecodeError\\'>, \\'UnicodeEncodeError\\': <class \\'UnicodeEncodeError\\'>, \\'UnicodeTranslateError\\': <class \\'UnicodeTranslateError\\'>, \\'ExceptionGroup\\': <class \\'ExceptionGroup\\'>, \\'EnvironmentError\\': <class \\'OSError\\'>, \\'IOError\\': <class \\'OSError\\'>, \\'open\\': <built-in function open>, \\'copyright\\': Copyright (c) 2001-2023 Python Software Foundation.\\nAll Rights Reserved.\\n\\nCopyright (c) 2000 BeOpen.com.\\nAll Rights Reserved.\\n\\nCopyright (c) 1995-2001 Corporation for National Research Initiatives.\\nAll Rights Reserved.\\n\\nCopyright (c) 1991-1995 Stichting Mathematisch Centrum, Amsterdam.\\nAll Rights Reserved., \\'credits\\':     Thanks to CWI, CNRI, BeOpen, Zope Corporation, the Python Software\\n    Foundation, and a cast of thousands for supporting Python\\n    development.  See www.python.org for more information., \\'license\\': Type license() to see the full license text, \\'help\\': Type help() for interactive help, or help(object) for help about object., \\'execfile\\': <function execfile at 0x1076e7920>, \\'runfile\\': <function runfile at 0x10797b9c0>, \\'__IPYTHON__\\': True, \\'display\\': <function display at 0x1062ca840>, \\'get_ipython\\': <bound method InteractiveShell.get_ipython of <ipykernel.zmqshell.ZMQInteractiveShell object at 0x1077c2420>>}}', 'locals': \"{'run': <function run at 0x304cc9c60>, 'res': 5}\", 'locals_res': '5'}\n",
      "Fallback execution result:\n",
      " {'globals': '{\\'__builtins__\\': {\\'__name__\\': \\'builtins\\', \\'__doc__\\': \"Built-in functions, types, exceptions, and other objects.\\\\n\\\\nThis module provides direct access to all \\'built-in\\'\\\\nidentifiers of Python; for example, builtins.len is\\\\nthe full name for the built-in function len().\\\\n\\\\nThis module is not normally accessed explicitly by most\\\\napplications, but can be useful in modules that provide\\\\nobjects with the same name as a built-in value, but in\\\\nwhich the built-in of that name is also needed.\", \\'__package__\\': \\'\\', \\'__loader__\\': <class \\'_frozen_importlib.BuiltinImporter\\'>, \\'__spec__\\': ModuleSpec(name=\\'builtins\\', loader=<class \\'_frozen_importlib.BuiltinImporter\\'>, origin=\\'built-in\\'), \\'__build_class__\\': <built-in function __build_class__>, \\'__import__\\': <built-in function __import__>, \\'abs\\': <built-in function abs>, \\'all\\': <built-in function all>, \\'any\\': <built-in function any>, \\'ascii\\': <built-in function ascii>, \\'bin\\': <built-in function bin>, \\'breakpoint\\': <built-in function breakpoint>, \\'callable\\': <built-in function callable>, \\'chr\\': <built-in function chr>, \\'compile\\': <built-in function compile>, \\'delattr\\': <built-in function delattr>, \\'dir\\': <built-in function dir>, \\'divmod\\': <built-in function divmod>, \\'eval\\': <built-in function eval>, \\'exec\\': <built-in function exec>, \\'format\\': <built-in function format>, \\'getattr\\': <built-in function getattr>, \\'globals\\': <built-in function globals>, \\'hasattr\\': <built-in function hasattr>, \\'hash\\': <built-in function hash>, \\'hex\\': <built-in function hex>, \\'id\\': <built-in function id>, \\'input\\': <bound method Kernel.raw_input of <ipykernel.ipkernel.IPythonKernel object at 0x106ff5eb0>>, \\'isinstance\\': <built-in function isinstance>, \\'issubclass\\': <built-in function issubclass>, \\'iter\\': <built-in function iter>, \\'aiter\\': <built-in function aiter>, \\'len\\': <built-in function len>, \\'locals\\': <built-in function locals>, \\'max\\': <built-in function max>, \\'min\\': <built-in function min>, \\'next\\': <built-in function next>, \\'anext\\': <built-in function anext>, \\'oct\\': <built-in function oct>, \\'ord\\': <built-in function ord>, \\'pow\\': <built-in function pow>, \\'print\\': <built-in function print>, \\'repr\\': <built-in function repr>, \\'round\\': <built-in function round>, \\'setattr\\': <built-in function setattr>, \\'sorted\\': <built-in function sorted>, \\'sum\\': <built-in function sum>, \\'vars\\': <built-in function vars>, \\'None\\': None, \\'Ellipsis\\': Ellipsis, \\'NotImplemented\\': NotImplemented, \\'False\\': False, \\'True\\': True, \\'bool\\': <class \\'bool\\'>, \\'memoryview\\': <class \\'memoryview\\'>, \\'bytearray\\': <class \\'bytearray\\'>, \\'bytes\\': <class \\'bytes\\'>, \\'classmethod\\': <class \\'classmethod\\'>, \\'complex\\': <class \\'complex\\'>, \\'dict\\': <class \\'dict\\'>, \\'enumerate\\': <class \\'enumerate\\'>, \\'filter\\': <class \\'filter\\'>, \\'float\\': <class \\'float\\'>, \\'frozenset\\': <class \\'frozenset\\'>, \\'property\\': <class \\'property\\'>, \\'int\\': <class \\'int\\'>, \\'list\\': <class \\'list\\'>, \\'map\\': <class \\'map\\'>, \\'object\\': <class \\'object\\'>, \\'range\\': <class \\'range\\'>, \\'reversed\\': <class \\'reversed\\'>, \\'set\\': <class \\'set\\'>, \\'slice\\': <class \\'slice\\'>, \\'staticmethod\\': <class \\'staticmethod\\'>, \\'str\\': <class \\'str\\'>, \\'super\\': <class \\'super\\'>, \\'tuple\\': <class \\'tuple\\'>, \\'type\\': <class \\'type\\'>, \\'zip\\': <class \\'zip\\'>, \\'__debug__\\': True, \\'BaseException\\': <class \\'BaseException\\'>, \\'BaseExceptionGroup\\': <class \\'BaseExceptionGroup\\'>, \\'Exception\\': <class \\'Exception\\'>, \\'GeneratorExit\\': <class \\'GeneratorExit\\'>, \\'KeyboardInterrupt\\': <class \\'KeyboardInterrupt\\'>, \\'SystemExit\\': <class \\'SystemExit\\'>, \\'ArithmeticError\\': <class \\'ArithmeticError\\'>, \\'AssertionError\\': <class \\'AssertionError\\'>, \\'AttributeError\\': <class \\'AttributeError\\'>, \\'BufferError\\': <class \\'BufferError\\'>, \\'EOFError\\': <class \\'EOFError\\'>, \\'ImportError\\': <class \\'ImportError\\'>, \\'LookupError\\': <class \\'LookupError\\'>, \\'MemoryError\\': <class \\'MemoryError\\'>, \\'NameError\\': <class \\'NameError\\'>, \\'OSError\\': <class \\'OSError\\'>, \\'ReferenceError\\': <class \\'ReferenceError\\'>, \\'RuntimeError\\': <class \\'RuntimeError\\'>, \\'StopAsyncIteration\\': <class \\'StopAsyncIteration\\'>, \\'StopIteration\\': <class \\'StopIteration\\'>, \\'SyntaxError\\': <class \\'SyntaxError\\'>, \\'SystemError\\': <class \\'SystemError\\'>, \\'TypeError\\': <class \\'TypeError\\'>, \\'ValueError\\': <class \\'ValueError\\'>, \\'Warning\\': <class \\'Warning\\'>, \\'FloatingPointError\\': <class \\'FloatingPointError\\'>, \\'OverflowError\\': <class \\'OverflowError\\'>, \\'ZeroDivisionError\\': <class \\'ZeroDivisionError\\'>, \\'BytesWarning\\': <class \\'BytesWarning\\'>, \\'DeprecationWarning\\': <class \\'DeprecationWarning\\'>, \\'EncodingWarning\\': <class \\'EncodingWarning\\'>, \\'FutureWarning\\': <class \\'FutureWarning\\'>, \\'ImportWarning\\': <class \\'ImportWarning\\'>, \\'PendingDeprecationWarning\\': <class \\'PendingDeprecationWarning\\'>, \\'ResourceWarning\\': <class \\'ResourceWarning\\'>, \\'RuntimeWarning\\': <class \\'RuntimeWarning\\'>, \\'SyntaxWarning\\': <class \\'SyntaxWarning\\'>, \\'UnicodeWarning\\': <class \\'UnicodeWarning\\'>, \\'UserWarning\\': <class \\'UserWarning\\'>, \\'BlockingIOError\\': <class \\'BlockingIOError\\'>, \\'ChildProcessError\\': <class \\'ChildProcessError\\'>, \\'ConnectionError\\': <class \\'ConnectionError\\'>, \\'FileExistsError\\': <class \\'FileExistsError\\'>, \\'FileNotFoundError\\': <class \\'FileNotFoundError\\'>, \\'InterruptedError\\': <class \\'InterruptedError\\'>, \\'IsADirectoryError\\': <class \\'IsADirectoryError\\'>, \\'NotADirectoryError\\': <class \\'NotADirectoryError\\'>, \\'PermissionError\\': <class \\'PermissionError\\'>, \\'ProcessLookupError\\': <class \\'ProcessLookupError\\'>, \\'TimeoutError\\': <class \\'TimeoutError\\'>, \\'IndentationError\\': <class \\'IndentationError\\'>, \\'IndexError\\': <class \\'IndexError\\'>, \\'KeyError\\': <class \\'KeyError\\'>, \\'ModuleNotFoundError\\': <class \\'ModuleNotFoundError\\'>, \\'NotImplementedError\\': <class \\'NotImplementedError\\'>, \\'RecursionError\\': <class \\'RecursionError\\'>, \\'UnboundLocalError\\': <class \\'UnboundLocalError\\'>, \\'UnicodeError\\': <class \\'UnicodeError\\'>, \\'BrokenPipeError\\': <class \\'BrokenPipeError\\'>, \\'ConnectionAbortedError\\': <class \\'ConnectionAbortedError\\'>, \\'ConnectionRefusedError\\': <class \\'ConnectionRefusedError\\'>, \\'ConnectionResetError\\': <class \\'ConnectionResetError\\'>, \\'TabError\\': <class \\'TabError\\'>, \\'UnicodeDecodeError\\': <class \\'UnicodeDecodeError\\'>, \\'UnicodeEncodeError\\': <class \\'UnicodeEncodeError\\'>, \\'UnicodeTranslateError\\': <class \\'UnicodeTranslateError\\'>, \\'ExceptionGroup\\': <class \\'ExceptionGroup\\'>, \\'EnvironmentError\\': <class \\'OSError\\'>, \\'IOError\\': <class \\'OSError\\'>, \\'open\\': <built-in function open>, \\'copyright\\': Copyright (c) 2001-2023 Python Software Foundation.\\nAll Rights Reserved.\\n\\nCopyright (c) 2000 BeOpen.com.\\nAll Rights Reserved.\\n\\nCopyright (c) 1995-2001 Corporation for National Research Initiatives.\\nAll Rights Reserved.\\n\\nCopyright (c) 1991-1995 Stichting Mathematisch Centrum, Amsterdam.\\nAll Rights Reserved., \\'credits\\':     Thanks to CWI, CNRI, BeOpen, Zope Corporation, the Python Software\\n    Foundation, and a cast of thousands for supporting Python\\n    development.  See www.python.org for more information., \\'license\\': Type license() to see the full license text, \\'help\\': Type help() for interactive help, or help(object) for help about object., \\'execfile\\': <function execfile at 0x1076e7920>, \\'runfile\\': <function runfile at 0x10797b9c0>, \\'__IPYTHON__\\': True, \\'display\\': <function display at 0x1062ca840>, \\'get_ipython\\': <bound method InteractiveShell.get_ipython of <ipykernel.zmqshell.ZMQInteractiveShell object at 0x1077c2420>>}}', 'locals': \"{'run': <function run at 0x17e7402c0>, 'res': 5}\", 'locals_res': '5'}\n"
     ]
    }
   ],
   "source": [
    "sym_code = Symbol(\"\"\"\n",
    "def run():\n",
    "    return 2 + 3\n",
    "res = run()\n",
    "\"\"\")\n",
    "executed = sym_code.execute()\n",
    "print(f\"Execution result:\\n {executed}\")\n",
    "\n",
    "# Fallback execution\n",
    "fexecuted = sym_code.fexecute()\n",
    "print(f\"Fallback execution result:\\n {fexecuted}\")"
   ]
  },
  {
   "cell_type": "markdown",
   "metadata": {},
   "source": [
    "### Code Simulation (`simulate`)"
   ]
  },
  {
   "cell_type": "code",
   "execution_count": 53,
   "metadata": {},
   "outputs": [
    {
     "name": "stdout",
     "output_type": "stream",
     "text": [
      "Algorithm simulation:\n",
      " Step 4: Assign the result (15) to the variable 'result'\n",
      "Fibonacci simulation:\n",
      " PSEUDOCODE SIMULATION:\n",
      "FUNCTION fibonacci(n):\n",
      "  IF n <= 1 THEN RETURN n\n",
      "  ELSE RETURN fibonacci(n-1) + fibonacci(n-2)\n",
      "END FUNCTION\n",
      "\n",
      "EXECUTION TRACE (assuming an example call `fibonacci(5)`):\n",
      "Call fibonacci(5)\n",
      "  n = 5, not <= 1. Returns fibonacci(4) + fibonacci(3)\n",
      "  Call fibonacci(4)\n",
      "    n = 4, not <= 1. Returns fibonacci(3) + fibonacci(2)\n",
      "    Call fibonacci(3)\n",
      "      n = 3, not <= 1. Returns fibonacci(2) + fibonacci(1)\n",
      "      Call fibonacci(2)\n",
      "        n = 2, not <= 1. Returns fibonacci(1) + fibonacci(0)\n",
      "        Call fibonacci(1)\n",
      "          n = 1, <= 1. Returns 1\n",
      "        Call fibonacci(0)\n",
      "          n = 0, <= 1. Returns 0\n",
      "        Unwinding fibonacci(2): 1 + 0 = 1\n",
      "      Call fibonacci(1)\n",
      "        n = 1, <= 1. Returns 1\n",
      "      Unwinding fibonacci(3): 1 + 1 = 2\n",
      "    Call fibonacci(2)\n",
      "      n = 2, not <= 1. Returns fibonacci(1) + fibonacci(0)\n",
      "      Call fibonacci(1)\n",
      "        n = 1, <= 1. Returns 1\n",
      "      Call fibonacci(0)\n",
      "        n = 0, <= 1. Returns 0\n",
      "      Unwinding fibonacci(2): 1 + 0 = 1\n",
      "    Unwinding fibonacci(4): 2 + 1 = 3\n",
      "  Call fibonacci(3)\n",
      "    n = 3, not <= 1. Returns fibonacci(2) + fibonacci(1)\n",
      "    Call fibonacci(2)\n",
      "      n = 2, not <= 1. Returns fibonacci(1) + fibonacci(0)\n",
      "      Call fibonacci(1)\n",
      "        n = 1, <= 1. Returns 1\n",
      "      Call fibonacci(0)\n",
      "        n = 0, <= 1. Returns 0\n",
      "      Unwinding fibonacci(2): 1 + 0 = 1\n",
      "    Call fibonacci(1)\n",
      "      n = 1, <= 1. Returns 1\n",
      "    Unwinding fibonacci(3): 1 + 1 = 2\n",
      "  Unwinding fibonacci(5): 3 + 2 = 5\n",
      "Result (for fibonacci(5)): 5\n"
     ]
    }
   ],
   "source": [
    "sym_algorithm = Symbol(\"x = 5; y = 10; result = x + y\")\n",
    "simulated = sym_algorithm.simulate()\n",
    "print(f\"Algorithm simulation:\\n {simulated}\")\n",
    "\n",
    "# Complex algorithm simulation\n",
    "sym_fibonacci = Symbol(\"def fibonacci(n): return n if n <= 1 else fibonacci(n-1) + fibonacci(n-2)\")\n",
    "algorithm_sim = sym_fibonacci.simulate()\n",
    "print(f\"Fibonacci simulation:\\n {algorithm_sim}\")"
   ]
  },
  {
   "cell_type": "markdown",
   "metadata": {},
   "source": [
    "### Information Sufficiency (`sufficient`)"
   ]
  },
  {
   "cell_type": "code",
   "execution_count": 54,
   "metadata": {},
   "outputs": [
    {
     "name": "stdout",
     "output_type": "stream",
     "text": [
      "Information sufficiency: False\n"
     ]
    }
   ],
   "source": [
    "sym_info = Symbol(\"Product Name: UltraBook Pro\\nPrice: $1299\\nRAM: 16GB\")\n",
    "sufficient_check = sym_info.sufficient(\"Is this enough information to make a purchase decision?\")\n",
    "print(f\"Information sufficiency: {sufficient_check}\")"
   ]
  },
  {
   "cell_type": "markdown",
   "metadata": {},
   "source": [
    "### List Processing (`list`, `foreach`)"
   ]
  },
  {
   "cell_type": "code",
   "execution_count": 55,
   "metadata": {},
   "outputs": [
    {
     "name": "stdout",
     "output_type": "stream",
     "text": [
      "Engineers list: ['David']\n",
      "Squared numbers: '['1', '4', '9', '16', '25']\n"
     ]
    }
   ],
   "source": [
    "sym_employees = Symbol(\"\"\"\n",
    "Bob - Manager - $85000\n",
    "Carol - Designer - $65000\n",
    "David - Engineer - $72000\n",
    "\"\"\")\n",
    "\n",
    "engineers_list = sym_employees.list(\"employees who are engineers\")\n",
    "print(f\"Engineers list: {engineers_list}\")\n",
    "\n",
    "# Apply operations to each item\n",
    "sym_numbers = Symbol([1, 2, 3, 4, 5])\n",
    "squared_numbers = sym_numbers.foreach(\"each number\", \"square the number\")\n",
    "print(f\"Squared numbers: {squared_numbers}\")"
   ]
  },
  {
   "cell_type": "markdown",
   "metadata": {},
   "source": [
    "## 15. Dictionary Handling Operations\n",
    "\n",
    "### Dictionary Creation (`dict`)"
   ]
  },
  {
   "cell_type": "code",
   "execution_count": 56,
   "metadata": {},
   "outputs": [
    {
     "name": "stdout",
     "output_type": "stream",
     "text": [
      "Fruit categorization: {'fruits': \"['apples', 'oranges', 'bananas']\", 'description': \"['I have', 'in my kitchen.']\"}\n",
      "Food organization: {'dairy': \"['milk', 'cheese']\", 'grains': \"['bread', 'rice']\", 'fruits and vegetables': \"['apples', 'broccoli']\", 'proteins': \"['eggs', 'chicken']\"}\n"
     ]
    }
   ],
   "source": [
    "sym_text = Symbol(\"I have apples, oranges, and bananas in my kitchen.\")\n",
    "dict_result = sym_text.dict(\"categorize fruits\")\n",
    "print(f\"Fruit categorization: {dict_result}\")\n",
    "\n",
    "sym_shopping = Symbol(\"milk, bread, eggs, apples, cheese, chicken, broccoli, rice\")\n",
    "food_dict = sym_shopping.dict(\"organize by food categories\")\n",
    "print(f\"Food organization: {food_dict}\")"
   ]
  },
  {
   "cell_type": "markdown",
   "metadata": {},
   "source": [
    "## 16. Template and Styling Operations\n",
    "\n",
    "### Template Substitution (`template`)"
   ]
  },
  {
   "cell_type": "code",
   "execution_count": 57,
   "metadata": {},
   "outputs": [
    {
     "name": "stdout",
     "output_type": "stream",
     "text": [
      "Template result: Hello Alice, welcome to our service!\n",
      "Custom template result: Product: Premium Headphones - Now available!\n"
     ]
    }
   ],
   "source": [
    "sym_name = Symbol(\"Alice\")\n",
    "template_str = \"Hello {{placeholder}}, welcome to our service!\"\n",
    "templated_result = sym_name.template(template_str)\n",
    "print(f\"Template result: {templated_result}\")\n",
    "\n",
    "# Custom placeholder\n",
    "sym_product = Symbol(\"Premium Headphones\")\n",
    "custom_template = \"Product: ***ITEM*** - Now available!\"\n",
    "custom_templated = sym_product.template(custom_template, placeholder=\"***ITEM***\")\n",
    "print(f\"Custom template result: {custom_templated}\")"
   ]
  },
  {
   "cell_type": "markdown",
   "metadata": {},
   "source": [
    "### Content Styling (`style`)"
   ]
  },
  {
   "cell_type": "code",
   "execution_count": 58,
   "metadata": {},
   "outputs": [
    {
     "name": "stdout",
     "output_type": "stream",
     "text": [
      "Styled text:\n",
      " <i><b>This is basic text that needs styling.</b></i>\n",
      "Styled code:\n",
      " ```python\n",
      "print('Hello World')\n",
      "```\n"
     ]
    }
   ],
   "source": [
    "sym_content = Symbol(\"This is basic text that needs styling.\")\n",
    "styled_result = sym_content.style(\"Make this text bold and italic\")\n",
    "print(f\"Styled text:\\n {styled_result}\")\n",
    "\n",
    "sym_code = Symbol(\"print('Hello World')\")\n",
    "styled_code = sym_code.style(\"Format as Python code with syntax highlighting\", libraries=[\"python\"])\n",
    "print(f\"Styled code:\\n {styled_code}\")"
   ]
  },
  {
   "cell_type": "markdown",
   "metadata": {},
   "source": [
    "## 17. Data Clustering Operations\n",
    "\n",
    "### Semantic Clustering (`cluster`)"
   ]
  },
  {
   "cell_type": "code",
   "execution_count": 59,
   "metadata": {},
   "outputs": [
    {
     "name": "stdout",
     "output_type": "stream",
     "text": [
      "Fruit clustering: {np.int64(-1): \"['banana']\", np.int64(0): \"['apple', 'orange']\", np.int64(1): \"['cherry', 'grape']\"}\n",
      "Sentence clustering: {np.int64(-1): '[\\'The weather is sunny today.\\', \"It\\'s raining heavily outside.\", \\'Beautiful sunny weather today.\\']'}\n"
     ]
    }
   ],
   "source": [
    "sym_fruits = Symbol([\"apple\", \"banana\", \"cherry\", \"orange\", \"grape\"])\n",
    "clustered_result = sym_fruits.cluster(metric='cosine', min_cluster_size=2)\n",
    "print(f\"Fruit clustering: {clustered_result}\")\n",
    "\n",
    "sym_sentences = Symbol([\n",
    "    \"The weather is sunny today.\",\n",
    "    \"It's raining heavily outside.\",\n",
    "    \"Beautiful sunny weather today.\"\n",
    "])\n",
    "sentence_clusters = sym_sentences.cluster(min_cluster_size=2)\n",
    "print(f\"Sentence clustering: {sentence_clusters}\")"
   ]
  },
  {
   "cell_type": "markdown",
   "metadata": {},
   "source": [
    "## 18. Embedding and Similarity Operations\n",
    "\n",
    "### Embedding Generation (`embed`, `embedding`)"
   ]
  },
  {
   "cell_type": "code",
   "execution_count": 60,
   "metadata": {},
   "outputs": [
    {
     "name": "stdout",
     "output_type": "stream",
     "text": [
      "Embedding result: ['[-0.00676333112642169, -0.03919631987810135, 0.034175805747509, 0.02876211516559124, -0.02478501945734024, -0.04203926399350166, -0.030289441347122192, 0.04932808503508568, -0.013897152617573738, -0.01764741726219654, 0.015363989397883415, -0.027038201689720154, -0.020974265411496162, -0.027854792773723602, 0.008619560860097408, 0.035627517849206924, -0.05368323251605034, -0.0022720859851688147, 0.008808586746454239, 0.04799734428524971, 0.03710947930812836, -0.009247126057744026, -0.008778342977166176, 0.011402016505599022, 0.014078617095947266, -0.0021624513901770115, -0.03756314143538475, 0.04542659968137741, 0.011250795796513557, -0.03964998200535774, 0.02345428057014942, -0.050628580152988434, 0.012044702656567097, -1.5505995179410093e-05, 0.0160293597728014, 0.006135766394436359, 0.03196798637509346, 0.00336087285540998, -0.008604438975453377, -0.01055518165230751, -0.037381675094366074, -0.034508489072322845, 0.04999345541000366, 0.019371328875422478, -0.014275203458964825, 0.015265696682035923, -0.05434860289096832, 0.05041687190532684, 0.04542659968137741, 0.05371347442269325, -0.0015405575977638364, 0.018524495884776115, 0.0355670303106308, 0.11595578491687775, -0.013262026943266392, -0.040920231491327286, 0.013383002951741219, 0.04769490659236908, -0.014948133379220963, 0.024679165333509445, 0.03217969462275505, 0.013360319659113884, 0.017027413472533226, 0.024845506995916367, 0.013383002951741219, 0.008990051224827766, -0.02436160109937191, -0.00039435437065549195, -0.000644576852209866, 0.05386469513177872, -0.0025140387006103992, 0.03774460405111313, -0.018705960363149643, -0.011507870629429817, -0.0351133719086647, -0.01134908851236105, -0.036686062812805176, 0.004158560186624527, 0.015265696682035923, -0.052292004227638245, -0.03426653519272804, 0.0053910063579678535, -0.021488415077328682, -0.0629681646823883, -0.012384948320686817, 0.03042553924024105, -0.04645489901304245, 0.002824040362611413, -0.0015963200712576509, -0.03692801669239998, 0.01318641658872366, 0.014471789821982384, 0.0005722746136598289, 0.04321878403425217, 0.023272816091775894, 0.00993517879396677, -0.009783958084881306, 0.04191828891634941, 0.06266572326421738, -0.005984546151012182, 0.03868217021226883, -0.024694286286830902, 0.02197232097387314, -0.002841052832081914, 0.026009904220700264, 0.03414556011557579, -0.01226397231221199, -0.0475134402513504, -0.0329962857067585, 0.023998672142624855, -0.11752847582101822, -0.0002967699838336557, -0.012112751603126526, -0.038954365998506546, 0.0063210115768015385, 0.05607251450419426, 0.08885709196329117, -0.07427944988012314, 0.020762557163834572, -0.04709002375602722, 0.029200654476881027, -0.01220348384231329, -0.020762557163834572, -0.046091970056295395, -0.07101308554410934, -0.012747877277433872, -0.013088122941553593, 0.04128316044807434, -0.036262646317481995, -0.005099907051771879, 0.014524716883897781, 0.030909443274140358, 0.0010377498110756278, -0.01757180690765381, -0.023696232587099075, 0.008498584851622581, -0.05223151668906212, -0.014933011494576931, -0.02721966616809368, 0.05304810777306557, 0.06714184582233429, -0.035415809601545334, -0.004381610080599785, -0.03034992888569832, -0.003854229347780347, -0.028580650687217712, -0.015968870371580124, 0.04037583991885185, -0.011061769910156727, 0.0027937963604927063, 0.029351873323321342, 0.03834948688745499, -0.06003448739647865, 0.020777679979801178, 0.004158560186624527, 0.007065772078931332, 0.030319685116410255, -0.041010964661836624, -0.006963698193430901, 0.032119207084178925, 0.002903431188315153, 0.004627343267202377, -0.06051839143037796, -0.00822638813406229, -0.013201538473367691, -0.006528939586132765, -0.02064158022403717, 0.0017494306666776538, -0.04461000859737396, 0.002822150243446231, 0.010540059767663479, -0.0024611116386950016, -0.03214945271611214, -0.04448903352022171, 0.015711797401309013, 0.005258688237518072, 0.03199823200702667, -0.0587339922785759, -0.03004748746752739, -0.03320799395442009, 0.05407640337944031, 0.06956136971712112, 0.011167624033987522, 0.002328793751075864, -0.03390360623598099, -0.014086177572607994, 0.017027413472533226, -0.013541784137487411, 0.010109081864356995, 0.02218402922153473, -0.04448903352022171, 0.06405694782733917, 0.03103042021393776, 0.003699228400364518, 0.002302330220118165, -0.03735143318772316, 0.0840180367231369, 0.021397681906819344, -0.01512959785759449, 0.03632313385605812, -0.0019129377324134111, -0.011054209433495998, -0.028111867606639862, -0.016483020037412643, -0.021821100264787674, -0.026826493442058563, -0.006105522625148296, 0.06339158117771149, 0.006177352275699377, -0.034206047654151917, 0.058280330151319504, -0.0055497875437140465, -0.034508489072322845, -0.004389171488583088, -0.025284046307206154, -0.0007504310924559832, 0.04125291854143143, 0.011628846637904644, 0.01055518165230751, -0.040920231491327286, -0.044942695647478104, 0.08504633605480194, 0.07155747711658478, -0.017148390412330627, 0.032845064997673035, -1.9759068891289644e-05, 0.020611336454749107, 0.007621506694704294, 0.04055730253458023, 0.02718942239880562, 0.026221612468361855, 0.016135213896632195, 0.031302616000175476, -0.04491245001554489, -0.0023628182243555784, -0.010056154802441597, 0.03735143318772316, -0.021851344034075737, -0.021306950598955154, -0.008937124162912369, -0.04330951347947121, 0.01153811439871788, 0.021427927538752556, 0.014766668900847435, 0.03360116481781006, -0.025843560695648193, -0.019371328875422478, -0.026811372488737106, -0.0042568533681333065, 0.013813980855047703, 0.008060045540332794, 0.055709585547447205, -0.006438207346946001, -0.005107467994093895, 0.028399186208844185, -0.006215157452970743, -0.013451051898300648, -0.0046008797362446785, 0.07482384145259857, -0.014880084432661533, -0.037290941923856735, -0.04902564361691475, -0.026992836967110634, -0.03798655793070793, -0.04554757475852966, -0.02649380825459957, -0.001419581240043044, -0.010290546342730522, 0.01577228493988514, -0.009269808419048786, 0.03980120271444321, -0.021473292261362076, 0.06018570810556412, -0.038440220057964325, -0.00187229725997895, 0.005096126347780228, 0.016558630391955376, -0.006131986156105995, -0.020142553374171257, 0.00961761549115181, -0.018993278965353966, 0.0011993665248155594, -0.004332463722676039, 0.018705960363149643, -0.04530562460422516, 0.002151109743863344, 0.037623628973960876, 0.0006025186739861965, 0.0367465503513813, -0.0061546689830720425, 0.019945967942476273, 0.036262646317481995, 0.029729925096035004, 0.00101223133970052, -0.0001459040358895436, 0.020838167518377304, 0.019809868186712265, 0.0012900987640023232, 0.023711353540420532, -0.0524129793047905, 0.06339158117771149, -0.014267642050981522, -0.004585757851600647, 0.0266752727329731, -0.008959807455539703, 0.0288982130587101, 0.032421648502349854, -0.05507446080446243, 0.05050760507583618, 0.0179044920951128, -0.03756314143538475, 0.029200654476881027, 0.04022461920976639, 0.003266360145062208, -0.000645521970000118, -0.048057835549116135, 0.0012305558193475008, -0.030924566090106964, 0.0002452605403959751, -0.05232224985957146, 0.028414307162165642, -0.04457976669073105, -0.021609392017126083, 4.0108840039465576e-05, 0.020490359514951706, -0.0060601565055549145, 0.04222072660923004, -0.006407963111996651, -0.021427927538752556, -0.004033803474158049, -0.018569862470030785, -0.04932808503508568, -0.00487307645380497, 0.011938848532736301, 0.010199814103543758, -0.0049449061043560505, -0.03934754058718681, 0.02965431474149227, -0.006483573466539383, 0.02717430144548416, -0.03124212846159935, -0.027506984770298004, 0.016089847311377525, -0.01072908565402031, -0.017768394201993942, 0.0014791243011131883, 0.059217896312475204, -0.0444587878882885, 0.0078105321153998375, -0.010706402361392975, -0.008067606948316097, 0.01717863418161869, -0.0015235452447086573, -0.017163511365652084, 0.013602272607386112, -0.024240626022219658, 0.022199150174856186, -0.017360098659992218, -0.011296161450445652, 0.047120269387960434, -0.02555624209344387, -0.029094800353050232, 0.0020717191509902477, -0.005863570142537355, 0.048057835549116135, 0.015621064230799675, -0.02380208671092987, -0.06042766198515892, 0.018327908590435982, 0.04300707206130028, 0.000593067379668355, 0.0054552750661969185, 0.025919171050190926, -0.01134908851236105, -0.04654563218355179, -0.03266359865665436, 0.004846612922847271, 0.007451383862644434, 0.045638307929039, -0.008173461072146893, 0.01001834962517023, -0.02277378737926483, -0.011250795796513557, -0.022788910195231438, 0.003837216878309846, -0.0012003117008134723, 0.020777679979801178, 0.0058106426149606705, 0.0008553402149118483, -0.0308943223208189, 0.0807516798377037, -0.027930403128266335, 0.018494252115488052, 0.009504199959337711, 0.01876644790172577, -0.029896266758441925, -0.0026992836501449347, -0.00013763416791334748, -0.017329854890704155, -0.01970401406288147, 0.03163530305027962, -0.0313631035387516, 0.017707904800772667, 0.0008104466833174229, -0.052110541611909866, -0.03302652761340141, -0.014237398281693459, 0.03187725320458412, 0.012505924329161644, -0.02017279714345932, 0.007390895858407021, -0.022804033011198044, 0.034599222242832184, 0.0339338518679142, -0.037290941923856735, -0.01755668595433235, -0.009708347730338573, -0.034720197319984436, -0.007564798928797245, 0.0067595504224300385, 0.012377387844026089, 0.022713299840688705, -0.017496196553111076, 0.03438751399517059, -0.03287531062960625, 0.05888521298766136, 0.05773593857884407, -0.018388397991657257, 0.02419525943696499, -0.07077113538980484, -0.02222939394414425, -0.011099575087428093, -0.042976830154657364, 0.0025801975280046463, 0.012921780347824097, -0.036141667515039444, -0.001595374895259738, 4.4952619646210223e-05, 0.03868217021226883, 0.00228720810264349, 0.013624955900013447, 0.011719578877091408, -0.021261584013700485, -0.034085072576999664, -0.00788614246994257, -0.04252316802740097, -0.013617394492030144, -0.0013468064134940505, -0.022879641503095627, -0.019719136878848076, 0.029593827202916145, -0.06968234479427338, 0.03592995926737785, 0.02384745329618454, -0.0033476410899311304, -0.0020830605644732714, -0.012906658463180065, 0.01393495686352253, -0.021654756739735603, 0.03877290338277817, 0.005795520730316639, 0.0011974762892350554, -0.06357304751873016, 0.04999345541000366, 0.02487575076520443, 0.003574471455067396, 0.0073719932697713375, -0.0026841615326702595, 0.0031321519054472446, -0.03447824344038963, -0.01661911979317665, -0.015084232203662395, 0.03302652761340141, -0.024558188393712044, -0.02564697526395321, 0.00043924793135374784, -0.031393349170684814, 0.02089865505695343, -0.014275203458964825, -0.013110806234180927, 0.007848337292671204, -0.012921780347824097, 0.0044988058507442474, -0.005326737649738789, 0.006426865700632334, 0.05462079867720604, -0.04073876887559891, -0.014411301352083683, -0.016377165913581848, -0.0030244074296206236, -0.01850937306880951, 0.06163742393255234, 0.036655817180871964, -0.01991572231054306, -0.008944684639573097, -0.038016799837350845, 0.006502476055175066, -0.025541121140122414, 0.0027484302408993244, -0.02906455472111702, -0.009753714315593243, -0.03701874613761902, -0.015651308000087738, -0.013125928118824959, 0.05567933991551399, -0.015205208212137222, -0.03840997442603111, -0.02445233426988125, 0.05295737460255623, -0.036686062812805176, -0.04627343267202377, 0.013088122941553593, 0.0023817208129912615, -0.01940157450735569, -0.019552793353796005, -0.006555403117090464, -0.013897152617573738, 0.020883534103631973, -0.0024157455191016197, -0.03632313385605812, 0.008392730727791786, 0.040708523243665695, -0.014880084432661533, -0.029926512390375137, 0.021125486120581627, 0.026100635528564453, -0.04270463436841965, -0.03568800911307335, -0.021957198157906532, 0.023817207664251328, -0.0014158007688820362, -0.016483020037412643, 0.029775291681289673, -0.007602604106068611, -0.014494473114609718, -0.024240626022219658, -0.006290767341852188, 0.014176909811794758, -0.003056541783735156, -0.04324902594089508, 0.000268888717982918, 0.013677882961928844, 0.019220110028982162, 0.007496749982237816, -0.019477182999253273, 0.028610894456505775, 0.04947930574417114, 0.014675936661660671, 0.004041364416480064, 0.037926070392131805, -0.007024186197668314, -0.02662990801036358, -0.020747434347867966, -0.008173461072146893, 0.022168906405568123, -0.009693225845694542, -0.010509815998375416, 0.0003397732798475772, -0.015469844453036785, 0.05419738218188286, 0.023514768108725548, 0.017768394201993942, 0.02042987197637558, -0.003924168646335602, 0.007576140575110912, 0.030848955735564232, -0.017768394201993942, -0.024558188393712044, -0.025707462802529335, -0.035748496651649475, -0.01858498342335224, -0.035627517849206924, -0.01701229251921177, -0.06593208014965057, 0.011764944531023502, -0.0027068445924669504, 0.009156393818557262, 0.04004315286874771, 0.020565969869494438, -0.007107357494533062, -0.01174982264637947, -0.038742657750844955, -0.0498422347009182, 0.02127670682966709, -0.050961267203092575, 0.05068906769156456, 0.021805977448821068, -0.0010075056925415993, 0.01525813527405262, -0.012883976101875305, 0.011719578877091408, 0.011764944531023502, 0.04482171684503555, 0.01258909609168768, -0.036867525428533554, -0.030198708176612854, 0.013821542263031006, 0.005534665659070015, -0.022804033011198044, -0.007088454905897379, 0.013919834978878498, 0.006218937691301107, 0.029941633343696594, -0.0554676316678524, 0.015484966337680817, -0.026040147989988327, -0.020505482330918312, -0.008309559896588326, 0.025495754554867744, -0.051566146314144135, -0.026100635528564453, 0.0323006696999073, 0.003931729588657618, -0.04076901078224182, -0.018358152359724045, 0.027960646897554398, -0.022894764319062233, 0.007296382915228605, 0.005905155558139086, -0.0032228841446340084, -0.01841864176094532, -0.047543685883283615, 0.009352980181574821, 0.04285585507750511, 0.008990051224827766, 0.025238679721951485, -0.02008206583559513, 0.004820149391889572, -0.007239675149321556, 0.007999558001756668, 0.02777918241918087, -0.006536500528454781, 0.00033528392668813467, -0.04055730253458023, 0.0007012845017015934, 0.01612009108066559, 0.0066650379449129105, -0.014562522061169147, -0.001597265130840242, -0.03753289580345154, 0.032633356750011444, 0.005311615765094757, 0.009126149117946625, -0.037926070392131805, 0.041222672909498215, 0.020187919959425926, 0.030153341591358185, 0.01267226692289114, 0.006385280285030603, -0.01876644790172577, 0.036655817180871964, 0.02517819218337536, 0.020278651267290115, -0.013685443438589573, 0.026040147989988327, 0.008801025338470936, -0.04321878403425217, -0.026947470381855965, -0.01339812483638525, 0.012702511623501778, -0.012793243862688541, 0.05679837241768837, -0.009095905348658562, -0.022501591593027115, -0.006910771131515503, -0.008445657789707184, -0.0200064554810524, 0.02499672770500183, 0.005701008252799511, -0.018146444112062454, 0.002540502231568098, -0.01628643460571766, 0.047029536217451096, 5.853882248629816e-05, 0.04524513706564903, -0.0012589095858857036, -0.003094346961006522, -0.03777484968304634, -0.0058106426149606705, -0.02812698855996132, 0.0045063672587275505, 0.02747674100100994, -0.040708523243665695, -0.02564697526395321, 0.009322735480964184, 0.022425981238484383, 0.016225945204496384, 0.016422532498836517, -0.004294658545404673, -0.011175185441970825, -0.027461620047688484, -0.014887645840644836, 0.004154779948294163, 0.01713326759636402, -0.008944684639573097, -0.032330915331840515, 0.0332382395863533, 0.007538335397839546, -0.012324460782110691, -0.030319685116410255, 0.015462283045053482, -0.02080792374908924, -0.019628403708338737, -0.006937234662473202, 0.005844667553901672, -0.005360762123018503, -0.01504642702639103, 0.04182755574584007, 0.04551733285188675, 0.00010408214438939467, -0.03269384428858757, -0.016724973917007446, -0.015500088222324848, -0.020021576434373856, -0.034175805747509, 0.003358982503414154, -0.022894764319062233, -0.05413689464330673, 0.009194198995828629, 0.008521268144249916, -0.04179731011390686, 0.0063399141654372215, -0.016301555559039116, -0.004396732430905104, -0.018070833757519722, 0.0089522460475564, -0.016573753207921982, -0.019764503464102745, 0.019809868186712265, 0.012022019363939762, 0.023741599172353745, 0.001742814783938229, 0.0188420582562685, 0.014925451017916203, 0.0027049544733017683, -0.010865183547139168, -0.047422707080841064, -0.019734257832169533, -0.013950079679489136, -0.0402548648416996, -0.006502476055175066, -0.004018681589514017, 0.022335248067975044, 0.0367465503513813, -0.022289883345365524, 0.0027068445924669504, -0.013254465535283089, 0.016437655314803123, -0.03716996684670448, 0.011840554885566235, -0.01523545291274786, 0.013511540368199348, -0.004415635019540787, 0.001920498674735427, 0.003194530261680484, -0.044942695647478104, -0.005942960735410452, 0.0013817761791869998, -0.001612387248314917, 0.029805535450577736, -0.016770338639616966, 0.03166554495692253, -0.006101741921156645, 0.019084010273218155, 0.010577864944934845, 0.013284709304571152, 0.02440696768462658, -0.01358715072274208, 0.0027030641213059425, 0.006638574413955212, 0.03735143318772316, -0.012581534683704376, 0.041525114327669144, 0.0035177639219909906, 0.002353366930037737, -0.036686062812805176, -0.02239573746919632, 0.00781809352338314, -0.023045985028147697, 0.005179297644644976, -0.03260311111807823, 0.004132096655666828, -0.018479129299521446, -0.006615891121327877, 0.018690837547183037, -0.03296604007482529, 0.0034137999173253775, 0.007931508123874664, 0.019386451691389084, -0.038863636553287506, -0.006241620983928442, -0.016271311789751053, -0.007795410230755806, -0.018010346218943596, 0.014963256195187569, 0.04206950590014458, -0.006846502423286438, -0.04182755574584007, 0.017768394201993942, 0.004589538089931011, -0.001226775231771171, -0.010434205643832684, 0.041736822575330734, 0.017072780057787895, -0.012014458887279034, -0.037926070392131805, -0.008876635693013668, 0.026766005903482437, -0.007916386239230633, 0.008672487922012806, 0.0054666162468492985, 0.043702688068151474, -0.01940157450735569, 0.002149219624698162, -0.021942075341939926, -0.057554472237825394, 0.010933232493698597, -0.014365935698151588, 0.0035877032205462456, 0.01305787917226553, 0.004287097603082657, -0.008929562754929066, -0.04896515607833862, -0.04013388603925705, 0.03384311869740486, 0.018736204132437706, -0.020399628207087517, 0.009708347730338573, 0.020112309604883194, -0.0098293237388134, 0.004631123971194029, -0.0033325189724564552, -0.019885478541254997, -0.01098616048693657, 0.01769278384745121, 0.05235249176621437, -0.008082728832960129, -0.03520410135388374, -0.03115139715373516, -0.017798637971282005, -0.0027843450661748648, -0.012279094196856022, 0.004827710334211588, -0.02136743813753128, 0.040406081825494766, -0.0008983435109257698, 0.014781791716814041, -0.02499672770500183, -0.014154226519167423, 0.023998672142624855, -0.01453227736055851, -0.014426423236727715, 0.0489046685397625, 0.011840554885566235, -0.022078175097703934, 0.010592986829578876, -0.035960204899311066, -0.015114475972950459, -0.018176687881350517, -0.01633179932832718, -0.013367881067097187, 0.035627517849206924, 0.016694728285074234, -0.0009389839833602309, 0.02321232669055462, -0.01466081477701664, -0.007700897287577391, 0.013413246721029282, 0.015288379974663258, 0.03726070001721382, 0.02688698284327984, 0.01271763350814581, -0.004003559239208698, -0.010517376475036144, 0.03550654277205467, 0.03565776348114014, -0.03850070759654045, 0.0023930624593049288, -0.012513485737144947, -0.027703572064638138, 0.025495754554867744, 0.010706402361392975, 0.000559515377972275, -0.022456225007772446, -0.01661911979317665, -0.024890873581171036, -0.016951803117990494, 0.017632296308875084, 0.021427927538752556, -0.014260080642998219, -0.0003952995175495744, -0.003710569813847542, 0.0008595932740718126, -0.0226981770247221, 0.012142996303737164, 0.014743986539542675, -0.02157914638519287, 0.022531835362315178, 0.010033471509814262, 0.016891315579414368, -0.012271532788872719, -0.010464449413120747, 0.007802971173077822, 0.007277480326592922, 0.0005996832624077797, 0.015560576692223549, -0.004672709386795759, 0.004495025612413883, 0.014925451017916203, 0.00886907521635294, -0.01640740968286991, -0.037593383342027664, 0.014766668900847435, -0.007224553264677525, 0.04896515607833862, 0.012256410904228687, -0.0014110751217231154, 0.03217969462275505, 0.018600106239318848, 0.0226981770247221, -0.01042664423584938, -0.04439830034971237, -0.007421139627695084, 0.012324460782110691, -0.001315617235377431, 0.009715909138321877, -0.04624319076538086, 0.04823929816484451, -0.0038258754648268223, 0.0014176910044625401, 0.032421648502349854, 0.009625176899135113, -0.012679828330874443, 0.0098293237388134, 0.01406349427998066, -0.009844446554780006, -0.03363141044974327, 0.029155287891626358, -0.025994781404733658, -0.023832330480217934, -0.026312345638871193, 0.02218402922153473, 0.010517376475036144, 0.0064344266429543495, 0.03964998200535774, 0.013624955900013447, 0.010804696008563042, 0.009685664437711239, 0.0035253248643130064, -0.0013042757054790854, -0.03278457745909691, -0.0003752155462279916, 0.026735762134194374, 0.0010821707546710968, -0.02564697526395321, -0.002047145739197731, 0.048571985214948654, -0.0012324460549280047, 0.008937124162912369, 0.010381278581917286, -0.005277590826153755, -0.012324460782110691, -0.004846612922847271, -0.01773815043270588, -0.006290767341852188, -0.015878139063715935, -0.029986999928951263, -0.025783073157072067, 0.019794747233390808, 0.006343694403767586, -0.011515431106090546, -0.002521599642932415, 0.021337194368243217, 0.007848337292671204, -0.0020811704453080893, -0.0008898373926058412, -0.0054855188354849815, 0.02602502517402172, 0.04064803570508957, 0.009262247942388058, 0.010910550132393837, 0.012944463640451431, 0.02153378166258335, -0.017919614911079407, -0.01893279142677784, -0.0013761053560301661, 0.012294216081500053, 0.018690837547183037, -0.024225503206253052, -0.005402348004281521, -0.010948355309665203, -0.005319176707416773, -0.037079233676195145, 0.03236116096377373, 0.005572470836341381, -0.027809426188468933, -0.026297222822904587, 0.0048806373961269855, -0.03320799395442009, 0.011500309221446514, 0.026040147989988327, 0.03538556769490242, 0.016936682164669037, 0.00942102912813425, 0.025495754554867744, 0.025329412892460823, -0.015605942346155643, 0.018615227192640305, 0.001165341935120523, -0.0043400246649980545, 0.031907498836517334, 0.01760205067694187, -0.031090907752513885, 0.004309780430048704, 0.01360983308404684, 0.01661911979317665, -0.029155287891626358, 0.027234788984060287, -0.005856008734554052, -0.0088917575776577, -0.0006181132630445063, -0.0008099740953184664, 0.005394786596298218, -0.01785912550985813, 0.0027881255373358727, -0.014985938556492329, 0.01432056911289692, 0.00814321730285883, 0.0061433278024196625, 0.03701874613761902, -0.0160293597728014, 0.0035877032205462456, -0.011311284266412258, 0.03644410893321037, 0.00778784928843379, 0.03901485726237297, -0.016770338639616966, -0.01909913308918476, -0.03559727594256401, 0.011961531825363636, -0.0033003846183419228, -0.011976653710007668, -0.006101741921156645, -0.01584789529442787, 0.0013108915882185102, 0.005874911323189735, -0.013987884856760502, 0.020490359514951706, 0.003464836860075593, -0.006290767341852188, -0.02752210758626461, 0.001937511027790606, -0.023061105981469154, 0.004260634072124958, 0.007670653518289328, 0.024890873581171036, 0.032633356750011444, -0.0016426312504336238, -0.012664706446230412, 0.017919614911079407, -0.0465758740901947, -0.015742041170597076, -0.047755394130945206, 0.002712515415623784, 0.029246019199490547, -0.029593827202916145, 0.0100637162104249, 0.021609392017126083, 0.010282984934747219, 0.030803589150309563, -0.01147762592881918, 0.011212990619242191, -0.003557459218427539, 0.039680223912000656, 0.00995786115527153, -0.02824796549975872, 0.006838941480964422, -0.011386893689632416, 0.009927617385983467, -0.005602714605629444, 0.006131986156105995, -0.009526883251965046, 0.02029377408325672, -0.042462680488824844, -0.03710947930812836, -0.01914449967443943, 0.033359214663505554, -0.011137380264699459, 0.02684161625802517, 0.022849397733807564, -0.004211487248539925, -0.0012787572341039777, -0.010736646130681038, -0.014827157370746136, -0.04285585507750511, 0.004120755009353161, 0.018947912380099297, 0.022667933255434036, 0.039045099169015884, -0.012483241967856884, -0.01572691835463047, 0.03281481936573982, 0.0013515320606529713, -0.012528607621788979, -0.008120534010231495, 0.011137380264699459, 0.0023741598706692457, -0.0070582106709480286, -0.008407852612435818, 0.009799079969525337, 0.0032569088507443666, -0.006305889692157507, -0.007893703877925873, -0.0015405575977638364, 0.008922002278268337, -0.016437655314803123, -0.023303059861063957, -0.019673770293593407, -0.00029204433667473495, -0.02124646306037903, 0.007421139627695084, -0.03145383670926094, 0.025163069367408752, 0.0027673328295350075, -0.007462725508958101, 0.014010567218065262, 0.04191828891634941, 0.006290767341852188, -0.03308701887726784, 0.004317341838032007, -0.006313450634479523, 0.003247457556426525, 0.023257693275809288, -0.03856119513511658, 0.019552793353796005, 0.05038662627339363, -0.030138220638036728, -0.00339678768068552, -0.024709409102797508, 0.02085328847169876, 0.04249292612075806, -0.01850937306880951, -0.0006970313843339682, -0.011681773699820042, -0.022622568532824516, -0.010676158592104912, -0.001289153704419732, 0.12139971554279327, -0.03680703788995743, -0.029593827202916145, 0.017874248325824738, 0.036050938069820404, 0.002090621739625931, -0.014774230308830738, 0.004449659492820501, 0.001894980319775641, -0.0039052660576999187, -0.006691501475870609, -0.034296780824661255, -0.03889387845993042, -0.019840111956000328, -0.0044534397311508656, 0.03961973637342453, -0.005530884955078363, -0.03266359865665436, -0.009481517598032951, -0.017768394201993942, 0.01636204496026039, -0.04261390119791031, -0.0017598271369934082, 0.0036273987498134375, -0.002950687427073717, -0.025964537635445595, -0.025677219033241272, -0.009640298783779144, 0.0038863634690642357, 0.058703746646642685, 0.019416695460677147, 0.0026784909423440695, 0.015787407755851746, 0.008853952400386333, -0.004657587502151728, 0.0307733453810215, -0.030440660193562508, -0.02936699613928795, -0.031211884692311287, 0.005383445415645838, -0.03756314143538475, -0.0004727999330498278, 0.03151432424783707, -0.02017279714345932, -0.0024403186980634928, -0.005685885902494192, 0.014554960653185844, 0.0007390895625576377, 0.005243566352874041, -0.00933785829693079, -0.01755668595433235, 0.044640254229307175, -0.004438317846506834, 0.011235673911869526, 0.009073222056031227, 0.001162506639957428, 0.015061548911035061, 0.02487575076520443, 0.05580031871795654, -7.63190328143537e-05, -0.0024630017578601837, -0.009058100171387196, 0.028731871396303177, 0.022244516760110855, 0.001828821375966072, -0.013791297562420368, -0.013042757287621498, 0.02431623637676239, -0.02829333208501339, 0.03047090582549572, 0.00392038794234395, 0.011802749708294868, 0.016135213896632195, 0.026781128719449043, 0.02948797307908535, 0.0348714180290699, -0.047210998833179474, -0.002757881535217166, -0.02316696010529995, 0.0050923461094498634, 0.002062267856672406, -0.014373496174812317, 0.012082507833838463, 0.023983551189303398, 0.02466404251754284, 0.01100884284824133, 0.011212990619242191, 0.02026353031396866, -0.026312345638871193, -0.01271763350814581, 0.006094180978834629, 6.645426765317097e-05, 0.006381499581038952, -0.02157914638519287, 0.006706623360514641, 0.013299832120537758, -0.04424707964062691, 0.017707904800772667, 0.006479792762547731, 0.005277590826153755, 0.023923063650727272, 0.013352759182453156, 0.009156393818557262, 0.02346940152347088, -0.004018681589514017, -0.019930845126509666, 0.0009645024547353387, -0.03538556769490242, -0.04182755574584007, 0.012422753497958183, -0.003122700611129403, -0.012793243862688541, 0.002992273075506091, 0.015288379974663258, 0.020611336454749107, -0.06859356164932251, -0.03629288822412491, -0.015348867513239384, -0.0022361711598932743, 0.0013468064134940505, 0.04572904109954834, 0.023711353540420532, -0.00011867254943354055, -0.023393791168928146, 0.041948530822992325, -0.016694728285074234, 0.047120269387960434, 0.01610497012734413, 0.04397488385438919, -0.023741599172353745, 0.011583480052649975, -0.014025689102709293, 0.021185973659157753, 0.01053249929100275, -0.005753935314714909, 0.012090068310499191, 0.01820693351328373, -0.02859577164053917, 0.012558852322399616, 0.014055933803319931, 0.013050317764282227, -0.03157481551170349, -0.001053816988132894, -0.01346617378294468, -0.0014536058297380805, 0.015432039275765419, 0.0498422347009182, 0.013375441543757915, -0.018312787637114525, -0.042371947318315506, -0.03133286163210869, -0.018736204132437706, 0.0025575144682079554, -0.02653917483985424, -0.00237226951867342, 0.006623452063649893, -0.035234346985816956, -0.011311284266412258, 0.004245511721819639, -0.018327908590435982, -0.0188420582562685, -0.009352980181574821, 0.01047201082110405, -0.008732976391911507, -0.01581765152513981, 0.00680491654202342, -0.029079677537083626, 0.002519709523767233, -0.03251238167285919, -0.0069258930161595345, 0.048874422907829285, -0.041555359959602356, -0.01226397231221199, 0.03747240826487541, 0.039680223912000656, -0.014139104634523392, 0.00762906763702631, 0.008218827657401562, 0.02321232669055462, 0.005081004463136196, -0.049509551376104355, -0.04333975911140442, 0.026690395548939705, -0.02162451297044754, -0.016558630391955376, 0.026569418609142303, -0.027537230402231216, -0.0011738481698557734, -0.0003797048993874341, -0.044851962476968765, 0.007175406441092491, -0.015621064230799675, -0.0024384285788983107, -0.006865405011922121, -0.022123539820313454, -0.028217721730470657, -0.032754331827163696, -0.049086131155490875, -0.0024837946984916925, -0.009247126057744026, -0.024165015667676926, -0.03565776348114014, 0.0061622303910553455, 0.01260421797633171, -0.0001532287715235725, 0.011341528035700321, -0.016679607331752777, 0.0100032277405262, -0.015953749418258667, -0.01098616048693657, 0.01940157450735569, 0.018403518944978714, -0.018600106239318848, -0.001313726999796927, 0.050114430487155914, 0.06069985777139664, 0.010971037670969963, 0.008581755682826042, 0.009005173109471798, -0.0017683332553133368, -0.004200145602226257, -0.007723580580204725, 0.028429429978132248, -0.011757384054362774, -0.018055712804198265, 0.02368110977113247, 0.002863735891878605, -0.027234788984060287, -0.019053766503930092, -0.007077113259583712, 0.04467049613595009, 0.02064158022403717, 0.012513485737144947, 0.02855040691792965, -0.011402016505599022, 0.01106933131814003, -0.0069447956047952175, 0.005481738597154617, 0.0014829047722741961, -0.007553457748144865, -0.0044874646700918674, -0.030879199504852295, 0.0007438152097165585, -0.0074022370390594006, -0.012437875382602215, 0.017329854890704155, 0.04715051129460335, -0.020717190578579903, 0.018025469034910202, 0.005326737649738789, 0.007470286451280117, 0.03753289580345154, -0.017934735864400864, -0.012029580771923065, -0.002107633976265788, -0.005447714123874903, 0.012762999162077904, 0.0029204434249550104, 0.02466404251754284, -0.005572470836341381, -0.0298357792198658, -0.0037748385220766068, 0.01586301624774933, -0.02244110405445099, 0.012967146933078766, -0.01940157450735569, 0.021805977448821068, 0.023786963894963264, 0.01264958456158638, 0.02042987197637558, -0.00344593427143991, -0.009239564649760723, 0.01654350943863392, -0.011825433000922203, -0.01846400834619999, 0.03224018216133118, 0.020248407498002052, -0.013299832120537758, 0.013677882961928844, -0.011885921470820904, -0.02372647635638714, -0.031090907752513885, -0.013640077784657478, -0.004884418100118637, -0.015469844453036785, -0.011228112503886223, 0.009065661579370499, 0.006150888744741678, -0.023832330480217934, 0.008249071426689625, 0.060881320387125015, -0.00021537089196499437, 0.002865626011043787, 0.008196144364774227, 0.006449548993259668, 0.0241045281291008, -0.005776618141680956, 0.034085072576999664, 0.031121153384447098, -0.008218827657401562, -0.023136716336011887, -0.00037946863449178636, 0.02405916154384613, -0.022501591593027115, -0.010207375511527061, 0.013246904127299786, 0.028414307162165642, 0.0009399291011504829, -0.008377608843147755, -0.022168906405568123, -0.005538445897400379, 0.018705960363149643, 0.0017579367849975824, -0.008559073321521282, 0.0006058266153559089, 0.008725415915250778, -0.018524495884776115, 0.021851344034075737, -0.021911831572651863, 0.04016413167119026, 0.03381287679076195, 0.011061769910156727, 0.006011009681969881, 0.020203040912747383, -0.006525158882141113, -0.0320587195456028, 0.008551511913537979, -0.024694286286830902, 0.020157676190137863, -0.030062610283493996, 0.019250353798270226, 0.001834492082707584, 0.0577964261174202, -0.028837725520133972, 0.02295525185763836, -0.009647860191762447, -0.011175185441970825, -0.008702732622623444, 0.025011848658323288, -0.023514768108725548, 0.013534223660826683, 0.020157676190137863, -0.008687610737979412, 0.02675088308751583, 0.013662761077284813, 0.007647970225661993, 0.025783073157072067, -0.016558630391955376, -0.016603996977210045, 0.015295940451323986, -0.023650866001844406, 0.00995786115527153, 0.009700787253677845, -0.020626459270715714, -0.04829978570342064, 0.010895428247749805, -0.008044923655688763, -0.011908603832125664, -0.0036009352188557386, -0.03366165608167648, -0.03992217779159546, -0.01504642702639103, -0.026690395548939705, -0.009511761367321014, -0.02637283317744732, 0.050023697316646576, -0.039982665330171585, 0.00023344645160250366, 0.010078838095068932, -0.008959807455539703, 0.003515873569995165, -0.0017352537252008915, 0.027416253462433815, -0.029518216848373413, 0.002502697054296732, -0.019462062045931816, 0.010093959979712963, -0.024437211453914642, 0.028474796563386917, 0.010585426352918148, -0.002803247654810548, -0.02991138957440853, 0.006298328284174204, -0.006479792762547731, 0.009708347730338573, 0.01331495400518179, -0.019643526524305344, -0.019371328875422478, -0.022471347823739052]']\n",
      "Embedding shape: (1, 1536)\n"
     ]
    }
   ],
   "source": [
    "sym_text = Symbol(\"hello world\")\n",
    "embedded_result = sym_text.embed()\n",
    "print(f\"Embedding result: {embedded_result}\")\n",
    "\n",
    "# Access embedding property\n",
    "embedding_value = sym_text.embedding\n",
    "print(f\"Embedding shape: {embedding_value.shape if hasattr(embedding_value, 'shape') else 'N/A'}\")"
   ]
  },
  {
   "cell_type": "markdown",
   "metadata": {},
   "source": [
    "### Similarity and Distance Calculations"
   ]
  },
  {
   "cell_type": "code",
   "execution_count": 61,
   "metadata": {},
   "outputs": [
    {
     "name": "stdout",
     "output_type": "stream",
     "text": [
      "Similarity: 0.5092170138827085\n",
      "Distance: 0.37472382492017714\n"
     ]
    }
   ],
   "source": [
    "sym1 = Symbol(\"hello world\")\n",
    "sym2 = Symbol(\"hi there\")\n",
    "\n",
    "similarity_result = sym1.similarity(sym2, metric='cosine')\n",
    "print(f\"Similarity: {similarity_result}\")\n",
    "\n",
    "distance_result = sym1.distance(sym2, kernel='gaussian')\n",
    "print(f\"Distance: {distance_result}\")"
   ]
  },
  {
   "cell_type": "markdown",
   "metadata": {},
   "source": [
    "### Embedding Packaging (`zip`)"
   ]
  },
  {
   "cell_type": "code",
   "execution_count": 62,
   "metadata": {},
   "outputs": [
    {
     "name": "stdout",
     "output_type": "stream",
     "text": [
      "Zip result: [('cf52bd7b-ee06-4d28-ba22-7e37e5d99a93', [-0.00676333112642169, -0.03919631987810135, 0.034175805747509, 0.02876211516559124, -0.02478501945734024, -0.04203926399350166, -0.030289441347122192, 0.04932808503508568, -0.013897152617573738, -0.01764741726219654, 0.015363989397883415, -0.027038201689720154, -0.020974265411496162, -0.027854792773723602, 0.008619560860097408, 0.035627517849206924, -0.05368323251605034, -0.0022720859851688147, 0.008808586746454239, 0.04799734428524971, 0.03710947930812836, -0.009247126057744026, -0.008778342977166176, 0.011402016505599022, 0.014078617095947266, -0.0021624513901770115, -0.03756314143538475, 0.04542659968137741, 0.011250795796513557, -0.03964998200535774, 0.02345428057014942, -0.050628580152988434, 0.012044702656567097, -1.5505995179410093e-05, 0.0160293597728014, 0.006135766394436359, 0.03196798637509346, 0.00336087285540998, -0.008604438975453377, -0.01055518165230751, -0.037381675094366074, -0.034508489072322845, 0.04999345541000366, 0.019371328875422478, -0.014275203458964825, 0.015265696682035923, -0.05434860289096832, 0.05041687190532684, 0.04542659968137741, 0.05371347442269325, -0.0015405575977638364, 0.018524495884776115, 0.0355670303106308, 0.11595578491687775, -0.013262026943266392, -0.040920231491327286, 0.013383002951741219, 0.04769490659236908, -0.014948133379220963, 0.024679165333509445, 0.03217969462275505, 0.013360319659113884, 0.017027413472533226, 0.024845506995916367, 0.013383002951741219, 0.008990051224827766, -0.02436160109937191, -0.00039435437065549195, -0.000644576852209866, 0.05386469513177872, -0.0025140387006103992, 0.03774460405111313, -0.018705960363149643, -0.011507870629429817, -0.0351133719086647, -0.01134908851236105, -0.036686062812805176, 0.004158560186624527, 0.015265696682035923, -0.052292004227638245, -0.03426653519272804, 0.0053910063579678535, -0.021488415077328682, -0.0629681646823883, -0.012384948320686817, 0.03042553924024105, -0.04645489901304245, 0.002824040362611413, -0.0015963200712576509, -0.03692801669239998, 0.01318641658872366, 0.014471789821982384, 0.0005722746136598289, 0.04321878403425217, 0.023272816091775894, 0.00993517879396677, -0.009783958084881306, 0.04191828891634941, 0.06266572326421738, -0.005984546151012182, 0.03868217021226883, -0.024694286286830902, 0.02197232097387314, -0.002841052832081914, 0.026009904220700264, 0.03414556011557579, -0.01226397231221199, -0.0475134402513504, -0.0329962857067585, 0.023998672142624855, -0.11752847582101822, -0.0002967699838336557, -0.012112751603126526, -0.038954365998506546, 0.0063210115768015385, 0.05607251450419426, 0.08885709196329117, -0.07427944988012314, 0.020762557163834572, -0.04709002375602722, 0.029200654476881027, -0.01220348384231329, -0.020762557163834572, -0.046091970056295395, -0.07101308554410934, -0.012747877277433872, -0.013088122941553593, 0.04128316044807434, -0.036262646317481995, -0.005099907051771879, 0.014524716883897781, 0.030909443274140358, 0.0010377498110756278, -0.01757180690765381, -0.023696232587099075, 0.008498584851622581, -0.05223151668906212, -0.014933011494576931, -0.02721966616809368, 0.05304810777306557, 0.06714184582233429, -0.035415809601545334, -0.004381610080599785, -0.03034992888569832, -0.003854229347780347, -0.028580650687217712, -0.015968870371580124, 0.04037583991885185, -0.011061769910156727, 0.0027937963604927063, 0.029351873323321342, 0.03834948688745499, -0.06003448739647865, 0.020777679979801178, 0.004158560186624527, 0.007065772078931332, 0.030319685116410255, -0.041010964661836624, -0.006963698193430901, 0.032119207084178925, 0.002903431188315153, 0.004627343267202377, -0.06051839143037796, -0.00822638813406229, -0.013201538473367691, -0.006528939586132765, -0.02064158022403717, 0.0017494306666776538, -0.04461000859737396, 0.002822150243446231, 0.010540059767663479, -0.0024611116386950016, -0.03214945271611214, -0.04448903352022171, 0.015711797401309013, 0.005258688237518072, 0.03199823200702667, -0.0587339922785759, -0.03004748746752739, -0.03320799395442009, 0.05407640337944031, 0.06956136971712112, 0.011167624033987522, 0.002328793751075864, -0.03390360623598099, -0.014086177572607994, 0.017027413472533226, -0.013541784137487411, 0.010109081864356995, 0.02218402922153473, -0.04448903352022171, 0.06405694782733917, 0.03103042021393776, 0.003699228400364518, 0.002302330220118165, -0.03735143318772316, 0.0840180367231369, 0.021397681906819344, -0.01512959785759449, 0.03632313385605812, -0.0019129377324134111, -0.011054209433495998, -0.028111867606639862, -0.016483020037412643, -0.021821100264787674, -0.026826493442058563, -0.006105522625148296, 0.06339158117771149, 0.006177352275699377, -0.034206047654151917, 0.058280330151319504, -0.0055497875437140465, -0.034508489072322845, -0.004389171488583088, -0.025284046307206154, -0.0007504310924559832, 0.04125291854143143, 0.011628846637904644, 0.01055518165230751, -0.040920231491327286, -0.044942695647478104, 0.08504633605480194, 0.07155747711658478, -0.017148390412330627, 0.032845064997673035, -1.9759068891289644e-05, 0.020611336454749107, 0.007621506694704294, 0.04055730253458023, 0.02718942239880562, 0.026221612468361855, 0.016135213896632195, 0.031302616000175476, -0.04491245001554489, -0.0023628182243555784, -0.010056154802441597, 0.03735143318772316, -0.021851344034075737, -0.021306950598955154, -0.008937124162912369, -0.04330951347947121, 0.01153811439871788, 0.021427927538752556, 0.014766668900847435, 0.03360116481781006, -0.025843560695648193, -0.019371328875422478, -0.026811372488737106, -0.0042568533681333065, 0.013813980855047703, 0.008060045540332794, 0.055709585547447205, -0.006438207346946001, -0.005107467994093895, 0.028399186208844185, -0.006215157452970743, -0.013451051898300648, -0.0046008797362446785, 0.07482384145259857, -0.014880084432661533, -0.037290941923856735, -0.04902564361691475, -0.026992836967110634, -0.03798655793070793, -0.04554757475852966, -0.02649380825459957, -0.001419581240043044, -0.010290546342730522, 0.01577228493988514, -0.009269808419048786, 0.03980120271444321, -0.021473292261362076, 0.06018570810556412, -0.038440220057964325, -0.00187229725997895, 0.005096126347780228, 0.016558630391955376, -0.006131986156105995, -0.020142553374171257, 0.00961761549115181, -0.018993278965353966, 0.0011993665248155594, -0.004332463722676039, 0.018705960363149643, -0.04530562460422516, 0.002151109743863344, 0.037623628973960876, 0.0006025186739861965, 0.0367465503513813, -0.0061546689830720425, 0.019945967942476273, 0.036262646317481995, 0.029729925096035004, 0.00101223133970052, -0.0001459040358895436, 0.020838167518377304, 0.019809868186712265, 0.0012900987640023232, 0.023711353540420532, -0.0524129793047905, 0.06339158117771149, -0.014267642050981522, -0.004585757851600647, 0.0266752727329731, -0.008959807455539703, 0.0288982130587101, 0.032421648502349854, -0.05507446080446243, 0.05050760507583618, 0.0179044920951128, -0.03756314143538475, 0.029200654476881027, 0.04022461920976639, 0.003266360145062208, -0.000645521970000118, -0.048057835549116135, 0.0012305558193475008, -0.030924566090106964, 0.0002452605403959751, -0.05232224985957146, 0.028414307162165642, -0.04457976669073105, -0.021609392017126083, 4.0108840039465576e-05, 0.020490359514951706, -0.0060601565055549145, 0.04222072660923004, -0.006407963111996651, -0.021427927538752556, -0.004033803474158049, -0.018569862470030785, -0.04932808503508568, -0.00487307645380497, 0.011938848532736301, 0.010199814103543758, -0.0049449061043560505, -0.03934754058718681, 0.02965431474149227, -0.006483573466539383, 0.02717430144548416, -0.03124212846159935, -0.027506984770298004, 0.016089847311377525, -0.01072908565402031, -0.017768394201993942, 0.0014791243011131883, 0.059217896312475204, -0.0444587878882885, 0.0078105321153998375, -0.010706402361392975, -0.008067606948316097, 0.01717863418161869, -0.0015235452447086573, -0.017163511365652084, 0.013602272607386112, -0.024240626022219658, 0.022199150174856186, -0.017360098659992218, -0.011296161450445652, 0.047120269387960434, -0.02555624209344387, -0.029094800353050232, 0.0020717191509902477, -0.005863570142537355, 0.048057835549116135, 0.015621064230799675, -0.02380208671092987, -0.06042766198515892, 0.018327908590435982, 0.04300707206130028, 0.000593067379668355, 0.0054552750661969185, 0.025919171050190926, -0.01134908851236105, -0.04654563218355179, -0.03266359865665436, 0.004846612922847271, 0.007451383862644434, 0.045638307929039, -0.008173461072146893, 0.01001834962517023, -0.02277378737926483, -0.011250795796513557, -0.022788910195231438, 0.003837216878309846, -0.0012003117008134723, 0.020777679979801178, 0.0058106426149606705, 0.0008553402149118483, -0.0308943223208189, 0.0807516798377037, -0.027930403128266335, 0.018494252115488052, 0.009504199959337711, 0.01876644790172577, -0.029896266758441925, -0.0026992836501449347, -0.00013763416791334748, -0.017329854890704155, -0.01970401406288147, 0.03163530305027962, -0.0313631035387516, 0.017707904800772667, 0.0008104466833174229, -0.052110541611909866, -0.03302652761340141, -0.014237398281693459, 0.03187725320458412, 0.012505924329161644, -0.02017279714345932, 0.007390895858407021, -0.022804033011198044, 0.034599222242832184, 0.0339338518679142, -0.037290941923856735, -0.01755668595433235, -0.009708347730338573, -0.034720197319984436, -0.007564798928797245, 0.0067595504224300385, 0.012377387844026089, 0.022713299840688705, -0.017496196553111076, 0.03438751399517059, -0.03287531062960625, 0.05888521298766136, 0.05773593857884407, -0.018388397991657257, 0.02419525943696499, -0.07077113538980484, -0.02222939394414425, -0.011099575087428093, -0.042976830154657364, 0.0025801975280046463, 0.012921780347824097, -0.036141667515039444, -0.001595374895259738, 4.4952619646210223e-05, 0.03868217021226883, 0.00228720810264349, 0.013624955900013447, 0.011719578877091408, -0.021261584013700485, -0.034085072576999664, -0.00788614246994257, -0.04252316802740097, -0.013617394492030144, -0.0013468064134940505, -0.022879641503095627, -0.019719136878848076, 0.029593827202916145, -0.06968234479427338, 0.03592995926737785, 0.02384745329618454, -0.0033476410899311304, -0.0020830605644732714, -0.012906658463180065, 0.01393495686352253, -0.021654756739735603, 0.03877290338277817, 0.005795520730316639, 0.0011974762892350554, -0.06357304751873016, 0.04999345541000366, 0.02487575076520443, 0.003574471455067396, 0.0073719932697713375, -0.0026841615326702595, 0.0031321519054472446, -0.03447824344038963, -0.01661911979317665, -0.015084232203662395, 0.03302652761340141, -0.024558188393712044, -0.02564697526395321, 0.00043924793135374784, -0.031393349170684814, 0.02089865505695343, -0.014275203458964825, -0.013110806234180927, 0.007848337292671204, -0.012921780347824097, 0.0044988058507442474, -0.005326737649738789, 0.006426865700632334, 0.05462079867720604, -0.04073876887559891, -0.014411301352083683, -0.016377165913581848, -0.0030244074296206236, -0.01850937306880951, 0.06163742393255234, 0.036655817180871964, -0.01991572231054306, -0.008944684639573097, -0.038016799837350845, 0.006502476055175066, -0.025541121140122414, 0.0027484302408993244, -0.02906455472111702, -0.009753714315593243, -0.03701874613761902, -0.015651308000087738, -0.013125928118824959, 0.05567933991551399, -0.015205208212137222, -0.03840997442603111, -0.02445233426988125, 0.05295737460255623, -0.036686062812805176, -0.04627343267202377, 0.013088122941553593, 0.0023817208129912615, -0.01940157450735569, -0.019552793353796005, -0.006555403117090464, -0.013897152617573738, 0.020883534103631973, -0.0024157455191016197, -0.03632313385605812, 0.008392730727791786, 0.040708523243665695, -0.014880084432661533, -0.029926512390375137, 0.021125486120581627, 0.026100635528564453, -0.04270463436841965, -0.03568800911307335, -0.021957198157906532, 0.023817207664251328, -0.0014158007688820362, -0.016483020037412643, 0.029775291681289673, -0.007602604106068611, -0.014494473114609718, -0.024240626022219658, -0.006290767341852188, 0.014176909811794758, -0.003056541783735156, -0.04324902594089508, 0.000268888717982918, 0.013677882961928844, 0.019220110028982162, 0.007496749982237816, -0.019477182999253273, 0.028610894456505775, 0.04947930574417114, 0.014675936661660671, 0.004041364416480064, 0.037926070392131805, -0.007024186197668314, -0.02662990801036358, -0.020747434347867966, -0.008173461072146893, 0.022168906405568123, -0.009693225845694542, -0.010509815998375416, 0.0003397732798475772, -0.015469844453036785, 0.05419738218188286, 0.023514768108725548, 0.017768394201993942, 0.02042987197637558, -0.003924168646335602, 0.007576140575110912, 0.030848955735564232, -0.017768394201993942, -0.024558188393712044, -0.025707462802529335, -0.035748496651649475, -0.01858498342335224, -0.035627517849206924, -0.01701229251921177, -0.06593208014965057, 0.011764944531023502, -0.0027068445924669504, 0.009156393818557262, 0.04004315286874771, 0.020565969869494438, -0.007107357494533062, -0.01174982264637947, -0.038742657750844955, -0.0498422347009182, 0.02127670682966709, -0.050961267203092575, 0.05068906769156456, 0.021805977448821068, -0.0010075056925415993, 0.01525813527405262, -0.012883976101875305, 0.011719578877091408, 0.011764944531023502, 0.04482171684503555, 0.01258909609168768, -0.036867525428533554, -0.030198708176612854, 0.013821542263031006, 0.005534665659070015, -0.022804033011198044, -0.007088454905897379, 0.013919834978878498, 0.006218937691301107, 0.029941633343696594, -0.0554676316678524, 0.015484966337680817, -0.026040147989988327, -0.020505482330918312, -0.008309559896588326, 0.025495754554867744, -0.051566146314144135, -0.026100635528564453, 0.0323006696999073, 0.003931729588657618, -0.04076901078224182, -0.018358152359724045, 0.027960646897554398, -0.022894764319062233, 0.007296382915228605, 0.005905155558139086, -0.0032228841446340084, -0.01841864176094532, -0.047543685883283615, 0.009352980181574821, 0.04285585507750511, 0.008990051224827766, 0.025238679721951485, -0.02008206583559513, 0.004820149391889572, -0.007239675149321556, 0.007999558001756668, 0.02777918241918087, -0.006536500528454781, 0.00033528392668813467, -0.04055730253458023, 0.0007012845017015934, 0.01612009108066559, 0.0066650379449129105, -0.014562522061169147, -0.001597265130840242, -0.03753289580345154, 0.032633356750011444, 0.005311615765094757, 0.009126149117946625, -0.037926070392131805, 0.041222672909498215, 0.020187919959425926, 0.030153341591358185, 0.01267226692289114, 0.006385280285030603, -0.01876644790172577, 0.036655817180871964, 0.02517819218337536, 0.020278651267290115, -0.013685443438589573, 0.026040147989988327, 0.008801025338470936, -0.04321878403425217, -0.026947470381855965, -0.01339812483638525, 0.012702511623501778, -0.012793243862688541, 0.05679837241768837, -0.009095905348658562, -0.022501591593027115, -0.006910771131515503, -0.008445657789707184, -0.0200064554810524, 0.02499672770500183, 0.005701008252799511, -0.018146444112062454, 0.002540502231568098, -0.01628643460571766, 0.047029536217451096, 5.853882248629816e-05, 0.04524513706564903, -0.0012589095858857036, -0.003094346961006522, -0.03777484968304634, -0.0058106426149606705, -0.02812698855996132, 0.0045063672587275505, 0.02747674100100994, -0.040708523243665695, -0.02564697526395321, 0.009322735480964184, 0.022425981238484383, 0.016225945204496384, 0.016422532498836517, -0.004294658545404673, -0.011175185441970825, -0.027461620047688484, -0.014887645840644836, 0.004154779948294163, 0.01713326759636402, -0.008944684639573097, -0.032330915331840515, 0.0332382395863533, 0.007538335397839546, -0.012324460782110691, -0.030319685116410255, 0.015462283045053482, -0.02080792374908924, -0.019628403708338737, -0.006937234662473202, 0.005844667553901672, -0.005360762123018503, -0.01504642702639103, 0.04182755574584007, 0.04551733285188675, 0.00010408214438939467, -0.03269384428858757, -0.016724973917007446, -0.015500088222324848, -0.020021576434373856, -0.034175805747509, 0.003358982503414154, -0.022894764319062233, -0.05413689464330673, 0.009194198995828629, 0.008521268144249916, -0.04179731011390686, 0.0063399141654372215, -0.016301555559039116, -0.004396732430905104, -0.018070833757519722, 0.0089522460475564, -0.016573753207921982, -0.019764503464102745, 0.019809868186712265, 0.012022019363939762, 0.023741599172353745, 0.001742814783938229, 0.0188420582562685, 0.014925451017916203, 0.0027049544733017683, -0.010865183547139168, -0.047422707080841064, -0.019734257832169533, -0.013950079679489136, -0.0402548648416996, -0.006502476055175066, -0.004018681589514017, 0.022335248067975044, 0.0367465503513813, -0.022289883345365524, 0.0027068445924669504, -0.013254465535283089, 0.016437655314803123, -0.03716996684670448, 0.011840554885566235, -0.01523545291274786, 0.013511540368199348, -0.004415635019540787, 0.001920498674735427, 0.003194530261680484, -0.044942695647478104, -0.005942960735410452, 0.0013817761791869998, -0.001612387248314917, 0.029805535450577736, -0.016770338639616966, 0.03166554495692253, -0.006101741921156645, 0.019084010273218155, 0.010577864944934845, 0.013284709304571152, 0.02440696768462658, -0.01358715072274208, 0.0027030641213059425, 0.006638574413955212, 0.03735143318772316, -0.012581534683704376, 0.041525114327669144, 0.0035177639219909906, 0.002353366930037737, -0.036686062812805176, -0.02239573746919632, 0.00781809352338314, -0.023045985028147697, 0.005179297644644976, -0.03260311111807823, 0.004132096655666828, -0.018479129299521446, -0.006615891121327877, 0.018690837547183037, -0.03296604007482529, 0.0034137999173253775, 0.007931508123874664, 0.019386451691389084, -0.038863636553287506, -0.006241620983928442, -0.016271311789751053, -0.007795410230755806, -0.018010346218943596, 0.014963256195187569, 0.04206950590014458, -0.006846502423286438, -0.04182755574584007, 0.017768394201993942, 0.004589538089931011, -0.001226775231771171, -0.010434205643832684, 0.041736822575330734, 0.017072780057787895, -0.012014458887279034, -0.037926070392131805, -0.008876635693013668, 0.026766005903482437, -0.007916386239230633, 0.008672487922012806, 0.0054666162468492985, 0.043702688068151474, -0.01940157450735569, 0.002149219624698162, -0.021942075341939926, -0.057554472237825394, 0.010933232493698597, -0.014365935698151588, 0.0035877032205462456, 0.01305787917226553, 0.004287097603082657, -0.008929562754929066, -0.04896515607833862, -0.04013388603925705, 0.03384311869740486, 0.018736204132437706, -0.020399628207087517, 0.009708347730338573, 0.020112309604883194, -0.0098293237388134, 0.004631123971194029, -0.0033325189724564552, -0.019885478541254997, -0.01098616048693657, 0.01769278384745121, 0.05235249176621437, -0.008082728832960129, -0.03520410135388374, -0.03115139715373516, -0.017798637971282005, -0.0027843450661748648, -0.012279094196856022, 0.004827710334211588, -0.02136743813753128, 0.040406081825494766, -0.0008983435109257698, 0.014781791716814041, -0.02499672770500183, -0.014154226519167423, 0.023998672142624855, -0.01453227736055851, -0.014426423236727715, 0.0489046685397625, 0.011840554885566235, -0.022078175097703934, 0.010592986829578876, -0.035960204899311066, -0.015114475972950459, -0.018176687881350517, -0.01633179932832718, -0.013367881067097187, 0.035627517849206924, 0.016694728285074234, -0.0009389839833602309, 0.02321232669055462, -0.01466081477701664, -0.007700897287577391, 0.013413246721029282, 0.015288379974663258, 0.03726070001721382, 0.02688698284327984, 0.01271763350814581, -0.004003559239208698, -0.010517376475036144, 0.03550654277205467, 0.03565776348114014, -0.03850070759654045, 0.0023930624593049288, -0.012513485737144947, -0.027703572064638138, 0.025495754554867744, 0.010706402361392975, 0.000559515377972275, -0.022456225007772446, -0.01661911979317665, -0.024890873581171036, -0.016951803117990494, 0.017632296308875084, 0.021427927538752556, -0.014260080642998219, -0.0003952995175495744, -0.003710569813847542, 0.0008595932740718126, -0.0226981770247221, 0.012142996303737164, 0.014743986539542675, -0.02157914638519287, 0.022531835362315178, 0.010033471509814262, 0.016891315579414368, -0.012271532788872719, -0.010464449413120747, 0.007802971173077822, 0.007277480326592922, 0.0005996832624077797, 0.015560576692223549, -0.004672709386795759, 0.004495025612413883, 0.014925451017916203, 0.00886907521635294, -0.01640740968286991, -0.037593383342027664, 0.014766668900847435, -0.007224553264677525, 0.04896515607833862, 0.012256410904228687, -0.0014110751217231154, 0.03217969462275505, 0.018600106239318848, 0.0226981770247221, -0.01042664423584938, -0.04439830034971237, -0.007421139627695084, 0.012324460782110691, -0.001315617235377431, 0.009715909138321877, -0.04624319076538086, 0.04823929816484451, -0.0038258754648268223, 0.0014176910044625401, 0.032421648502349854, 0.009625176899135113, -0.012679828330874443, 0.0098293237388134, 0.01406349427998066, -0.009844446554780006, -0.03363141044974327, 0.029155287891626358, -0.025994781404733658, -0.023832330480217934, -0.026312345638871193, 0.02218402922153473, 0.010517376475036144, 0.0064344266429543495, 0.03964998200535774, 0.013624955900013447, 0.010804696008563042, 0.009685664437711239, 0.0035253248643130064, -0.0013042757054790854, -0.03278457745909691, -0.0003752155462279916, 0.026735762134194374, 0.0010821707546710968, -0.02564697526395321, -0.002047145739197731, 0.048571985214948654, -0.0012324460549280047, 0.008937124162912369, 0.010381278581917286, -0.005277590826153755, -0.012324460782110691, -0.004846612922847271, -0.01773815043270588, -0.006290767341852188, -0.015878139063715935, -0.029986999928951263, -0.025783073157072067, 0.019794747233390808, 0.006343694403767586, -0.011515431106090546, -0.002521599642932415, 0.021337194368243217, 0.007848337292671204, -0.0020811704453080893, -0.0008898373926058412, -0.0054855188354849815, 0.02602502517402172, 0.04064803570508957, 0.009262247942388058, 0.010910550132393837, 0.012944463640451431, 0.02153378166258335, -0.017919614911079407, -0.01893279142677784, -0.0013761053560301661, 0.012294216081500053, 0.018690837547183037, -0.024225503206253052, -0.005402348004281521, -0.010948355309665203, -0.005319176707416773, -0.037079233676195145, 0.03236116096377373, 0.005572470836341381, -0.027809426188468933, -0.026297222822904587, 0.0048806373961269855, -0.03320799395442009, 0.011500309221446514, 0.026040147989988327, 0.03538556769490242, 0.016936682164669037, 0.00942102912813425, 0.025495754554867744, 0.025329412892460823, -0.015605942346155643, 0.018615227192640305, 0.001165341935120523, -0.0043400246649980545, 0.031907498836517334, 0.01760205067694187, -0.031090907752513885, 0.004309780430048704, 0.01360983308404684, 0.01661911979317665, -0.029155287891626358, 0.027234788984060287, -0.005856008734554052, -0.0088917575776577, -0.0006181132630445063, -0.0008099740953184664, 0.005394786596298218, -0.01785912550985813, 0.0027881255373358727, -0.014985938556492329, 0.01432056911289692, 0.00814321730285883, 0.0061433278024196625, 0.03701874613761902, -0.0160293597728014, 0.0035877032205462456, -0.011311284266412258, 0.03644410893321037, 0.00778784928843379, 0.03901485726237297, -0.016770338639616966, -0.01909913308918476, -0.03559727594256401, 0.011961531825363636, -0.0033003846183419228, -0.011976653710007668, -0.006101741921156645, -0.01584789529442787, 0.0013108915882185102, 0.005874911323189735, -0.013987884856760502, 0.020490359514951706, 0.003464836860075593, -0.006290767341852188, -0.02752210758626461, 0.001937511027790606, -0.023061105981469154, 0.004260634072124958, 0.007670653518289328, 0.024890873581171036, 0.032633356750011444, -0.0016426312504336238, -0.012664706446230412, 0.017919614911079407, -0.0465758740901947, -0.015742041170597076, -0.047755394130945206, 0.002712515415623784, 0.029246019199490547, -0.029593827202916145, 0.0100637162104249, 0.021609392017126083, 0.010282984934747219, 0.030803589150309563, -0.01147762592881918, 0.011212990619242191, -0.003557459218427539, 0.039680223912000656, 0.00995786115527153, -0.02824796549975872, 0.006838941480964422, -0.011386893689632416, 0.009927617385983467, -0.005602714605629444, 0.006131986156105995, -0.009526883251965046, 0.02029377408325672, -0.042462680488824844, -0.03710947930812836, -0.01914449967443943, 0.033359214663505554, -0.011137380264699459, 0.02684161625802517, 0.022849397733807564, -0.004211487248539925, -0.0012787572341039777, -0.010736646130681038, -0.014827157370746136, -0.04285585507750511, 0.004120755009353161, 0.018947912380099297, 0.022667933255434036, 0.039045099169015884, -0.012483241967856884, -0.01572691835463047, 0.03281481936573982, 0.0013515320606529713, -0.012528607621788979, -0.008120534010231495, 0.011137380264699459, 0.0023741598706692457, -0.0070582106709480286, -0.008407852612435818, 0.009799079969525337, 0.0032569088507443666, -0.006305889692157507, -0.007893703877925873, -0.0015405575977638364, 0.008922002278268337, -0.016437655314803123, -0.023303059861063957, -0.019673770293593407, -0.00029204433667473495, -0.02124646306037903, 0.007421139627695084, -0.03145383670926094, 0.025163069367408752, 0.0027673328295350075, -0.007462725508958101, 0.014010567218065262, 0.04191828891634941, 0.006290767341852188, -0.03308701887726784, 0.004317341838032007, -0.006313450634479523, 0.003247457556426525, 0.023257693275809288, -0.03856119513511658, 0.019552793353796005, 0.05038662627339363, -0.030138220638036728, -0.00339678768068552, -0.024709409102797508, 0.02085328847169876, 0.04249292612075806, -0.01850937306880951, -0.0006970313843339682, -0.011681773699820042, -0.022622568532824516, -0.010676158592104912, -0.001289153704419732, 0.12139971554279327, -0.03680703788995743, -0.029593827202916145, 0.017874248325824738, 0.036050938069820404, 0.002090621739625931, -0.014774230308830738, 0.004449659492820501, 0.001894980319775641, -0.0039052660576999187, -0.006691501475870609, -0.034296780824661255, -0.03889387845993042, -0.019840111956000328, -0.0044534397311508656, 0.03961973637342453, -0.005530884955078363, -0.03266359865665436, -0.009481517598032951, -0.017768394201993942, 0.01636204496026039, -0.04261390119791031, -0.0017598271369934082, 0.0036273987498134375, -0.002950687427073717, -0.025964537635445595, -0.025677219033241272, -0.009640298783779144, 0.0038863634690642357, 0.058703746646642685, 0.019416695460677147, 0.0026784909423440695, 0.015787407755851746, 0.008853952400386333, -0.004657587502151728, 0.0307733453810215, -0.030440660193562508, -0.02936699613928795, -0.031211884692311287, 0.005383445415645838, -0.03756314143538475, -0.0004727999330498278, 0.03151432424783707, -0.02017279714345932, -0.0024403186980634928, -0.005685885902494192, 0.014554960653185844, 0.0007390895625576377, 0.005243566352874041, -0.00933785829693079, -0.01755668595433235, 0.044640254229307175, -0.004438317846506834, 0.011235673911869526, 0.009073222056031227, 0.001162506639957428, 0.015061548911035061, 0.02487575076520443, 0.05580031871795654, -7.63190328143537e-05, -0.0024630017578601837, -0.009058100171387196, 0.028731871396303177, 0.022244516760110855, 0.001828821375966072, -0.013791297562420368, -0.013042757287621498, 0.02431623637676239, -0.02829333208501339, 0.03047090582549572, 0.00392038794234395, 0.011802749708294868, 0.016135213896632195, 0.026781128719449043, 0.02948797307908535, 0.0348714180290699, -0.047210998833179474, -0.002757881535217166, -0.02316696010529995, 0.0050923461094498634, 0.002062267856672406, -0.014373496174812317, 0.012082507833838463, 0.023983551189303398, 0.02466404251754284, 0.01100884284824133, 0.011212990619242191, 0.02026353031396866, -0.026312345638871193, -0.01271763350814581, 0.006094180978834629, 6.645426765317097e-05, 0.006381499581038952, -0.02157914638519287, 0.006706623360514641, 0.013299832120537758, -0.04424707964062691, 0.017707904800772667, 0.006479792762547731, 0.005277590826153755, 0.023923063650727272, 0.013352759182453156, 0.009156393818557262, 0.02346940152347088, -0.004018681589514017, -0.019930845126509666, 0.0009645024547353387, -0.03538556769490242, -0.04182755574584007, 0.012422753497958183, -0.003122700611129403, -0.012793243862688541, 0.002992273075506091, 0.015288379974663258, 0.020611336454749107, -0.06859356164932251, -0.03629288822412491, -0.015348867513239384, -0.0022361711598932743, 0.0013468064134940505, 0.04572904109954834, 0.023711353540420532, -0.00011867254943354055, -0.023393791168928146, 0.041948530822992325, -0.016694728285074234, 0.047120269387960434, 0.01610497012734413, 0.04397488385438919, -0.023741599172353745, 0.011583480052649975, -0.014025689102709293, 0.021185973659157753, 0.01053249929100275, -0.005753935314714909, 0.012090068310499191, 0.01820693351328373, -0.02859577164053917, 0.012558852322399616, 0.014055933803319931, 0.013050317764282227, -0.03157481551170349, -0.001053816988132894, -0.01346617378294468, -0.0014536058297380805, 0.015432039275765419, 0.0498422347009182, 0.013375441543757915, -0.018312787637114525, -0.042371947318315506, -0.03133286163210869, -0.018736204132437706, 0.0025575144682079554, -0.02653917483985424, -0.00237226951867342, 0.006623452063649893, -0.035234346985816956, -0.011311284266412258, 0.004245511721819639, -0.018327908590435982, -0.0188420582562685, -0.009352980181574821, 0.01047201082110405, -0.008732976391911507, -0.01581765152513981, 0.00680491654202342, -0.029079677537083626, 0.002519709523767233, -0.03251238167285919, -0.0069258930161595345, 0.048874422907829285, -0.041555359959602356, -0.01226397231221199, 0.03747240826487541, 0.039680223912000656, -0.014139104634523392, 0.00762906763702631, 0.008218827657401562, 0.02321232669055462, 0.005081004463136196, -0.049509551376104355, -0.04333975911140442, 0.026690395548939705, -0.02162451297044754, -0.016558630391955376, 0.026569418609142303, -0.027537230402231216, -0.0011738481698557734, -0.0003797048993874341, -0.044851962476968765, 0.007175406441092491, -0.015621064230799675, -0.0024384285788983107, -0.006865405011922121, -0.022123539820313454, -0.028217721730470657, -0.032754331827163696, -0.049086131155490875, -0.0024837946984916925, -0.009247126057744026, -0.024165015667676926, -0.03565776348114014, 0.0061622303910553455, 0.01260421797633171, -0.0001532287715235725, 0.011341528035700321, -0.016679607331752777, 0.0100032277405262, -0.015953749418258667, -0.01098616048693657, 0.01940157450735569, 0.018403518944978714, -0.018600106239318848, -0.001313726999796927, 0.050114430487155914, 0.06069985777139664, 0.010971037670969963, 0.008581755682826042, 0.009005173109471798, -0.0017683332553133368, -0.004200145602226257, -0.007723580580204725, 0.028429429978132248, -0.011757384054362774, -0.018055712804198265, 0.02368110977113247, 0.002863735891878605, -0.027234788984060287, -0.019053766503930092, -0.007077113259583712, 0.04467049613595009, 0.02064158022403717, 0.012513485737144947, 0.02855040691792965, -0.011402016505599022, 0.01106933131814003, -0.0069447956047952175, 0.005481738597154617, 0.0014829047722741961, -0.007553457748144865, -0.0044874646700918674, -0.030879199504852295, 0.0007438152097165585, -0.0074022370390594006, -0.012437875382602215, 0.017329854890704155, 0.04715051129460335, -0.020717190578579903, 0.018025469034910202, 0.005326737649738789, 0.007470286451280117, 0.03753289580345154, -0.017934735864400864, -0.012029580771923065, -0.002107633976265788, -0.005447714123874903, 0.012762999162077904, 0.0029204434249550104, 0.02466404251754284, -0.005572470836341381, -0.0298357792198658, -0.0037748385220766068, 0.01586301624774933, -0.02244110405445099, 0.012967146933078766, -0.01940157450735569, 0.021805977448821068, 0.023786963894963264, 0.01264958456158638, 0.02042987197637558, -0.00344593427143991, -0.009239564649760723, 0.01654350943863392, -0.011825433000922203, -0.01846400834619999, 0.03224018216133118, 0.020248407498002052, -0.013299832120537758, 0.013677882961928844, -0.011885921470820904, -0.02372647635638714, -0.031090907752513885, -0.013640077784657478, -0.004884418100118637, -0.015469844453036785, -0.011228112503886223, 0.009065661579370499, 0.006150888744741678, -0.023832330480217934, 0.008249071426689625, 0.060881320387125015, -0.00021537089196499437, 0.002865626011043787, 0.008196144364774227, 0.006449548993259668, 0.0241045281291008, -0.005776618141680956, 0.034085072576999664, 0.031121153384447098, -0.008218827657401562, -0.023136716336011887, -0.00037946863449178636, 0.02405916154384613, -0.022501591593027115, -0.010207375511527061, 0.013246904127299786, 0.028414307162165642, 0.0009399291011504829, -0.008377608843147755, -0.022168906405568123, -0.005538445897400379, 0.018705960363149643, 0.0017579367849975824, -0.008559073321521282, 0.0006058266153559089, 0.008725415915250778, -0.018524495884776115, 0.021851344034075737, -0.021911831572651863, 0.04016413167119026, 0.03381287679076195, 0.011061769910156727, 0.006011009681969881, 0.020203040912747383, -0.006525158882141113, -0.0320587195456028, 0.008551511913537979, -0.024694286286830902, 0.020157676190137863, -0.030062610283493996, 0.019250353798270226, 0.001834492082707584, 0.0577964261174202, -0.028837725520133972, 0.02295525185763836, -0.009647860191762447, -0.011175185441970825, -0.008702732622623444, 0.025011848658323288, -0.023514768108725548, 0.013534223660826683, 0.020157676190137863, -0.008687610737979412, 0.02675088308751583, 0.013662761077284813, 0.007647970225661993, 0.025783073157072067, -0.016558630391955376, -0.016603996977210045, 0.015295940451323986, -0.023650866001844406, 0.00995786115527153, 0.009700787253677845, -0.020626459270715714, -0.04829978570342064, 0.010895428247749805, -0.008044923655688763, -0.011908603832125664, -0.0036009352188557386, -0.03366165608167648, -0.03992217779159546, -0.01504642702639103, -0.026690395548939705, -0.009511761367321014, -0.02637283317744732, 0.050023697316646576, -0.039982665330171585, 0.00023344645160250366, 0.010078838095068932, -0.008959807455539703, 0.003515873569995165, -0.0017352537252008915, 0.027416253462433815, -0.029518216848373413, 0.002502697054296732, -0.019462062045931816, 0.010093959979712963, -0.024437211453914642, 0.028474796563386917, 0.010585426352918148, -0.002803247654810548, -0.02991138957440853, 0.006298328284174204, -0.006479792762547731, 0.009708347730338573, 0.01331495400518179, -0.019643526524305344, -0.019371328875422478, -0.022471347823739052], {'text': 'hello world'})]\n"
     ]
    }
   ],
   "source": [
    "sym_text = Symbol(\"hello world\")\n",
    "zip_result = sym_text.zip()\n",
    "print(f\"Zip result: {zip_result}\")"
   ]
  },
  {
   "cell_type": "markdown",
   "metadata": {},
   "source": [
    "## 19. Input/Output Handling Operations\n",
    "\n",
    "### File Operations (`open`)"
   ]
  },
  {
   "cell_type": "code",
   "execution_count": 63,
   "metadata": {},
   "outputs": [
    {
     "name": "stdout",
     "output_type": "stream",
     "text": [
      "File contents: Hello from SymbolicAI file operations!\n",
      "File contents from path symbol: Hello from SymbolicAI file operations!\n"
     ]
    }
   ],
   "source": [
    "# Create a sample file for demonstration\n",
    "import tempfile\n",
    "import os\n",
    "\n",
    "# Create a temporary file\n",
    "with tempfile.NamedTemporaryFile(mode='w', delete=False, suffix='.txt') as f:\n",
    "    f.write(\"Hello from SymbolicAI file operations!\")\n",
    "    temp_file_path = f.name\n",
    "\n",
    "# Open file with path parameter\n",
    "sym_empty = Symbol()\n",
    "opened_result = sym_empty.open(temp_file_path)\n",
    "print(f\"File contents: {opened_result}\")\n",
    "\n",
    "# Open file with path as Symbol value\n",
    "sym_path = Symbol(temp_file_path)\n",
    "opened_from_value = sym_path.open()\n",
    "print(f\"File contents from path symbol: {opened_from_value}\")\n",
    "\n",
    "# Cleanup\n",
    "os.unlink(temp_file_path)"
   ]
  },
  {
   "cell_type": "markdown",
   "metadata": {},
   "source": [
    "## 20. Persistence Operations\n",
    "\n",
    "### Saving and Loading Symbols (`save`, `load`)"
   ]
  },
  {
   "cell_type": "code",
   "execution_count": 64,
   "metadata": {},
   "outputs": [
    {
     "name": "stdout",
     "output_type": "stream",
     "text": [
      "Saved to text: /var/folders/fq/xwdrwyn112ndt59wfq_5m3mr0000gn/T/tmppncyyog9.txt\n",
      "Saved to pickle: /var/folders/fq/xwdrwyn112ndt59wfq_5m3mr0000gn/T/tmpra8v8crk.pkl\n",
      "Loaded from pickle: Hello, persistence test!\n"
     ]
    }
   ],
   "source": [
    "import tempfile\n",
    "import os\n",
    "\n",
    "sym_test = Symbol(\"Hello, persistence test!\")\n",
    "\n",
    "# Create temporary files for demonstration\n",
    "with tempfile.NamedTemporaryFile(delete=False, suffix='.pkl') as f:\n",
    "    pickle_path = f.name\n",
    "\n",
    "with tempfile.NamedTemporaryFile(delete=False, suffix='.txt') as f:\n",
    "    text_path = f.name\n",
    "\n",
    "# Save as text\n",
    "sym_test.save(text_path, serialize=False, replace=True)\n",
    "print(f\"Saved to text: {text_path}\")\n",
    "\n",
    "# Save as pickle (serialized)\n",
    "sym_test.save(pickle_path, serialize=True, replace=True)\n",
    "print(f\"Saved to pickle: {pickle_path}\")\n",
    "loaded_sym = Symbol().load(pickle_path)\n",
    "print(f\"Loaded from pickle: {loaded_sym}\")\n",
    "\n",
    "# Cleanup\n",
    "os.unlink(pickle_path)\n",
    "os.unlink(text_path)"
   ]
  },
  {
   "cell_type": "markdown",
   "metadata": {},
   "source": [
    "### Dynamic Function Expansion (`expand`)"
   ]
  },
  {
   "cell_type": "code",
   "execution_count": 65,
   "metadata": {},
   "outputs": [
    {
     "name": "stdout",
     "output_type": "stream",
     "text": [
      "Generated function name: _llm_fibonacci_sequence_\n",
      "Function attached to symbol: True\n"
     ]
    }
   ],
   "source": [
    "sym_task = Symbol(\"Calculate the fibonacci sequence up to 10 numbers\")\n",
    "func_name = sym_task.expand()\n",
    "print(f\"Generated function name: {func_name}\")\n",
    "print(f\"Function attached to symbol: {hasattr(sym_task, func_name)}\")"
   ]
  },
  {
   "cell_type": "markdown",
   "metadata": {},
   "source": [
    "## 21. Output Processing Operations\n",
    "\n",
    "### Output Handling (`output`)"
   ]
  },
  {
   "cell_type": "code",
   "execution_count": 66,
   "metadata": {},
   "outputs": [
    {
     "name": "stdout",
     "output_type": "stream",
     "text": [
      "Basic output:\n",
      " {'result': 'None', 'processed': \"symbol_value: 'Hello, output test!'\\nsymbol_kwargs: {'static_context': ''}\", 'args': '[]', 'kwargs': '{}'}\n",
      "Custom handler output:\n",
      " {'result': 'None', 'processed': \"symbol_value: 'Hello, output test!'\\nsymbol_kwargs: {'static_context': ''}\\nmethod_kwargs: {'handler': <function custom_handler at 0x30a60fce0>}\", 'args': '[]', 'kwargs': '{}'}\n",
      "Output with args:\n",
      " {'result': 'None', 'processed': \"symbol_value: 'Hello, output test!'\\nsymbol_kwargs: {'static_context': ''}\\nmethod_args: ('arg1', 'arg2')\\nmethod_kwargs: {'custom_param': 'value'}\", 'args': '[]', 'kwargs': '{}'}\n"
     ]
    }
   ],
   "source": [
    "sym_test = Symbol(\"Hello, output test!\")\n",
    "\n",
    "# Basic output processing\n",
    "result = sym_test.output()\n",
    "print(f\"Basic output:\\n {result}\")\n",
    "\n",
    "# Custom handler function\n",
    "def custom_handler(input_dict):\n",
    "    return f\"Custom processed: {input_dict}\"\n",
    "\n",
    "result_with_handler = sym_test.output(handler=custom_handler)\n",
    "print(f\"Custom handler output:\\n {result_with_handler}\")\n",
    "\n",
    "# With additional arguments\n",
    "result_with_args = sym_test.output(\"arg1\", \"arg2\", custom_param=\"value\")\n",
    "print(f\"Output with args:\\n {result_with_args}\")"
   ]
  },
  {
   "cell_type": "code",
   "execution_count": null,
   "metadata": {},
   "outputs": [],
   "source": []
  }
 ],
 "metadata": {
  "kernelspec": {
   "display_name": "Python 3 (ipykernel)",
   "language": "python",
   "name": "python3"
  },
  "language_info": {
   "codemirror_mode": {
    "name": "ipython",
    "version": 3
   },
   "file_extension": ".py",
   "mimetype": "text/x-python",
   "name": "python",
   "nbconvert_exporter": "python",
   "pygments_lexer": "ipython3",
   "version": "3.12.9"
  }
 },
 "nbformat": 4,
 "nbformat_minor": 4
}
